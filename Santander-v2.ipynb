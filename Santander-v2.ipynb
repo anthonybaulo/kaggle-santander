{
 "cells": [
  {
   "cell_type": "code",
   "execution_count": 2,
   "metadata": {},
   "outputs": [],
   "source": [
    "from fastai import *\n",
    "from fastai.tabular import *"
   ]
  },
  {
   "cell_type": "code",
   "execution_count": 3,
   "metadata": {},
   "outputs": [],
   "source": [
    "path = Path('data')"
   ]
  },
  {
   "cell_type": "code",
   "execution_count": 5,
   "metadata": {},
   "outputs": [],
   "source": [
    "df = pd.read_csv(path/'train.csv')"
   ]
  },
  {
   "cell_type": "code",
   "execution_count": 6,
   "metadata": {},
   "outputs": [],
   "source": [
    "df_test = pd.read_csv(path/'test.csv')"
   ]
  },
  {
   "cell_type": "code",
   "execution_count": 23,
   "metadata": {
    "collapsed": true
   },
   "outputs": [
    {
     "data": {
      "text/html": [
       "<div>\n",
       "<style scoped>\n",
       "    .dataframe tbody tr th:only-of-type {\n",
       "        vertical-align: middle;\n",
       "    }\n",
       "\n",
       "    .dataframe tbody tr th {\n",
       "        vertical-align: top;\n",
       "    }\n",
       "\n",
       "    .dataframe thead th {\n",
       "        text-align: right;\n",
       "    }\n",
       "</style>\n",
       "<table border=\"1\" class=\"dataframe\">\n",
       "  <thead>\n",
       "    <tr style=\"text-align: right;\">\n",
       "      <th></th>\n",
       "      <th>ID_code</th>\n",
       "      <th>target</th>\n",
       "      <th>var_0</th>\n",
       "      <th>var_1</th>\n",
       "      <th>var_2</th>\n",
       "      <th>var_3</th>\n",
       "      <th>var_4</th>\n",
       "      <th>var_5</th>\n",
       "      <th>var_6</th>\n",
       "      <th>var_7</th>\n",
       "      <th>...</th>\n",
       "      <th>var_190</th>\n",
       "      <th>var_191</th>\n",
       "      <th>var_192</th>\n",
       "      <th>var_193</th>\n",
       "      <th>var_194</th>\n",
       "      <th>var_195</th>\n",
       "      <th>var_196</th>\n",
       "      <th>var_197</th>\n",
       "      <th>var_198</th>\n",
       "      <th>var_199</th>\n",
       "    </tr>\n",
       "  </thead>\n",
       "  <tbody>\n",
       "    <tr>\n",
       "      <th>0</th>\n",
       "      <td>train_0</td>\n",
       "      <td>0</td>\n",
       "      <td>8.9255</td>\n",
       "      <td>-6.7863</td>\n",
       "      <td>11.9081</td>\n",
       "      <td>5.0930</td>\n",
       "      <td>11.4607</td>\n",
       "      <td>-9.2834</td>\n",
       "      <td>5.1187</td>\n",
       "      <td>18.6266</td>\n",
       "      <td>...</td>\n",
       "      <td>4.4354</td>\n",
       "      <td>3.9642</td>\n",
       "      <td>3.1364</td>\n",
       "      <td>1.6910</td>\n",
       "      <td>18.5227</td>\n",
       "      <td>-2.3978</td>\n",
       "      <td>7.8784</td>\n",
       "      <td>8.5635</td>\n",
       "      <td>12.7803</td>\n",
       "      <td>-1.0914</td>\n",
       "    </tr>\n",
       "    <tr>\n",
       "      <th>1</th>\n",
       "      <td>train_1</td>\n",
       "      <td>0</td>\n",
       "      <td>11.5006</td>\n",
       "      <td>-4.1473</td>\n",
       "      <td>13.8588</td>\n",
       "      <td>5.3890</td>\n",
       "      <td>12.3622</td>\n",
       "      <td>7.0433</td>\n",
       "      <td>5.6208</td>\n",
       "      <td>16.5338</td>\n",
       "      <td>...</td>\n",
       "      <td>7.6421</td>\n",
       "      <td>7.7214</td>\n",
       "      <td>2.5837</td>\n",
       "      <td>10.9516</td>\n",
       "      <td>15.4305</td>\n",
       "      <td>2.0339</td>\n",
       "      <td>8.1267</td>\n",
       "      <td>8.7889</td>\n",
       "      <td>18.3560</td>\n",
       "      <td>1.9518</td>\n",
       "    </tr>\n",
       "    <tr>\n",
       "      <th>2</th>\n",
       "      <td>train_2</td>\n",
       "      <td>0</td>\n",
       "      <td>8.6093</td>\n",
       "      <td>-2.7457</td>\n",
       "      <td>12.0805</td>\n",
       "      <td>7.8928</td>\n",
       "      <td>10.5825</td>\n",
       "      <td>-9.0837</td>\n",
       "      <td>6.9427</td>\n",
       "      <td>14.6155</td>\n",
       "      <td>...</td>\n",
       "      <td>2.9057</td>\n",
       "      <td>9.7905</td>\n",
       "      <td>1.6704</td>\n",
       "      <td>1.6858</td>\n",
       "      <td>21.6042</td>\n",
       "      <td>3.1417</td>\n",
       "      <td>-6.5213</td>\n",
       "      <td>8.2675</td>\n",
       "      <td>14.7222</td>\n",
       "      <td>0.3965</td>\n",
       "    </tr>\n",
       "    <tr>\n",
       "      <th>3</th>\n",
       "      <td>train_3</td>\n",
       "      <td>0</td>\n",
       "      <td>11.0604</td>\n",
       "      <td>-2.1518</td>\n",
       "      <td>8.9522</td>\n",
       "      <td>7.1957</td>\n",
       "      <td>12.5846</td>\n",
       "      <td>-1.8361</td>\n",
       "      <td>5.8428</td>\n",
       "      <td>14.9250</td>\n",
       "      <td>...</td>\n",
       "      <td>4.4666</td>\n",
       "      <td>4.7433</td>\n",
       "      <td>0.7178</td>\n",
       "      <td>1.4214</td>\n",
       "      <td>23.0347</td>\n",
       "      <td>-1.2706</td>\n",
       "      <td>-2.9275</td>\n",
       "      <td>10.2922</td>\n",
       "      <td>17.9697</td>\n",
       "      <td>-8.9996</td>\n",
       "    </tr>\n",
       "    <tr>\n",
       "      <th>4</th>\n",
       "      <td>train_4</td>\n",
       "      <td>0</td>\n",
       "      <td>9.8369</td>\n",
       "      <td>-1.4834</td>\n",
       "      <td>12.8746</td>\n",
       "      <td>6.6375</td>\n",
       "      <td>12.2772</td>\n",
       "      <td>2.4486</td>\n",
       "      <td>5.9405</td>\n",
       "      <td>19.2514</td>\n",
       "      <td>...</td>\n",
       "      <td>-1.4905</td>\n",
       "      <td>9.5214</td>\n",
       "      <td>-0.1508</td>\n",
       "      <td>9.1942</td>\n",
       "      <td>13.2876</td>\n",
       "      <td>-1.5121</td>\n",
       "      <td>3.9267</td>\n",
       "      <td>9.5031</td>\n",
       "      <td>17.9974</td>\n",
       "      <td>-8.8104</td>\n",
       "    </tr>\n",
       "  </tbody>\n",
       "</table>\n",
       "<p>5 rows × 202 columns</p>\n",
       "</div>"
      ],
      "text/plain": [
       "   ID_code  target    var_0   var_1    var_2   var_3    var_4   var_5   var_6  \\\n",
       "0  train_0       0   8.9255 -6.7863  11.9081  5.0930  11.4607 -9.2834  5.1187   \n",
       "1  train_1       0  11.5006 -4.1473  13.8588  5.3890  12.3622  7.0433  5.6208   \n",
       "2  train_2       0   8.6093 -2.7457  12.0805  7.8928  10.5825 -9.0837  6.9427   \n",
       "3  train_3       0  11.0604 -2.1518   8.9522  7.1957  12.5846 -1.8361  5.8428   \n",
       "4  train_4       0   9.8369 -1.4834  12.8746  6.6375  12.2772  2.4486  5.9405   \n",
       "\n",
       "     var_7  ...  var_190  var_191  var_192  var_193  var_194  var_195  \\\n",
       "0  18.6266  ...   4.4354   3.9642   3.1364   1.6910  18.5227  -2.3978   \n",
       "1  16.5338  ...   7.6421   7.7214   2.5837  10.9516  15.4305   2.0339   \n",
       "2  14.6155  ...   2.9057   9.7905   1.6704   1.6858  21.6042   3.1417   \n",
       "3  14.9250  ...   4.4666   4.7433   0.7178   1.4214  23.0347  -1.2706   \n",
       "4  19.2514  ...  -1.4905   9.5214  -0.1508   9.1942  13.2876  -1.5121   \n",
       "\n",
       "   var_196  var_197  var_198  var_199  \n",
       "0   7.8784   8.5635  12.7803  -1.0914  \n",
       "1   8.1267   8.7889  18.3560   1.9518  \n",
       "2  -6.5213   8.2675  14.7222   0.3965  \n",
       "3  -2.9275  10.2922  17.9697  -8.9996  \n",
       "4   3.9267   9.5031  17.9974  -8.8104  \n",
       "\n",
       "[5 rows x 202 columns]"
      ]
     },
     "execution_count": 23,
     "metadata": {},
     "output_type": "execute_result"
    }
   ],
   "source": [
    "df.head()"
   ]
  },
  {
   "cell_type": "code",
   "execution_count": 7,
   "metadata": {},
   "outputs": [],
   "source": [
    "dep_var = 'target'\n",
    "cat_names = []\n",
    "cont_names = [f'var_{i}' for i in range(200)]\n",
    "procs = [FillMissing, Normalize]\n",
    "valid_idx = list(range(150000,199999))"
   ]
  },
  {
   "cell_type": "code",
   "execution_count": 8,
   "metadata": {},
   "outputs": [],
   "source": [
    "test = TabularList.from_df(df_test, path=path, cat_names=cat_names, cont_names=cont_names)"
   ]
  },
  {
   "cell_type": "code",
   "execution_count": 9,
   "metadata": {},
   "outputs": [],
   "source": [
    "data = (TabularList.from_df(df, path=path, cat_names=cat_names, cont_names=cont_names, procs=procs)\n",
    "                           .random_split_by_pct(0.15)\n",
    "                           .label_from_df(cols=dep_var)\n",
    "                           .add_test(test)\n",
    "                           .databunch())"
   ]
  },
  {
   "cell_type": "code",
   "execution_count": 13,
   "metadata": {},
   "outputs": [],
   "source": [
    "learn = tabular_learner(data, layers=[50,25], ps=0.4, metrics=accuracy)"
   ]
  },
  {
   "cell_type": "code",
   "execution_count": 47,
   "metadata": {},
   "outputs": [
    {
     "data": {
      "text/html": [],
      "text/plain": [
       "<IPython.core.display.HTML object>"
      ]
     },
     "metadata": {},
     "output_type": "display_data"
    },
    {
     "name": "stdout",
     "output_type": "stream",
     "text": [
      "LR Finder is complete, type {learner_name}.recorder.plot() to see the graph.\n",
      "Min numerical gradient: 1.20E-01\n"
     ]
    },
    {
     "data": {
      "image/png": "[encoded data removed]",
      "text/plain": [
       "<Figure size 432x288 with 1 Axes>"
      ]
     },
     "metadata": {
      "needs_background": "light"
     },
     "output_type": "display_data"
    }
   ],
   "source": [
    "learn.lr_find()\n",
    "learn.recorder.plot()"
   ]
  },
  {
   "cell_type": "code",
   "execution_count": 48,
   "metadata": {},
   "outputs": [
    {
     "data": {
      "text/html": [
       "Total time: 02:26 <p><table border=\"1\" class=\"dataframe\">\n",
       "  <thead>\n",
       "    <tr style=\"text-align: left;\">\n",
       "      <th>epoch</th>\n",
       "      <th>train_loss</th>\n",
       "      <th>valid_loss</th>\n",
       "      <th>accuracy</th>\n",
       "    </tr>\n",
       "  </thead>\n",
       "  <tbody>\n",
       "    <tr>\n",
       "      <td>1</td>\n",
       "      <td>0.296624</td>\n",
       "      <td>0.572518</td>\n",
       "      <td>0.900467</td>\n",
       "    </tr>\n",
       "    <tr>\n",
       "      <td>2</td>\n",
       "      <td>0.289004</td>\n",
       "      <td>0.261413</td>\n",
       "      <td>0.906933</td>\n",
       "    </tr>\n",
       "    <tr>\n",
       "      <td>3</td>\n",
       "      <td>0.299661</td>\n",
       "      <td>11.183142</td>\n",
       "      <td>0.900400</td>\n",
       "    </tr>\n",
       "    <tr>\n",
       "      <td>4</td>\n",
       "      <td>0.307622</td>\n",
       "      <td>0.275528</td>\n",
       "      <td>0.900800</td>\n",
       "    </tr>\n",
       "    <tr>\n",
       "      <td>5</td>\n",
       "      <td>0.291802</td>\n",
       "      <td>0.338937</td>\n",
       "      <td>0.899600</td>\n",
       "    </tr>\n",
       "  </tbody>\n",
       "</table>"
      ],
      "text/plain": [
       "<IPython.core.display.HTML object>"
      ]
     },
     "metadata": {},
     "output_type": "display_data"
    }
   ],
   "source": [
    "learn.fit(5, 1.20E-01)"
   ]
  },
  {
   "cell_type": "code",
   "execution_count": 39,
   "metadata": {},
   "outputs": [],
   "source": [
    "learn.save('v2 2-26 3epochs')"
   ]
  },
  {
   "cell_type": "code",
   "execution_count": 14,
   "metadata": {},
   "outputs": [
    {
     "data": {
      "text/plain": [
       "Learner(data=TabularDataBunch;\n",
       "\n",
       "Train: LabelList (170000 items)\n",
       "x: TabularList\n",
       "var_0 -0.5762; var_1 -1.2726; var_2 0.4521; var_3 -0.8337; var_4 0.2373; var_5 -0.5362; var_6 -0.3342; var_7 0.6099; var_8 -1.5591; var_9 -1.4738; var_10 0.4599; var_11 1.0765; var_12 -0.0535; var_13 -1.7142; var_14 0.5630; var_15 -0.0094; var_16 -1.4002; var_17 -0.2285; var_18 -1.3961; var_19 2.2858; var_20 -0.4686; var_21 -0.1249; var_22 -0.6064; var_23 -1.0388; var_24 1.0067; var_25 -0.8219; var_26 -0.1858; var_27 0.4793; var_28 -0.7709; var_29 0.3604; var_30 0.9263; var_31 1.1637; var_32 -1.2990; var_33 0.4899; var_34 -0.4473; var_35 1.3000; var_36 -0.4874; var_37 0.8974; var_38 -1.3954; var_39 0.7901; var_40 0.1787; var_41 -0.3235; var_42 0.5088; var_43 1.5317; var_44 0.4568; var_45 0.2660; var_46 -1.8897; var_47 -0.1651; var_48 0.1170; var_49 -1.4474; var_50 0.2566; var_51 1.9046; var_52 0.3697; var_53 -1.0916; var_54 -0.2240; var_55 0.3676; var_56 -1.5139; var_57 -1.1210; var_58 -0.2702; var_59 1.3869; var_60 0.9552; var_61 1.4547; var_62 0.5934; var_63 -0.2817; var_64 1.5519; var_65 2.2604; var_66 0.0111; var_67 1.4231; var_68 -1.1109; var_69 -0.3465; var_70 -0.2350; var_71 -0.3867; var_72 1.1560; var_73 -1.4404; var_74 1.6733; var_75 0.2527; var_76 -1.0560; var_77 1.1401; var_78 0.5857; var_79 -1.6855; var_80 1.0559; var_81 -0.3825; var_82 0.5691; var_83 0.2290; var_84 -0.3100; var_85 0.7928; var_86 0.4764; var_87 0.9031; var_88 -0.2816; var_89 -1.5265; var_90 -0.3722; var_91 -1.3576; var_92 -0.3934; var_93 -1.0389; var_94 1.3860; var_95 0.4278; var_96 -0.6376; var_97 -0.1790; var_98 0.5892; var_99 -1.4307; var_100 1.7496; var_101 -0.0215; var_102 0.4914; var_103 -0.6925; var_104 1.6218; var_105 2.1021; var_106 0.4880; var_107 -0.0825; var_108 -0.6678; var_109 1.3559; var_110 -0.9102; var_111 0.4138; var_112 0.3728; var_113 -1.9359; var_114 -0.5654; var_115 -0.2685; var_116 0.0916; var_117 -0.0412; var_118 -0.9255; var_119 1.0154; var_120 -0.7021; var_121 -0.9253; var_122 -0.0576; var_123 -1.0261; var_124 -0.0191; var_125 -1.5272; var_126 0.8456; var_127 -0.5053; var_128 -0.2459; var_129 -0.0040; var_130 0.6876; var_131 -0.4082; var_132 1.2709; var_133 -0.6548; var_134 1.6206; var_135 0.9701; var_136 0.6261; var_137 1.5529; var_138 0.3533; var_139 1.0280; var_140 1.0020; var_141 -1.2656; var_142 1.2428; var_143 -0.3639; var_144 0.0562; var_145 0.9037; var_146 0.4858; var_147 -1.7758; var_148 0.1907; var_149 1.2148; var_150 0.6904; var_151 0.1613; var_152 0.4569; var_153 -0.0165; var_154 0.7082; var_155 0.6469; var_156 -1.0842; var_157 -1.4925; var_158 -0.0404; var_159 0.3192; var_160 -0.8103; var_161 -1.4671; var_162 -1.2306; var_163 -1.1340; var_164 1.7485; var_165 -1.3244; var_166 -0.7120; var_167 0.4434; var_168 1.5013; var_169 -0.4000; var_170 -1.0779; var_171 -1.4105; var_172 0.1218; var_173 0.6417; var_174 -0.2302; var_175 -1.3496; var_176 -0.9737; var_177 0.6979; var_178 -0.2928; var_179 -0.3119; var_180 -1.0744; var_181 -0.7785; var_182 0.2605; var_183 1.2509; var_184 1.4041; var_185 2.0876; var_186 0.9023; var_187 -0.8100; var_188 0.5558; var_189 -0.1643; var_190 0.2629; var_191 -1.1489; var_192 0.8180; var_193 -0.4092; var_194 0.1684; var_195 -1.5775; var_196 1.0231; var_197 -0.3728; var_198 -1.0268; var_199 0.2139; ,var_0 0.2709; var_1 -0.6215; var_2 1.1906; var_3 -0.6889; var_4 0.7925; var_5 1.5400; var_6 0.2451; var_7 -0.0028; var_8 0.8586; var_9 0.4193; var_10 -0.1452; var_11 1.8931; var_12 0.0001; var_13 -0.0243; var_14 -0.9345; var_15 -2.1182; var_16 1.7566; var_17 -1.4720; var_18 -0.9479; var_19 2.0177; var_20 -1.6774; var_21 -1.7709; var_22 1.4884; var_23 0.6688; var_24 -0.9546; var_25 0.7819; var_26 -1.3037; var_27 -0.9321; var_28 -0.6229; var_29 -1.7223; var_30 -0.2022; var_31 -1.1655; var_32 0.6958; var_33 1.0635; var_34 -0.1183; var_35 -0.5990; var_36 0.1939; var_37 -0.0109; var_38 0.0415; var_39 0.7419; var_40 -0.5310; var_41 -1.2499; var_42 -1.9326; var_43 0.6906; var_44 -1.3033; var_45 -1.6186; var_46 -1.3827; var_47 1.1957; var_48 1.7318; var_49 1.1467; var_50 -1.3118; var_51 -0.0271; var_52 -0.3155; var_53 0.8894; var_54 -1.0974; var_55 1.0301; var_56 0.7587; var_57 0.9305; var_58 -0.2928; var_59 -0.0728; var_60 -0.9795; var_61 0.4056; var_62 0.4539; var_63 -0.6347; var_64 1.1678; var_65 0.1474; var_66 -0.3501; var_67 -0.5451; var_68 0.4332; var_69 1.4046; var_70 1.3488; var_71 -0.5851; var_72 0.6416; var_73 0.0663; var_74 -0.8308; var_75 -1.6171; var_76 -0.3492; var_77 1.1590; var_78 0.0777; var_79 -0.4749; var_80 -0.4366; var_81 1.5036; var_82 0.4513; var_83 -0.7064; var_84 -0.4649; var_85 -1.1718; var_86 -2.4775; var_87 -0.0432; var_88 -0.3202; var_89 2.3887; var_90 1.2963; var_91 -0.6722; var_92 -1.1111; var_93 0.7496; var_94 0.2729; var_95 -1.9126; var_96 1.2185; var_97 0.6461; var_98 0.1982; var_99 0.7737; var_100 -0.7722; var_101 -1.0115; var_102 1.5278; var_103 0.7602; var_104 1.8633; var_105 -1.8947; var_106 -0.6741; var_107 1.8829; var_108 -1.5761; var_109 -1.2335; var_110 0.2911; var_111 0.7328; var_112 1.2766; var_113 0.0902; var_114 0.5419; var_115 0.7419; var_116 0.3907; var_117 -0.6221; var_118 -0.7080; var_119 1.0721; var_120 0.5838; var_121 -1.0566; var_122 1.3688; var_123 0.5011; var_124 -1.5171; var_125 0.3288; var_126 1.7643; var_127 0.5053; var_128 0.6009; var_129 0.2592; var_130 0.1968; var_131 -1.5848; var_132 -1.4048; var_133 0.6349; var_134 1.0996; var_135 -0.6214; var_136 -1.2693; var_137 0.0617; var_138 -0.7004; var_139 1.0933; var_140 0.0551; var_141 0.5642; var_142 -2.1611; var_143 -0.0182; var_144 -0.0417; var_145 1.5973; var_146 -0.5624; var_147 2.0311; var_148 1.3409; var_149 -0.9352; var_150 1.5478; var_151 1.1943; var_152 0.5987; var_153 -0.0027; var_154 -1.5180; var_155 0.3924; var_156 -1.0141; var_157 -0.8760; var_158 0.5675; var_159 0.0969; var_160 0.4787; var_161 1.0802; var_162 -1.0862; var_163 0.9193; var_164 -0.3917; var_165 -0.8329; var_166 0.6399; var_167 1.7288; var_168 -0.3387; var_169 0.4442; var_170 1.2506; var_171 1.1043; var_172 0.2550; var_173 1.0373; var_174 1.4098; var_175 -0.3969; var_176 -0.5894; var_177 1.7795; var_178 -0.7392; var_179 3.0336; var_180 -0.5404; var_181 -0.4349; var_182 -1.7432; var_183 0.1455; var_184 1.0505; var_185 -0.1855; var_186 -0.4107; var_187 -0.4830; var_188 -0.5238; var_189 -1.1304; var_190 0.9667; var_191 0.0942; var_192 0.4440; var_193 1.9067; var_194 -0.8181; var_195 1.5201; var_196 1.0686; var_197 -0.1280; var_198 0.8243; var_199 0.5051; ,var_0 -0.6802; var_1 -0.2756; var_2 0.5174; var_3 0.5355; var_4 -0.3036; var_5 -0.5108; var_6 1.7700; var_7 -0.5644; var_8 -1.5589; var_9 -1.3074; var_10 -0.1309; var_11 -1.3427; var_12 0.8889; var_13 -0.2617; var_14 -0.0043; var_15 0.1801; var_16 -0.6462; var_17 0.5909; var_18 -1.3430; var_19 1.0053; var_20 0.7597; var_21 0.1094; var_22 -1.0850; var_23 0.9384; var_24 -1.2990; var_25 -1.5733; var_26 -0.6663; var_27 -1.1580; var_28 0.3992; var_29 0.4167; var_30 -0.4286; var_31 0.9699; var_32 -0.6848; var_33 0.9875; var_34 -0.7188; var_35 0.0512; var_36 0.8028; var_37 0.4741; var_38 0.0592; var_39 0.0591; var_40 -0.8212; var_41 -1.1875; var_42 0.4393; var_43 1.5188; var_44 -0.8198; var_45 0.2244; var_46 -0.0642; var_47 0.6308; var_48 0.5318; var_49 -1.2485; var_50 0.2492; var_51 0.7495; var_52 0.6548; var_53 0.5199; var_54 0.9718; var_55 -1.1355; var_56 -0.2809; var_57 -0.5699; var_58 -0.4840; var_59 0.2981; var_60 0.1061; var_61 0.1364; var_62 0.0002; var_63 1.6514; var_64 -1.7861; var_65 -0.5498; var_66 1.4040; var_67 -0.2841; var_68 0.5445; var_69 -0.6198; var_70 -1.8481; var_71 0.6847; var_72 1.4494; var_73 -0.9967; var_74 0.0160; var_75 0.4285; var_76 -0.1939; var_77 1.0949; var_78 0.4850; var_79 -1.2219; var_80 0.2258; var_81 0.4621; var_82 1.9817; var_83 1.1017; var_84 1.2940; var_85 0.1815; var_86 -1.3002; var_87 -0.3182; var_88 1.2859; var_89 -0.4445; var_90 -0.4449; var_91 0.6589; var_92 0.3403; var_93 -0.0880; var_94 1.1768; var_95 0.5623; var_96 0.7042; var_97 -0.1174; var_98 -0.0760; var_99 0.3868; var_100 0.6754; var_101 -0.1584; var_102 -0.8600; var_103 -0.9890; var_104 1.7831; var_105 -0.2870; var_106 -1.7155; var_107 -1.2050; var_108 -0.1658; var_109 0.4433; var_110 -0.5965; var_111 -0.5635; var_112 0.7570; var_113 -1.3349; var_114 0.0481; var_115 0.2639; var_116 -0.7456; var_117 0.9509; var_118 -1.3636; var_119 -0.2201; var_120 -0.2769; var_121 -1.3744; var_122 0.3069; var_123 -1.5060; var_124 -0.2123; var_125 -0.0765; var_126 1.2848; var_127 -1.0848; var_128 0.0555; var_129 0.3981; var_130 -0.8598; var_131 -0.9808; var_132 0.6988; var_133 -0.5063; var_134 1.4202; var_135 -0.9797; var_136 0.1530; var_137 -0.2282; var_138 0.5713; var_139 0.1178; var_140 0.8086; var_141 -0.7952; var_142 -0.3104; var_143 -1.6530; var_144 0.5020; var_145 -0.1232; var_146 0.4571; var_147 0.6822; var_148 0.4047; var_149 -0.6317; var_150 -1.0087; var_151 -0.5379; var_152 -1.0755; var_153 -1.2831; var_154 -2.4457; var_155 0.4597; var_156 1.3883; var_157 0.5469; var_158 2.0253; var_159 0.3342; var_160 -1.0171; var_161 0.9696; var_162 -0.4610; var_163 -1.0055; var_164 0.3355; var_165 0.2366; var_166 0.8527; var_167 -0.1851; var_168 0.7672; var_169 0.3606; var_170 -1.6041; var_171 -0.5711; var_172 -1.4478; var_173 -0.8629; var_174 0.7676; var_175 -0.2505; var_176 0.3315; var_177 -1.1555; var_178 -1.0135; var_179 -0.0683; var_180 -0.2935; var_181 -0.5056; var_182 -1.5598; var_183 -1.2562; var_184 1.1087; var_185 -0.2782; var_186 -1.1256; var_187 0.3522; var_188 -1.3161; var_189 -1.6277; var_190 -0.0729; var_191 0.7788; var_192 -0.1742; var_193 -0.4105; var_194 1.1514; var_195 2.2945; var_196 -1.6156; var_197 -0.6942; var_198 -0.3821; var_199 0.3562; ,var_0 0.1261; var_1 -0.1291; var_2 -0.6669; var_3 0.1946; var_4 0.9295; var_5 0.4108; var_6 0.5012; var_7 -0.4738; var_8 -1.8411; var_9 0.5488; var_10 0.3473; var_11 1.0142; var_12 -0.9339; var_13 0.7425; var_14 -0.4794; var_15 0.6413; var_16 0.5513; var_17 0.7860; var_18 0.0903; var_19 0.1606; var_20 1.1926; var_21 -0.5720; var_22 0.8809; var_23 -0.5620; var_24 0.4114; var_25 0.2422; var_26 0.8211; var_27 0.1522; var_28 0.4767; var_29 -0.8460; var_30 -0.9479; var_31 0.0227; var_32 -0.7954; var_33 -1.9878; var_34 -1.5231; var_35 -1.8836; var_36 1.9178; var_37 -1.3404; var_38 -0.3422; var_39 0.0017; var_40 0.3489; var_41 -1.7400; var_42 0.7966; var_43 -0.9272; var_44 -0.1514; var_45 -0.5589; var_46 0.4955; var_47 -2.1440; var_48 -1.2249; var_49 -1.0581; var_50 -0.0848; var_51 -0.4759; var_52 0.8680; var_53 -1.0452; var_54 0.8267; var_55 -0.0606; var_56 -0.6102; var_57 0.3932; var_58 0.0322; var_59 0.6236; var_60 0.8604; var_61 -1.1232; var_62 1.2666; var_63 -1.6230; var_64 1.5328; var_65 1.4082; var_66 -0.1526; var_67 1.5836; var_68 0.4332; var_69 -0.1691; var_70 -1.7071; var_71 -1.5729; var_72 0.1554; var_73 0.6440; var_74 -1.0615; var_75 -0.2355; var_76 0.7101; var_77 1.1970; var_78 -0.6384; var_79 0.6660; var_80 -0.6736; var_81 -1.8150; var_82 0.5990; var_83 -0.7629; var_84 0.6741; var_85 -0.1001; var_86 -1.0242; var_87 0.7566; var_88 -1.6662; var_89 1.0742; var_90 0.6827; var_91 0.3187; var_92 0.3981; var_93 0.4117; var_94 -1.3392; var_95 -1.6240; var_96 -0.3566; var_97 -0.0294; var_98 1.5113; var_99 1.4468; var_100 -1.4430; var_101 1.8404; var_102 -0.4278; var_103 -1.1738; var_104 -1.1054; var_105 0.0446; var_106 0.9357; var_107 -1.4076; var_108 0.5899; var_109 -0.9286; var_110 -0.3210; var_111 0.6125; var_112 -1.0513; var_113 0.7965; var_114 -0.5125; var_115 -1.8160; var_116 1.7835; var_117 1.6534; var_118 1.0076; var_119 0.4954; var_120 0.4991; var_121 -0.0059; var_122 0.5359; var_123 -2.4938; var_124 -0.5738; var_125 -0.4575; var_126 -0.8486; var_127 -0.7076; var_128 1.4582; var_129 -0.3594; var_130 2.4573; var_131 1.1041; var_132 0.7892; var_133 1.0190; var_134 0.5883; var_135 0.8158; var_136 0.4436; var_137 0.7877; var_138 -0.8873; var_139 0.1588; var_140 0.0947; var_141 1.9474; var_142 -0.3458; var_143 -1.5322; var_144 1.4353; var_145 -0.4924; var_146 0.0628; var_147 1.0056; var_148 -1.1529; var_149 -0.2817; var_150 0.5201; var_151 1.7752; var_152 0.0060; var_153 0.7533; var_154 2.0274; var_155 -1.5376; var_156 -1.2150; var_157 0.6450; var_158 0.2604; var_159 0.5247; var_160 0.6992; var_161 1.5397; var_162 1.2996; var_163 -1.3524; var_164 -1.5043; var_165 -0.4119; var_166 -1.0157; var_167 0.1862; var_168 -1.4068; var_169 -0.7920; var_170 -1.6180; var_171 -0.9952; var_172 -0.1825; var_173 2.0765; var_174 -0.7646; var_175 -1.2254; var_176 1.9522; var_177 0.7857; var_178 -1.1032; var_179 1.1100; var_180 -0.1911; var_181 -1.2192; var_182 0.1304; var_183 -0.3384; var_184 -1.4181; var_185 0.8331; var_186 -0.3231; var_187 -0.2148; var_188 -0.7533; var_189 1.1308; var_190 0.2697; var_191 -0.8912; var_192 -0.8189; var_193 -0.4766; var_194 1.6077; var_195 -0.7896; var_196 -0.9570; var_197 1.5044; var_198 0.6961; var_199 -0.5429; ,var_0 -0.2764; var_1 0.0358; var_2 0.8180; var_3 -0.0784; var_4 0.7402; var_5 0.9557; var_6 0.6139; var_7 0.7928; var_8 1.7933; var_9 0.0900; var_10 -1.7890; var_11 -1.4896; var_12 -0.9244; var_13 -0.1373; var_14 0.1137; var_15 1.1707; var_16 -0.3302; var_17 0.3929; var_18 -1.1103; var_19 -0.1409; var_20 1.3838; var_21 0.2099; var_22 2.0347; var_23 -0.5785; var_24 0.9603; var_25 -0.4344; var_26 1.2197; var_27 -1.4463; var_28 0.4697; var_29 1.1014; var_30 0.5686; var_31 -0.4284; var_32 0.1957; var_33 1.0526; var_34 1.7935; var_35 -0.6196; var_36 0.1915; var_37 -0.0220; var_38 2.0248; var_39 0.1930; var_40 0.1355; var_41 0.8037; var_42 0.9979; var_43 -0.1916; var_44 -0.3444; var_45 -2.4640; var_46 0.8892; var_47 1.1815; var_48 -1.3036; var_49 -0.2888; var_50 0.8462; var_51 -0.3617; var_52 0.2206; var_53 -0.3307; var_54 -1.1505; var_55 0.2474; var_56 0.0991; var_57 -0.1152; var_58 -0.2849; var_59 0.3208; var_60 -0.8260; var_61 -1.3573; var_62 -0.6757; var_63 -0.7853; var_64 -0.7422; var_65 -1.4004; var_66 1.0644; var_67 -1.4025; var_68 1.5600; var_69 0.0218; var_70 1.3120; var_71 0.3911; var_72 -0.3459; var_73 -2.0127; var_74 -1.7039; var_75 1.0732; var_76 -0.6316; var_77 0.0262; var_78 0.9137; var_79 -0.0067; var_80 -0.3810; var_81 -0.6022; var_82 -0.6834; var_83 -0.9337; var_84 1.6857; var_85 -0.9826; var_86 0.1872; var_87 1.5575; var_88 -0.2788; var_89 0.0192; var_90 -1.7687; var_91 0.1228; var_92 -0.8069; var_93 -0.2286; var_94 1.1021; var_95 0.1704; var_96 0.0381; var_97 1.3273; var_98 -0.0952; var_99 0.7617; var_100 -1.7768; var_101 -0.2141; var_102 -0.5753; var_103 0.6776; var_104 -2.2260; var_105 1.1072; var_106 0.1081; var_107 -0.9372; var_108 -0.8239; var_109 2.2543; var_110 -1.4931; var_111 -0.3212; var_112 -1.4133; var_113 -0.0333; var_114 -0.1701; var_115 -2.2234; var_116 -0.5646; var_117 0.7189; var_118 2.1733; var_119 0.4115; var_120 1.3689; var_121 0.8178; var_122 0.7937; var_123 0.4305; var_124 -0.1232; var_125 -1.1257; var_126 -0.7991; var_127 1.9813; var_128 2.0922; var_129 -1.0948; var_130 -0.9984; var_131 0.8753; var_132 -0.0335; var_133 -0.5218; var_134 -0.3242; var_135 1.4083; var_136 -0.5571; var_137 0.9235; var_138 0.3206; var_139 0.8060; var_140 0.6545; var_141 -1.0861; var_142 -0.0470; var_143 1.2864; var_144 -1.0398; var_145 1.1057; var_146 0.4863; var_147 -1.2679; var_148 -1.1725; var_149 0.4438; var_150 1.3515; var_151 -2.2307; var_152 -0.5936; var_153 1.5377; var_154 -0.4563; var_155 2.1997; var_156 -0.2181; var_157 -1.3982; var_158 1.1626; var_159 -0.5183; var_160 0.8487; var_161 0.2862; var_162 0.0727; var_163 1.3730; var_164 1.7304; var_165 0.3861; var_166 0.7213; var_167 0.3050; var_168 -0.5814; var_169 -0.2271; var_170 0.3265; var_171 -0.3389; var_172 -0.0017; var_173 0.5105; var_174 -0.2433; var_175 1.6208; var_176 -0.0722; var_177 0.6227; var_178 0.3178; var_179 0.9234; var_180 -0.9393; var_181 -0.2303; var_182 0.4639; var_183 0.7704; var_184 -0.0969; var_185 -0.8271; var_186 -0.7975; var_187 1.4058; var_188 0.1616; var_189 -1.0548; var_190 -1.0378; var_191 0.6897; var_192 -1.4067; var_193 1.4672; var_194 -1.5017; var_195 -0.9584; var_196 0.2990; var_197 0.6475; var_198 0.7053; var_199 -0.5247; \n",
       "y: CategoryList\n",
       "0,0,0,0,0\n",
       "Path: data;\n",
       "\n",
       "Valid: LabelList (30000 items)\n",
       "x: TabularList\n",
       "var_0 2.1122; var_1 -1.7646; var_2 0.3560; var_3 0.4106; var_4 1.2419; var_5 0.2591; var_6 1.2560; var_7 -0.4226; var_8 -1.8051; var_9 -1.3540; var_10 0.9925; var_11 0.9808; var_12 -0.0483; var_13 -0.6830; var_14 0.2944; var_15 -0.2441; var_16 -0.7769; var_17 1.7100; var_18 -1.0988; var_19 -0.4699; var_20 0.8910; var_21 1.0938; var_22 0.0844; var_23 0.9866; var_24 1.1842; var_25 0.0022; var_26 2.3195; var_27 -0.8733; var_28 0.3270; var_29 0.5254; var_30 -0.6733; var_31 -1.2139; var_32 0.5621; var_33 1.3824; var_34 0.0064; var_35 0.6015; var_36 -0.3378; var_37 1.6376; var_38 -0.1186; var_39 -1.4107; var_40 1.3314; var_41 -2.1321; var_42 -1.5138; var_43 -0.6142; var_44 1.0225; var_45 -0.9596; var_46 0.6885; var_47 0.1148; var_48 0.2274; var_49 1.2953; var_50 0.9128; var_51 1.2600; var_52 1.2620; var_53 -0.2607; var_54 -0.7133; var_55 0.6987; var_56 0.8449; var_57 -1.5868; var_58 0.5477; var_59 1.2643; var_60 -0.2862; var_61 -1.5990; var_62 2.6328; var_63 -0.5648; var_64 -0.4195; var_65 -0.5310; var_66 0.3998; var_67 0.4392; var_68 1.5878; var_69 0.2558; var_70 1.2277; var_71 0.1829; var_72 1.0644; var_73 1.2522; var_74 1.2159; var_75 -1.2506; var_76 0.1594; var_77 1.1094; var_78 0.6261; var_79 -0.2544; var_80 0.3682; var_81 -2.4251; var_82 0.1599; var_83 0.7887; var_84 1.6216; var_85 1.2575; var_86 0.4447; var_87 0.0758; var_88 -0.2624; var_89 2.0420; var_90 1.4633; var_91 1.2146; var_92 0.1979; var_93 1.0344; var_94 -0.1592; var_95 -1.2343; var_96 -0.2263; var_97 -0.6971; var_98 0.5525; var_99 -0.8703; var_100 0.6779; var_101 0.4292; var_102 1.6920; var_103 -1.1964; var_104 0.3603; var_105 0.4390; var_106 0.2064; var_107 1.5269; var_108 1.4356; var_109 -2.1265; var_110 -0.3977; var_111 0.1958; var_112 1.0708; var_113 -0.5648; var_114 0.6638; var_115 -0.0810; var_116 -0.9701; var_117 1.1090; var_118 -0.1802; var_119 0.2498; var_120 -2.0746; var_121 1.8627; var_122 -0.9567; var_123 0.3409; var_124 1.6777; var_125 -0.0161; var_126 1.9561; var_127 0.2464; var_128 0.8564; var_129 -0.9460; var_130 0.5352; var_131 0.6017; var_132 1.7729; var_133 1.1610; var_134 -1.8820; var_135 1.8735; var_136 1.8059; var_137 0.4763; var_138 0.7655; var_139 -0.7141; var_140 -0.7716; var_141 -0.3523; var_142 -0.0757; var_143 1.0478; var_144 -0.0799; var_145 0.5745; var_146 -3.0039; var_147 1.4795; var_148 -1.0404; var_149 -0.7058; var_150 -1.9309; var_151 0.3409; var_152 0.1048; var_153 -0.8134; var_154 0.3476; var_155 1.0692; var_156 0.3452; var_157 0.4112; var_158 -0.0756; var_159 1.2004; var_160 0.1496; var_161 -0.3541; var_162 -0.9853; var_163 1.9463; var_164 0.5539; var_165 -0.7381; var_166 -1.1571; var_167 -0.0109; var_168 -0.3318; var_169 -0.0607; var_170 0.2034; var_171 1.0860; var_172 -2.0285; var_173 -0.3179; var_174 -1.4554; var_175 0.5756; var_176 0.3407; var_177 -1.6230; var_178 -0.7120; var_179 1.3940; var_180 1.3529; var_181 0.4983; var_182 -1.4719; var_183 -1.5490; var_184 0.1507; var_185 1.5744; var_186 -0.3802; var_187 -1.6759; var_188 1.2267; var_189 -1.6809; var_190 -0.4977; var_191 -0.5399; var_192 0.6399; var_193 1.0836; var_194 -1.8014; var_195 0.1218; var_196 0.5879; var_197 -1.9092; var_198 1.3301; var_199 1.1677; ,var_0 -0.0844; var_1 -1.0849; var_2 -0.2900; var_3 0.8536; var_4 0.7696; var_5 -0.2190; var_6 -0.6710; var_7 -0.0694; var_8 0.0682; var_9 -0.4816; var_10 2.0337; var_11 -0.9752; var_12 -1.5697; var_13 -1.8017; var_14 0.0220; var_15 0.3204; var_16 -1.5589; var_17 -1.0948; var_18 -0.7310; var_19 -0.0174; var_20 -0.7135; var_21 -0.3133; var_22 0.3755; var_23 0.7995; var_24 1.5269; var_25 0.4667; var_26 -0.9660; var_27 1.5525; var_28 1.7650; var_29 1.1524; var_30 1.2681; var_31 2.4937; var_32 0.5844; var_33 0.2129; var_34 0.7733; var_35 -0.4504; var_36 1.7864; var_37 1.9209; var_38 -1.0233; var_39 1.7635; var_40 -0.2850; var_41 -1.4706; var_42 -1.5086; var_43 0.7723; var_44 -0.0251; var_45 -0.0221; var_46 0.9050; var_47 0.8679; var_48 0.8707; var_49 0.2386; var_50 -0.6630; var_51 -0.2569; var_52 0.6594; var_53 1.4839; var_54 -1.0587; var_55 1.6003; var_56 1.8766; var_57 -0.4051; var_58 0.5193; var_59 0.6311; var_60 -0.1508; var_61 1.2773; var_62 0.5290; var_63 -1.3298; var_64 0.4121; var_65 0.5879; var_66 0.5580; var_67 -0.0729; var_68 1.3096; var_69 -0.2596; var_70 1.3423; var_71 -0.3702; var_72 0.5059; var_73 -1.2323; var_74 -0.2474; var_75 0.0167; var_76 -0.5384; var_77 0.1968; var_78 1.3335; var_79 -1.1696; var_80 1.2137; var_81 -0.2151; var_82 0.1687; var_83 0.8509; var_84 -1.3775; var_85 -0.4329; var_86 0.1442; var_87 1.5418; var_88 0.7957; var_89 -1.7872; var_90 -0.8126; var_91 -0.1498; var_92 0.4993; var_93 1.2371; var_94 0.1735; var_95 -0.1979; var_96 0.6526; var_97 0.4180; var_98 -0.4363; var_99 2.4608; var_100 -0.2953; var_101 0.1061; var_102 2.8651; var_103 -1.0544; var_104 -0.6930; var_105 -0.0328; var_106 0.3652; var_107 1.6723; var_108 1.2720; var_109 1.6356; var_110 -0.2041; var_111 1.3299; var_112 0.4960; var_113 -0.4785; var_114 0.3112; var_115 -1.3139; var_116 -0.2325; var_117 0.5163; var_118 -0.2866; var_119 -0.8509; var_120 -0.2704; var_121 -0.1667; var_122 0.5123; var_123 1.1314; var_124 -0.0964; var_125 -0.4855; var_126 0.9388; var_127 -1.2200; var_128 0.2893; var_129 -0.5009; var_130 -1.8615; var_131 -1.2930; var_132 0.3297; var_133 -0.3899; var_134 0.3247; var_135 -0.9243; var_136 -0.5814; var_137 1.0748; var_138 -0.2318; var_139 0.5025; var_140 0.2284; var_141 -1.7452; var_142 -1.2562; var_143 -0.4369; var_144 0.5316; var_145 -0.1481; var_146 -0.8314; var_147 -0.4856; var_148 -0.8204; var_149 -0.4803; var_150 0.6057; var_151 1.6740; var_152 -0.0127; var_153 -0.8148; var_154 0.7894; var_155 -0.3748; var_156 0.4251; var_157 1.5458; var_158 1.3345; var_159 -1.2016; var_160 0.6989; var_161 -1.1949; var_162 0.9218; var_163 0.8266; var_164 -1.5022; var_165 -0.7625; var_166 -0.6482; var_167 -0.7325; var_168 -0.2929; var_169 0.2448; var_170 0.8026; var_171 -0.0582; var_172 -1.2419; var_173 0.1717; var_174 -2.1243; var_175 1.0198; var_176 -0.3382; var_177 0.9746; var_178 -0.3821; var_179 -0.3884; var_180 0.9951; var_181 -0.8570; var_182 0.8878; var_183 1.1782; var_184 -0.1840; var_185 -2.4153; var_186 -0.4849; var_187 0.1975; var_188 1.6398; var_189 0.9545; var_190 -0.1293; var_191 1.2955; var_192 0.5623; var_193 -1.4913; var_194 -0.5501; var_195 0.6561; var_196 0.4630; var_197 -0.4996; var_198 -0.8353; var_199 -0.1818; ,var_0 -1.1149; var_1 -1.3062; var_2 0.6725; var_3 1.2992; var_4 -0.4421; var_5 -2.4418; var_6 -1.2729; var_7 0.2348; var_8 0.3588; var_9 0.5636; var_10 0.1809; var_11 1.4059; var_12 0.0448; var_13 -0.1887; var_14 -0.1126; var_15 -1.1743; var_16 -0.3432; var_17 -0.4239; var_18 0.1280; var_19 0.8579; var_20 -0.3193; var_21 0.0727; var_22 1.0270; var_23 0.8405; var_24 -0.7285; var_25 1.1677; var_26 -0.5692; var_27 0.1270; var_28 -0.1603; var_29 -1.1954; var_30 0.7942; var_31 0.7901; var_32 1.3630; var_33 0.3177; var_34 -0.9814; var_35 -1.2955; var_36 -1.2681; var_37 0.3750; var_38 0.3838; var_39 -1.7450; var_40 -1.0876; var_41 0.0812; var_42 0.8376; var_43 0.9212; var_44 -0.8544; var_45 -1.0678; var_46 0.9264; var_47 0.3250; var_48 1.0010; var_49 1.5449; var_50 -0.6284; var_51 -1.3805; var_52 -0.4247; var_53 -1.8478; var_54 0.5800; var_55 -1.3815; var_56 0.7377; var_57 0.7778; var_58 -0.1452; var_59 -0.0391; var_60 0.1474; var_61 -0.7373; var_62 -1.4712; var_63 0.3280; var_64 -1.6105; var_65 -2.3854; var_66 1.1945; var_67 0.5434; var_68 1.5044; var_69 -0.3398; var_70 1.7397; var_71 -1.5226; var_72 -1.4109; var_73 1.2715; var_74 -0.9183; var_75 0.8038; var_76 0.6839; var_77 0.9162; var_78 0.5537; var_79 -1.5377; var_80 0.0354; var_81 1.6122; var_82 -1.7882; var_83 0.1390; var_84 -0.8065; var_85 1.5115; var_86 -0.0678; var_87 1.4329; var_88 -0.8301; var_89 -1.4049; var_90 -0.3596; var_91 -0.7554; var_92 0.1654; var_93 -0.5991; var_94 0.5535; var_95 -0.0586; var_96 -0.4428; var_97 0.4703; var_98 -1.3613; var_99 -0.3524; var_100 -0.0518; var_101 -0.9277; var_102 0.9691; var_103 1.4780; var_104 0.7289; var_105 1.4261; var_106 -0.9257; var_107 -1.2599; var_108 0.6261; var_109 -0.4253; var_110 -0.4753; var_111 -1.1556; var_112 1.0792; var_113 1.2866; var_114 -1.1529; var_115 -0.3816; var_116 0.5691; var_117 0.0637; var_118 1.4681; var_119 0.8677; var_120 -1.2758; var_121 0.0305; var_122 -0.9455; var_123 0.4422; var_124 -0.1843; var_125 0.8105; var_126 1.3850; var_127 0.8305; var_128 -0.7635; var_129 1.5146; var_130 -0.2311; var_131 -0.3453; var_132 -0.2423; var_133 0.2959; var_134 -0.9080; var_135 1.1493; var_136 -0.6494; var_137 0.4868; var_138 -1.1510; var_139 -0.5581; var_140 0.8055; var_141 1.0482; var_142 -0.2754; var_143 -1.6943; var_144 0.8090; var_145 0.4557; var_146 -1.4189; var_147 -0.7593; var_148 -1.1625; var_149 -0.6550; var_150 0.5365; var_151 -0.7387; var_152 0.3424; var_153 -0.1296; var_154 -0.9685; var_155 -0.4769; var_156 -0.8282; var_157 0.3038; var_158 -0.8655; var_159 -1.3892; var_160 -0.9316; var_161 -1.2000; var_162 0.9775; var_163 0.3765; var_164 0.6492; var_165 1.3488; var_166 -1.5917; var_167 0.3950; var_168 0.5110; var_169 -0.1922; var_170 1.0031; var_171 -0.7444; var_172 0.0553; var_173 0.0194; var_174 1.1000; var_175 -1.3778; var_176 -0.7194; var_177 -0.5327; var_178 -1.3239; var_179 0.8346; var_180 -0.9243; var_181 0.0931; var_182 -0.0118; var_183 -0.8913; var_184 -1.0424; var_185 -1.0735; var_186 -0.8031; var_187 -1.0907; var_188 -0.2249; var_189 -0.7855; var_190 1.2303; var_191 -1.2108; var_192 0.5526; var_193 -1.0768; var_194 -0.2995; var_195 -1.0488; var_196 1.4802; var_197 -0.2808; var_198 -2.3738; var_199 -0.9090; ,var_0 0.4427; var_1 -0.3241; var_2 1.2727; var_3 1.8570; var_4 -1.6041; var_5 -1.1312; var_6 0.7330; var_7 1.5362; var_8 0.2305; var_9 0.5769; var_10 -1.0012; var_11 0.2416; var_12 0.2189; var_13 0.8180; var_14 1.5747; var_15 0.1282; var_16 0.1782; var_17 -0.7833; var_18 0.0903; var_19 -0.5569; var_20 0.0695; var_21 -0.3440; var_22 -0.3510; var_23 -1.6873; var_24 -0.5817; var_25 -0.1640; var_26 -1.1951; var_27 0.4214; var_28 -0.0665; var_29 0.3396; var_30 -1.2980; var_31 -0.2753; var_32 -0.1377; var_33 -0.1421; var_34 0.2369; var_35 0.5915; var_36 0.1256; var_37 2.2630; var_38 -0.2129; var_39 0.6483; var_40 0.1926; var_41 1.8865; var_42 -2.1713; var_43 -2.2354; var_44 -0.9685; var_45 -0.0645; var_46 -1.9003; var_47 0.3758; var_48 2.0035; var_49 -0.0671; var_50 -1.0128; var_51 1.6967; var_52 1.0437; var_53 0.6884; var_54 -1.1495; var_55 -0.8156; var_56 -0.2291; var_57 -0.3876; var_58 1.2085; var_59 0.0835; var_60 -0.0895; var_61 -1.3785; var_62 -1.9533; var_63 1.5629; var_64 -1.0690; var_65 0.1462; var_66 -0.5860; var_67 0.2762; var_68 -0.5545; var_69 0.9393; var_70 -0.8575; var_71 0.1248; var_72 0.0509; var_73 -0.5580; var_74 0.9482; var_75 0.7291; var_76 -0.5557; var_77 -0.0147; var_78 0.5346; var_79 0.1658; var_80 0.1500; var_81 -0.0301; var_82 -1.0398; var_83 1.3285; var_84 -1.5680; var_85 -0.7144; var_86 0.0744; var_87 1.4547; var_88 0.7305; var_89 -0.2632; var_90 -0.1836; var_91 0.4570; var_92 -1.0466; var_93 -0.8120; var_94 0.6799; var_95 -0.0606; var_96 -0.2640; var_97 0.0033; var_98 -1.0783; var_99 -1.3001; var_100 -0.6368; var_101 0.8085; var_102 -0.4992; var_103 -2.0476; var_104 0.1710; var_105 -0.5634; var_106 1.9395; var_107 1.4816; var_108 -0.3066; var_109 0.8017; var_110 -1.1930; var_111 -1.3257; var_112 0.5607; var_113 1.2041; var_114 1.1338; var_115 -1.4145; var_116 0.5111; var_117 -1.0813; var_118 -0.9244; var_119 -0.6771; var_120 1.6985; var_121 2.3811; var_122 0.4179; var_123 -1.3419; var_124 -0.7092; var_125 -1.6800; var_126 -0.3392; var_127 1.5859; var_128 0.4416; var_129 1.0549; var_130 0.8574; var_131 0.4399; var_132 0.4354; var_133 -0.0823; var_134 -0.7167; var_135 2.3558; var_136 -1.8266; var_137 -0.5925; var_138 0.2151; var_139 0.8027; var_140 0.1912; var_141 -2.0820; var_142 0.0205; var_143 -0.6940; var_144 0.3657; var_145 -1.2303; var_146 -0.8155; var_147 -0.6440; var_148 -0.8983; var_149 -1.1453; var_150 -0.9496; var_151 0.2189; var_152 1.1132; var_153 0.1044; var_154 0.3411; var_155 0.2321; var_156 -0.9258; var_157 -1.5741; var_158 0.4298; var_159 0.7638; var_160 -0.4253; var_161 -1.1656; var_162 -0.1102; var_163 1.3838; var_164 0.9178; var_165 -0.3510; var_166 -0.1890; var_167 0.3654; var_168 0.4838; var_169 0.0118; var_170 -0.9521; var_171 2.3715; var_172 -0.2877; var_173 0.2877; var_174 -1.3446; var_175 -0.9025; var_176 0.1475; var_177 0.7135; var_178 -0.0426; var_179 -1.7896; var_180 0.1980; var_181 1.9395; var_182 1.2092; var_183 -1.3126; var_184 -0.5374; var_185 -0.1197; var_186 -0.0163; var_187 -0.6519; var_188 -0.1136; var_189 0.5237; var_190 -1.9075; var_191 0.0608; var_192 0.5212; var_193 -0.6356; var_194 -0.8687; var_195 0.0064; var_196 -0.1961; var_197 0.5639; var_198 -1.3765; var_199 0.6769; ,var_0 0.8032; var_1 2.1494; var_2 1.5819; var_3 -0.3390; var_4 0.5569; var_5 0.1209; var_6 -0.6414; var_7 0.8333; var_8 -0.2275; var_9 0.1711; var_10 1.0847; var_11 0.7073; var_12 0.6943; var_13 1.8243; var_14 -1.5448; var_15 1.3525; var_16 0.1090; var_17 0.4710; var_18 1.3059; var_19 1.8311; var_20 0.1915; var_21 0.3157; var_22 -0.9392; var_23 -0.2590; var_24 0.1260; var_25 0.5402; var_26 -0.9597; var_27 0.4490; var_28 -1.5043; var_29 -2.2363; var_30 0.7027; var_31 -0.5827; var_32 0.5937; var_33 0.0181; var_34 -0.8939; var_35 1.4923; var_36 1.3991; var_37 0.1332; var_38 -0.6656; var_39 -1.9394; var_40 1.0691; var_41 -0.9505; var_42 -0.4416; var_43 1.9594; var_44 0.6524; var_45 -0.0479; var_46 -0.1330; var_47 0.6163; var_48 0.8219; var_49 0.9198; var_50 0.9566; var_51 0.9184; var_52 -0.1095; var_53 -0.8787; var_54 1.9490; var_55 -1.0088; var_56 -1.3273; var_57 0.7356; var_58 0.8030; var_59 0.6682; var_60 -0.5257; var_61 0.4563; var_62 0.0595; var_63 -1.5740; var_64 0.1236; var_65 0.9553; var_66 -1.8427; var_67 -0.3007; var_68 -0.0676; var_69 -0.5257; var_70 -0.3966; var_71 2.0273; var_72 0.8370; var_73 -0.7978; var_74 -1.2997; var_75 0.4688; var_76 1.5835; var_77 0.4829; var_78 -1.3226; var_79 0.4252; var_80 -0.3991; var_81 -0.7885; var_82 -0.7004; var_83 1.6433; var_84 1.0659; var_85 -0.8502; var_86 0.0816; var_87 -1.2368; var_88 0.2783; var_89 -0.0436; var_90 0.4528; var_91 1.0704; var_92 1.5414; var_93 0.3443; var_94 0.6417; var_95 0.9931; var_96 -0.2639; var_97 -0.5123; var_98 1.9910; var_99 -1.2390; var_100 -0.4790; var_101 -1.1443; var_102 -1.0077; var_103 -1.0976; var_104 -0.8568; var_105 -1.3218; var_106 0.0153; var_107 1.6177; var_108 -0.7140; var_109 1.1478; var_110 -0.2089; var_111 0.5209; var_112 -0.6250; var_113 0.2706; var_114 0.2082; var_115 0.3963; var_116 0.4256; var_117 -0.3036; var_118 0.8896; var_119 0.6673; var_120 0.9865; var_121 0.7295; var_122 1.1050; var_123 -0.6179; var_124 -0.9162; var_125 1.8072; var_126 1.0856; var_127 0.7555; var_128 0.1484; var_129 -1.4533; var_130 1.2065; var_131 0.2056; var_132 0.3833; var_133 1.0083; var_134 -0.4152; var_135 1.0496; var_136 0.0780; var_137 0.0715; var_138 -0.8185; var_139 -0.2359; var_140 -0.3151; var_141 -0.9541; var_142 0.3195; var_143 -0.7952; var_144 0.4741; var_145 -0.5759; var_146 0.2298; var_147 -0.0856; var_148 1.6433; var_149 0.1257; var_150 0.3410; var_151 -1.0042; var_152 1.4988; var_153 -0.7998; var_154 -0.9819; var_155 1.3351; var_156 1.0679; var_157 0.9142; var_158 -1.4660; var_159 0.7075; var_160 1.2472; var_161 -0.5335; var_162 -0.3275; var_163 0.0831; var_164 1.3362; var_165 1.3844; var_166 -0.1533; var_167 0.6401; var_168 0.2804; var_169 -0.7071; var_170 0.0726; var_171 1.8677; var_172 0.3848; var_173 -1.8374; var_174 -1.5564; var_175 2.2707; var_176 0.1827; var_177 -0.5956; var_178 -1.3486; var_179 -0.2957; var_180 1.1763; var_181 0.0615; var_182 0.2604; var_183 1.7008; var_184 0.4255; var_185 -0.4423; var_186 1.5010; var_187 0.2452; var_188 0.4967; var_189 0.6328; var_190 -1.4518; var_191 -0.1390; var_192 -0.4700; var_193 0.2988; var_194 0.9900; var_195 1.3906; var_196 -1.1817; var_197 1.5430; var_198 1.0950; var_199 1.3461; \n",
       "y: CategoryList\n",
       "1,0,0,0,0\n",
       "Path: data;\n",
       "\n",
       "Test: LabelList (200000 items)\n",
       "x: TabularList\n",
       "var_0 0.1278; var_1 2.3214; var_2 0.8479; var_3 1.2868; var_4 0.2201; var_5 0.3416; var_6 0.5087; var_7 0.5048; var_8 0.5550; var_9 1.0062; var_10 -0.4400; var_11 -0.1857; var_12 -0.2855; var_13 -1.7635; var_14 0.0030; var_15 -0.1769; var_16 -0.6366; var_17 -1.9945; var_18 0.0441; var_19 0.4672; var_20 -1.6298; var_21 0.1911; var_22 -0.9533; var_23 0.0878; var_24 -1.0942; var_25 1.5801; var_26 -0.9190; var_27 -0.6914; var_28 0.2259; var_29 -0.4845; var_30 0.7393; var_31 -0.5221; var_32 0.9971; var_33 -0.4621; var_34 -0.1862; var_35 0.8305; var_36 -0.7240; var_37 -1.0378; var_38 -0.2005; var_39 1.9916; var_40 -1.0764; var_41 1.6134; var_42 0.0917; var_43 0.8585; var_44 0.7491; var_45 -0.9000; var_46 0.2986; var_47 2.0057; var_48 0.2200; var_49 0.0197; var_50 0.4503; var_51 0.1171; var_52 -0.4648; var_53 1.7170; var_54 -0.1977; var_55 0.6849; var_56 0.7536; var_57 0.1765; var_58 -1.9966; var_59 0.4636; var_60 -0.0513; var_61 0.7209; var_62 -0.8116; var_63 0.0671; var_64 0.3761; var_65 0.5055; var_66 0.1618; var_67 0.7515; var_68 -0.8883; var_69 0.4817; var_70 0.7443; var_71 0.4965; var_72 -1.3759; var_73 1.4280; var_74 0.5195; var_75 0.8038; var_76 0.1588; var_77 -1.3049; var_78 -1.1208; var_79 2.3125; var_80 0.4968; var_81 0.9508; var_82 2.1183; var_83 1.0827; var_84 0.2605; var_85 0.5349; var_86 -0.1074; var_87 1.6015; var_88 1.7907; var_89 1.1809; var_90 0.6778; var_91 0.6267; var_92 0.5964; var_93 -0.7623; var_94 -1.8345; var_95 -0.7939; var_96 -1.0134; var_97 0.9337; var_98 0.5205; var_99 1.3987; var_100 -0.2851; var_101 0.7859; var_102 1.0037; var_103 -0.4144; var_104 0.6903; var_105 -0.8817; var_106 -0.1756; var_107 -0.7638; var_108 -1.2102; var_109 -0.7764; var_110 -0.4562; var_111 -0.2498; var_112 0.6934; var_113 1.3555; var_114 -1.0034; var_115 -0.2532; var_116 0.4969; var_117 -1.2115; var_118 -0.1564; var_119 1.3034; var_120 1.4449; var_121 0.0606; var_122 -0.1413; var_123 0.3771; var_124 -1.2080; var_125 0.0103; var_126 1.1897; var_127 1.0166; var_128 -1.0235; var_129 0.2915; var_130 0.3381; var_131 0.8233; var_132 1.9232; var_133 1.8700; var_134 0.1061; var_135 0.4954; var_136 -1.1973; var_137 0.0164; var_138 -1.6994; var_139 -1.3423; var_140 -1.7518; var_141 -0.7476; var_142 1.3781; var_143 0.2527; var_144 0.6289; var_145 -0.4678; var_146 0.5308; var_147 -1.1301; var_148 0.5569; var_149 -0.0003; var_150 0.7945; var_151 -0.0635; var_152 -0.0369; var_153 -0.8723; var_154 2.4211; var_155 0.5475; var_156 -1.3590; var_157 0.0541; var_158 -0.2268; var_159 0.1892; var_160 -1.6864; var_161 -1.0173; var_162 -1.0796; var_163 -1.0009; var_164 -1.0506; var_165 0.7229; var_166 -1.1103; var_167 0.4965; var_168 -0.1908; var_169 -1.2182; var_170 0.9619; var_171 0.4682; var_172 1.0677; var_173 1.5326; var_174 -0.2905; var_175 0.2204; var_176 0.2808; var_177 -0.6318; var_178 -0.5305; var_179 -0.1072; var_180 -0.3395; var_181 0.2229; var_182 -1.8082; var_183 -1.0740; var_184 1.9955; var_185 0.5971; var_186 0.1015; var_187 -1.1430; var_188 -0.5373; var_189 0.9362; var_190 -1.1838; var_191 1.4600; var_192 -2.2725; var_193 -0.2192; var_194 -1.3665; var_195 1.8228; var_196 0.3794; var_197 1.9690; var_198 -0.1331; var_199 -0.5161; ,var_0 -0.7062; var_1 0.7113; var_2 0.2237; var_3 -0.7883; var_4 -1.1566; var_5 0.1342; var_6 0.7051; var_7 0.6114; var_8 -1.4072; var_9 -1.2901; var_10 -0.3229; var_11 0.4882; var_12 0.4681; var_13 -1.2847; var_14 -0.9058; var_15 -0.9410; var_16 -0.9036; var_17 1.5438; var_18 1.7755; var_19 -1.5451; var_20 -0.1944; var_21 -1.7223; var_22 0.3330; var_23 -1.1314; var_24 1.4896; var_25 -0.5778; var_26 -0.2002; var_27 -1.6579; var_28 0.2224; var_29 -0.7864; var_30 -0.3494; var_31 0.5104; var_32 -0.1744; var_33 0.1322; var_34 -1.4736; var_35 -0.5687; var_36 1.4591; var_37 -1.5671; var_38 0.5209; var_39 -0.5440; var_40 2.0230; var_41 -1.0377; var_42 -0.9316; var_43 0.6331; var_44 -1.1452; var_45 -1.3297; var_46 0.7725; var_47 -0.4645; var_48 -0.7310; var_49 -0.5266; var_50 -1.5223; var_51 1.4586; var_52 0.8255; var_53 1.0981; var_54 0.9032; var_55 0.6475; var_56 1.4313; var_57 0.8331; var_58 -0.3518; var_59 0.6951; var_60 -1.6123; var_61 -0.5803; var_62 0.2288; var_63 -0.7713; var_64 -0.3566; var_65 0.5619; var_66 -1.2156; var_67 0.5500; var_68 1.6296; var_69 -1.0123; var_70 -1.0180; var_71 0.1117; var_72 -0.3588; var_73 0.2546; var_74 -0.9019; var_75 0.2210; var_76 0.1124; var_77 0.8055; var_78 0.5133; var_79 -0.9558; var_80 -0.5131; var_81 -0.2942; var_82 1.1964; var_83 1.0761; var_84 -1.4424; var_85 0.5333; var_86 0.4986; var_87 -0.3018; var_88 -0.2307; var_89 -0.3149; var_90 -0.0656; var_91 1.2913; var_92 0.6241; var_93 0.1774; var_94 -1.8078; var_95 0.6823; var_96 -0.4748; var_97 0.8939; var_98 0.3454; var_99 -0.3591; var_100 0.5305; var_101 0.4149; var_102 1.5427; var_103 0.4778; var_104 0.7948; var_105 -1.7166; var_106 -1.1189; var_107 -1.7240; var_108 -2.5036; var_109 -0.1679; var_110 -0.9874; var_111 -0.6878; var_112 0.2137; var_113 0.1867; var_114 1.0490; var_115 -0.4364; var_116 -0.2284; var_117 -0.5903; var_118 -0.1792; var_119 -0.6570; var_120 -0.6163; var_121 0.2088; var_122 0.3735; var_123 0.2321; var_124 0.4979; var_125 -1.5083; var_126 1.3356; var_127 -2.2356; var_128 -1.4015; var_129 -1.5844; var_130 -1.4387; var_131 -0.1899; var_132 1.3717; var_133 0.7357; var_134 1.2175; var_135 1.6739; var_136 -0.6915; var_137 -1.4332; var_138 0.5256; var_139 -0.1314; var_140 1.5676; var_141 1.8574; var_142 -1.7160; var_143 -1.3995; var_144 0.4601; var_145 -2.5491; var_146 -0.6253; var_147 0.1363; var_148 0.6689; var_149 -1.7894; var_150 0.7828; var_151 -0.1924; var_152 -2.0317; var_153 -0.3424; var_154 0.1622; var_155 0.6077; var_156 1.7356; var_157 1.4661; var_158 -0.8051; var_159 0.9656; var_160 0.6147; var_161 0.1806; var_162 -1.1803; var_163 0.3883; var_164 -1.4254; var_165 -0.7575; var_166 0.6891; var_167 1.6947; var_168 0.6822; var_169 -0.6584; var_170 -0.1755; var_171 -1.3645; var_172 1.1642; var_173 -0.8301; var_174 -1.3597; var_175 -0.7042; var_176 0.3071; var_177 -1.4115; var_178 -0.3909; var_179 0.9365; var_180 0.5997; var_181 1.3983; var_182 -1.2384; var_183 -0.6537; var_184 1.3350; var_185 -1.0290; var_186 0.8977; var_187 0.1409; var_188 0.1330; var_189 0.2412; var_190 1.6195; var_191 0.4626; var_192 -0.6683; var_193 1.7008; var_194 -0.7715; var_195 0.4321; var_196 -0.6927; var_197 1.0475; var_198 1.0811; var_199 -1.6888; ,var_0 -1.7088; var_1 -2.1539; var_2 -0.2170; var_3 0.1223; var_4 -0.5005; var_5 1.8912; var_6 -0.5922; var_7 1.0863; var_8 0.3720; var_9 0.6291; var_10 -0.9273; var_11 0.0342; var_12 -1.8342; var_13 -1.0149; var_14 1.4775; var_15 -0.8747; var_16 0.2156; var_17 1.2455; var_18 0.7629; var_19 1.0477; var_20 -0.1400; var_21 -0.5950; var_22 0.1540; var_23 -0.4279; var_24 -1.4205; var_25 -0.3515; var_26 -1.9212; var_27 0.6380; var_28 2.2098; var_29 -0.6203; var_30 -0.1836; var_31 -0.3056; var_32 1.3992; var_33 1.7428; var_34 0.9693; var_35 1.1739; var_36 0.6016; var_37 -0.3887; var_38 -0.6009; var_39 0.0543; var_40 -1.4936; var_41 -0.6851; var_42 -2.3346; var_43 1.9694; var_44 -0.0993; var_45 1.2995; var_46 -0.4310; var_47 -0.7920; var_48 -0.5292; var_49 -1.0905; var_50 -1.2267; var_51 -0.3371; var_52 0.3798; var_53 -0.4673; var_54 0.9792; var_55 2.3110; var_56 0.9134; var_57 -0.9936; var_58 -1.6788; var_59 -0.4846; var_60 -0.7506; var_61 0.5415; var_62 0.9558; var_63 0.6223; var_64 1.8372; var_65 1.6221; var_66 -0.7553; var_67 0.2549; var_68 -1.3335; var_69 2.0484; var_70 -0.4383; var_71 -0.8829; var_72 0.0526; var_73 2.0427; var_74 0.0850; var_75 -0.0586; var_76 -1.9828; var_77 0.1509; var_78 1.1572; var_79 0.8962; var_80 1.3950; var_81 -0.1685; var_82 0.5654; var_83 -0.1787; var_84 0.3710; var_85 -0.8843; var_86 -1.2285; var_87 0.5903; var_88 -0.5530; var_89 -2.4921; var_90 -1.3539; var_91 0.2073; var_92 -0.0620; var_93 -1.6367; var_94 0.8150; var_95 -0.7696; var_96 -1.0281; var_97 -0.7068; var_98 -0.4205; var_99 1.3576; var_100 0.3367; var_101 0.1514; var_102 0.6640; var_103 -0.9453; var_104 -0.3469; var_105 0.0585; var_106 -0.2142; var_107 1.1157; var_108 -1.1775; var_109 0.2303; var_110 0.8329; var_111 1.6561; var_112 -1.3293; var_113 0.1739; var_114 -2.1335; var_115 0.0637; var_116 0.4625; var_117 1.6357; var_118 0.2160; var_119 -1.2994; var_120 0.4359; var_121 0.5211; var_122 0.6918; var_123 0.1385; var_124 -0.7542; var_125 0.4986; var_126 1.4652; var_127 0.4707; var_128 1.0865; var_129 -0.4260; var_130 0.5385; var_131 0.4511; var_132 -0.0202; var_133 -0.5812; var_134 0.8309; var_135 2.2538; var_136 0.6705; var_137 -1.2165; var_138 2.0382; var_139 -1.7972; var_140 -1.6242; var_141 -0.2239; var_142 -1.2180; var_143 0.2182; var_144 0.8026; var_145 -1.2712; var_146 0.5291; var_147 2.7170; var_148 1.3520; var_149 0.8995; var_150 -0.9640; var_151 1.0153; var_152 0.6172; var_153 -0.0759; var_154 0.0596; var_155 -0.0223; var_156 -0.6440; var_157 2.1991; var_158 0.6621; var_159 0.0565; var_160 1.3867; var_161 -0.5055; var_162 -1.4418; var_163 -1.2683; var_164 0.4275; var_165 -1.1977; var_166 0.4344; var_167 -0.0026; var_168 -1.1915; var_169 1.3950; var_170 -0.0099; var_171 0.4342; var_172 -0.3380; var_173 -0.3861; var_174 1.0088; var_175 1.4655; var_176 -1.0856; var_177 1.4261; var_178 -0.9791; var_179 0.6683; var_180 -0.0636; var_181 -1.1148; var_182 -0.3991; var_183 1.0514; var_184 1.2573; var_185 0.1065; var_186 -1.2689; var_187 0.7146; var_188 -0.9748; var_189 0.4472; var_190 -0.8749; var_191 1.1768; var_192 0.0356; var_193 -0.2869; var_194 -1.5994; var_195 1.5860; var_196 -1.7232; var_197 -2.0035; var_198 1.3355; var_199 -1.8997; ,var_0 -0.7039; var_1 0.0756; var_2 0.4952; var_3 -0.1090; var_4 -1.3732; var_5 1.0480; var_6 -0.5407; var_7 1.1777; var_8 0.9272; var_9 -0.0886; var_10 -0.0702; var_11 -0.3047; var_12 0.1510; var_13 1.0725; var_14 0.5484; var_15 0.3937; var_16 0.2760; var_17 -1.4371; var_18 -1.6711; var_19 1.1306; var_20 0.2122; var_21 -0.5727; var_22 -0.4691; var_23 2.3161; var_24 0.8469; var_25 1.6557; var_26 0.8536; var_27 -0.1378; var_28 -0.3538; var_29 0.5877; var_30 1.7452; var_31 -0.3881; var_32 1.1119; var_33 -1.0549; var_34 -1.1623; var_35 -1.2357; var_36 1.2439; var_37 -1.1586; var_38 1.3844; var_39 2.0090; var_40 0.2278; var_41 -1.4045; var_42 1.6564; var_43 -0.4727; var_44 -0.3811; var_45 -0.0122; var_46 0.8432; var_47 1.6509; var_48 1.4673; var_49 -1.3799; var_50 -0.1932; var_51 -1.4688; var_52 -0.3176; var_53 0.3207; var_54 0.0343; var_55 0.1409; var_56 -0.3452; var_57 0.7596; var_58 -0.3332; var_59 1.2989; var_60 0.7428; var_61 0.6725; var_62 -0.0403; var_63 0.6000; var_64 1.1958; var_65 0.4215; var_66 0.1735; var_67 0.1529; var_68 -1.4170; var_69 -1.6303; var_70 -1.2985; var_71 -0.9335; var_72 -0.8071; var_73 -2.2332; var_74 -0.6235; var_75 -0.7674; var_76 0.8182; var_77 0.0944; var_78 0.0769; var_79 -0.1865; var_80 1.5866; var_81 0.3128; var_82 -1.1558; var_83 1.5720; var_84 1.0650; var_85 1.0089; var_86 -0.4861; var_87 0.9139; var_88 0.8485; var_89 -0.9555; var_90 -0.3745; var_91 -0.4611; var_92 -0.6669; var_93 -0.3427; var_94 0.0129; var_95 0.4407; var_96 0.5903; var_97 1.7259; var_98 -0.4778; var_99 1.8056; var_100 0.9035; var_101 -2.1968; var_102 -2.1370; var_103 -0.2767; var_104 0.9621; var_105 -1.5750; var_106 -0.8057; var_107 0.5064; var_108 -0.1442; var_109 1.0515; var_110 1.2662; var_111 -0.2550; var_112 1.0695; var_113 1.0143; var_114 -0.9672; var_115 0.7046; var_116 -0.2980; var_117 -0.3395; var_118 1.4587; var_119 1.2361; var_120 -0.3658; var_121 -0.5068; var_122 1.4063; var_123 -0.3331; var_124 0.0132; var_125 -1.5184; var_126 0.6622; var_127 0.2435; var_128 -0.0325; var_129 1.7558; var_130 0.4859; var_131 0.5677; var_132 -2.0864; var_133 -0.0647; var_134 1.7310; var_135 -0.0375; var_136 -0.3800; var_137 -0.5537; var_138 -0.9112; var_139 0.6544; var_140 1.7609; var_141 1.5304; var_142 -0.7510; var_143 -0.2314; var_144 1.2789; var_145 -0.7794; var_146 -0.6523; var_147 0.6880; var_148 -0.8254; var_149 -2.0782; var_150 -1.2614; var_151 -0.0883; var_152 -0.5935; var_153 -0.6420; var_154 -0.3889; var_155 -1.1612; var_156 0.4117; var_157 0.2352; var_158 -0.5007; var_159 1.0641; var_160 -0.4181; var_161 -1.1233; var_162 -1.1872; var_163 -0.6705; var_164 -1.5024; var_165 1.1045; var_166 -0.8713; var_167 0.8239; var_168 0.7547; var_169 0.0132; var_170 1.6274; var_171 0.7978; var_172 -2.0061; var_173 1.9850; var_174 -0.7924; var_175 -0.3560; var_176 -0.3975; var_177 0.7802; var_178 0.9461; var_179 -0.5330; var_180 2.3187; var_181 -0.1896; var_182 0.5866; var_183 -0.8071; var_184 -0.4976; var_185 1.6192; var_186 -1.7730; var_187 -0.8157; var_188 -0.4902; var_189 0.5787; var_190 1.3899; var_191 0.5426; var_192 -0.1825; var_193 0.0636; var_194 -0.8956; var_195 2.3112; var_196 0.3045; var_197 0.3504; var_198 -0.9483; var_199 -0.0846; ,var_0 0.3384; var_1 0.3691; var_2 1.2931; var_3 0.4660; var_4 -1.2145; var_5 -0.4474; var_6 1.6740; var_7 -1.7386; var_8 0.8113; var_9 -0.3429; var_10 0.8557; var_11 -0.0061; var_12 0.4071; var_13 0.0951; var_14 -1.2491; var_15 0.0197; var_16 0.9884; var_17 1.3191; var_18 0.3542; var_19 0.1700; var_20 -1.9881; var_21 -0.1143; var_22 0.8722; var_23 1.1050; var_24 0.8144; var_25 0.7459; var_26 2.1400; var_27 -0.7398; var_28 -0.3941; var_29 0.7503; var_30 -1.0052; var_31 0.1075; var_32 -1.6433; var_33 0.6411; var_34 0.7986; var_35 -0.1598; var_36 0.6607; var_37 0.3965; var_38 -1.0929; var_39 -0.0713; var_40 -0.9322; var_41 -0.6999; var_42 0.5906; var_43 1.4968; var_44 1.6969; var_45 1.1546; var_46 1.7092; var_47 0.9698; var_48 -1.1936; var_49 -0.4128; var_50 0.0732; var_51 -1.1075; var_52 0.4780; var_53 -0.4302; var_54 -0.0376; var_55 1.1245; var_56 -1.1212; var_57 0.2099; var_58 0.2711; var_59 -0.2691; var_60 -0.0212; var_61 0.1276; var_62 -0.4480; var_63 1.6052; var_64 -0.0785; var_65 0.1440; var_66 -1.1220; var_67 1.1112; var_68 1.0870; var_69 0.3706; var_70 1.2867; var_71 1.4265; var_72 -0.3928; var_73 2.5314; var_74 -1.2251; var_75 -1.2094; var_76 0.2651; var_77 -1.0844; var_78 0.4038; var_79 0.8562; var_80 0.8094; var_81 0.8900; var_82 -1.3191; var_83 -0.1794; var_84 0.4214; var_85 1.0641; var_86 0.1740; var_87 -1.6042; var_88 -2.0552; var_89 -0.6462; var_90 1.9501; var_91 0.2093; var_92 1.6828; var_93 -0.9311; var_94 0.1731; var_95 0.5464; var_96 0.2701; var_97 2.1383; var_98 -0.2417; var_99 0.4629; var_100 -0.8473; var_101 0.8978; var_102 0.1074; var_103 -0.7077; var_104 1.5071; var_105 0.1580; var_106 1.0977; var_107 0.0816; var_108 -0.0203; var_109 -0.5496; var_110 0.2316; var_111 0.5153; var_112 -0.3743; var_113 1.0111; var_114 0.1583; var_115 0.4614; var_116 -1.7968; var_117 -1.6404; var_118 1.1443; var_119 1.7465; var_120 1.2541; var_121 -0.0471; var_122 -0.4802; var_123 0.8785; var_124 0.8146; var_125 0.7108; var_126 0.1342; var_127 -0.8988; var_128 -0.0336; var_129 -0.9415; var_130 0.4641; var_131 -0.1441; var_132 -0.4149; var_133 0.8804; var_134 0.7492; var_135 -1.5925; var_136 0.4049; var_137 0.6743; var_138 -1.2812; var_139 0.5254; var_140 1.8674; var_141 -0.9696; var_142 1.7776; var_143 -0.9476; var_144 0.6772; var_145 -1.6584; var_146 1.0279; var_147 1.3623; var_148 1.1184; var_149 1.6169; var_150 1.3126; var_151 -0.7936; var_152 0.5822; var_153 1.9005; var_154 -0.7112; var_155 -2.2806; var_156 -0.1183; var_157 -1.6640; var_158 -0.7824; var_159 1.0433; var_160 -0.1291; var_161 0.1646; var_162 0.5302; var_163 0.4265; var_164 -1.6673; var_165 1.3697; var_166 0.7332; var_167 -0.1828; var_168 0.2477; var_169 1.4501; var_170 -0.3635; var_171 -0.3062; var_172 -0.2936; var_173 0.5094; var_174 -0.8689; var_175 0.4399; var_176 -1.2272; var_177 -0.6723; var_178 -0.9034; var_179 1.2505; var_180 0.2634; var_181 0.1978; var_182 -0.9163; var_183 0.1531; var_184 -0.9410; var_185 2.0837; var_186 -0.1883; var_187 -1.2515; var_188 -0.9865; var_189 0.9086; var_190 0.2169; var_191 0.5742; var_192 -0.4360; var_193 0.0127; var_194 0.4974; var_195 -0.1014; var_196 -1.3664; var_197 -1.7576; var_198 -0.6464; var_199 -0.5606; \n",
       "y: EmptyLabelList\n",
       ",,,,\n",
       "Path: data, model=TabularModel(\n",
       "  (embeds): ModuleList()\n",
       "  (emb_drop): Dropout(p=0.0)\n",
       "  (bn_cont): BatchNorm1d(200, eps=1e-05, momentum=0.1, affine=True, track_running_stats=True)\n",
       "  (layers): Sequential(\n",
       "    (0): Linear(in_features=200, out_features=50, bias=True)\n",
       "    (1): ReLU(inplace)\n",
       "    (2): BatchNorm1d(50, eps=1e-05, momentum=0.1, affine=True, track_running_stats=True)\n",
       "    (3): Dropout(p=0.4)\n",
       "    (4): Linear(in_features=50, out_features=25, bias=True)\n",
       "    (5): ReLU(inplace)\n",
       "    (6): BatchNorm1d(25, eps=1e-05, momentum=0.1, affine=True, track_running_stats=True)\n",
       "    (7): Dropout(p=0.4)\n",
       "    (8): Linear(in_features=25, out_features=2, bias=True)\n",
       "  )\n",
       "), opt_func=functools.partial(<class 'torch.optim.adam.Adam'>, betas=(0.9, 0.99)), loss_func=FlattenedLoss of CrossEntropyLoss(), metrics=[<function accuracy at 0x1a29740598>], true_wd=True, bn_wd=True, wd=0.01, train_bn=True, path=PosixPath('data'), model_dir='models', callback_fns=[<class 'fastai.basic_train.Recorder'>], callbacks=[], layer_groups=[Sequential(\n",
       "  (0): ModuleList()\n",
       "  (1): Dropout(p=0.0)\n",
       "  (2): BatchNorm1d(200, eps=1e-05, momentum=0.1, affine=True, track_running_stats=True)\n",
       "  (3): Linear(in_features=200, out_features=50, bias=True)\n",
       "  (4): ReLU(inplace)\n",
       "  (5): BatchNorm1d(50, eps=1e-05, momentum=0.1, affine=True, track_running_stats=True)\n",
       "  (6): Dropout(p=0.4)\n",
       "  (7): Linear(in_features=50, out_features=25, bias=True)\n",
       "  (8): BatchNorm1d(25, eps=1e-05, momentum=0.1, affine=True, track_running_stats=True)\n",
       "  (9): Dropout(p=0.4)\n",
       "  (10): Linear(in_features=25, out_features=2, bias=True)\n",
       ")])"
      ]
     },
     "execution_count": 14,
     "metadata": {},
     "output_type": "execute_result"
    }
   ],
   "source": [
    "learn = tabular_learner(data, layers=[50,25], ps=0.4, metrics=accuracy)\n",
    "learn.load('v2 2-26 3epochs')"
   ]
  },
  {
   "cell_type": "code",
   "execution_count": 22,
   "metadata": {},
   "outputs": [],
   "source": [
    "preds = learn.get_preds(ds_type=DatasetType.Test)"
   ]
  },
  {
   "cell_type": "code",
   "execution_count": 23,
   "metadata": {},
   "outputs": [
    {
     "data": {
      "text/plain": [
       "[tensor([[0.8433, 0.1567],\n",
       "         [0.8596, 0.1404],\n",
       "         [0.9671, 0.0329],\n",
       "         ...,\n",
       "         [0.9968, 0.0032],\n",
       "         [0.9487, 0.0513],\n",
       "         [0.8915, 0.1085]]), tensor([0, 0, 0,  ..., 0, 0, 0])]"
      ]
     },
     "execution_count": 23,
     "metadata": {},
     "output_type": "execute_result"
    }
   ],
   "source": [
    "preds"
   ]
  },
  {
   "cell_type": "code",
   "execution_count": 24,
   "metadata": {},
   "outputs": [],
   "source": [
    "sub_df = pd.DataFrame({'ID_code': df_test['ID_code'], 'target': preds[1]})"
   ]
  },
  {
   "cell_type": "code",
   "execution_count": 34,
   "metadata": {},
   "outputs": [
    {
     "data": {
      "text/plain": [
       "<matplotlib.axes._subplots.AxesSubplot at 0x1a2c449a58>"
      ]
     },
     "execution_count": 34,
     "metadata": {},
     "output_type": "execute_result"
    },
    {
     "data": {
      "image/png": "[encoded data removed]",
      "text/plain": [
       "<Figure size 432x288 with 1 Axes>"
      ]
     },
     "metadata": {
      "needs_background": "light"
     },
     "output_type": "display_data"
    }
   ],
   "source": [
    "sub_df['target'].value_counts().plot.bar()"
   ]
  },
  {
   "cell_type": "code",
   "execution_count": 43,
   "metadata": {},
   "outputs": [],
   "source": [
    "sub_df.to_csv('submission.csv', index=False)"
   ]
  },
  {
   "cell_type": "code",
   "execution_count": null,
   "metadata": {},
   "outputs": [],
   "source": []
  }
 ],
 "metadata": {
  "kernelspec": {
   "display_name": "Python 3",
   "language": "python",
   "name": "python3"
  },
  "language_info": {
   "codemirror_mode": {
    "name": "ipython",
    "version": 3
   },
   "file_extension": ".py",
   "mimetype": "text/x-python",
   "name": "python",
   "nbconvert_exporter": "python",
   "pygments_lexer": "ipython3",
   "version": "3.6.8"
  }
 },
 "nbformat": 4,
 "nbformat_minor": 2
}
