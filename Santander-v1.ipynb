{
 "cells": [
  {
   "cell_type": "code",
   "execution_count": 1,
   "metadata": {},
   "outputs": [],
   "source": [
    "from fastai import *\n",
    "from fastai.tabular import *"
   ]
  },
  {
   "cell_type": "code",
   "execution_count": 2,
   "metadata": {},
   "outputs": [],
   "source": [
    "path = Path('data')"
   ]
  },
  {
   "cell_type": "code",
   "execution_count": 3,
   "metadata": {},
   "outputs": [],
   "source": [
    "df = pd.read_csv(path/'train.csv')"
   ]
  },
  {
   "cell_type": "code",
   "execution_count": 4,
   "metadata": {},
   "outputs": [],
   "source": [
    "df_test = pd.read_csv(path/'test.csv')"
   ]
  },
  {
   "cell_type": "code",
   "execution_count": 23,
   "metadata": {
    "collapsed": true
   },
   "outputs": [
    {
     "data": {
      "text/html": [
       "<div>\n",
       "<style scoped>\n",
       "    .dataframe tbody tr th:only-of-type {\n",
       "        vertical-align: middle;\n",
       "    }\n",
       "\n",
       "    .dataframe tbody tr th {\n",
       "        vertical-align: top;\n",
       "    }\n",
       "\n",
       "    .dataframe thead th {\n",
       "        text-align: right;\n",
       "    }\n",
       "</style>\n",
       "<table border=\"1\" class=\"dataframe\">\n",
       "  <thead>\n",
       "    <tr style=\"text-align: right;\">\n",
       "      <th></th>\n",
       "      <th>ID_code</th>\n",
       "      <th>target</th>\n",
       "      <th>var_0</th>\n",
       "      <th>var_1</th>\n",
       "      <th>var_2</th>\n",
       "      <th>var_3</th>\n",
       "      <th>var_4</th>\n",
       "      <th>var_5</th>\n",
       "      <th>var_6</th>\n",
       "      <th>var_7</th>\n",
       "      <th>...</th>\n",
       "      <th>var_190</th>\n",
       "      <th>var_191</th>\n",
       "      <th>var_192</th>\n",
       "      <th>var_193</th>\n",
       "      <th>var_194</th>\n",
       "      <th>var_195</th>\n",
       "      <th>var_196</th>\n",
       "      <th>var_197</th>\n",
       "      <th>var_198</th>\n",
       "      <th>var_199</th>\n",
       "    </tr>\n",
       "  </thead>\n",
       "  <tbody>\n",
       "    <tr>\n",
       "      <th>0</th>\n",
       "      <td>train_0</td>\n",
       "      <td>0</td>\n",
       "      <td>8.9255</td>\n",
       "      <td>-6.7863</td>\n",
       "      <td>11.9081</td>\n",
       "      <td>5.0930</td>\n",
       "      <td>11.4607</td>\n",
       "      <td>-9.2834</td>\n",
       "      <td>5.1187</td>\n",
       "      <td>18.6266</td>\n",
       "      <td>...</td>\n",
       "      <td>4.4354</td>\n",
       "      <td>3.9642</td>\n",
       "      <td>3.1364</td>\n",
       "      <td>1.6910</td>\n",
       "      <td>18.5227</td>\n",
       "      <td>-2.3978</td>\n",
       "      <td>7.8784</td>\n",
       "      <td>8.5635</td>\n",
       "      <td>12.7803</td>\n",
       "      <td>-1.0914</td>\n",
       "    </tr>\n",
       "    <tr>\n",
       "      <th>1</th>\n",
       "      <td>train_1</td>\n",
       "      <td>0</td>\n",
       "      <td>11.5006</td>\n",
       "      <td>-4.1473</td>\n",
       "      <td>13.8588</td>\n",
       "      <td>5.3890</td>\n",
       "      <td>12.3622</td>\n",
       "      <td>7.0433</td>\n",
       "      <td>5.6208</td>\n",
       "      <td>16.5338</td>\n",
       "      <td>...</td>\n",
       "      <td>7.6421</td>\n",
       "      <td>7.7214</td>\n",
       "      <td>2.5837</td>\n",
       "      <td>10.9516</td>\n",
       "      <td>15.4305</td>\n",
       "      <td>2.0339</td>\n",
       "      <td>8.1267</td>\n",
       "      <td>8.7889</td>\n",
       "      <td>18.3560</td>\n",
       "      <td>1.9518</td>\n",
       "    </tr>\n",
       "    <tr>\n",
       "      <th>2</th>\n",
       "      <td>train_2</td>\n",
       "      <td>0</td>\n",
       "      <td>8.6093</td>\n",
       "      <td>-2.7457</td>\n",
       "      <td>12.0805</td>\n",
       "      <td>7.8928</td>\n",
       "      <td>10.5825</td>\n",
       "      <td>-9.0837</td>\n",
       "      <td>6.9427</td>\n",
       "      <td>14.6155</td>\n",
       "      <td>...</td>\n",
       "      <td>2.9057</td>\n",
       "      <td>9.7905</td>\n",
       "      <td>1.6704</td>\n",
       "      <td>1.6858</td>\n",
       "      <td>21.6042</td>\n",
       "      <td>3.1417</td>\n",
       "      <td>-6.5213</td>\n",
       "      <td>8.2675</td>\n",
       "      <td>14.7222</td>\n",
       "      <td>0.3965</td>\n",
       "    </tr>\n",
       "    <tr>\n",
       "      <th>3</th>\n",
       "      <td>train_3</td>\n",
       "      <td>0</td>\n",
       "      <td>11.0604</td>\n",
       "      <td>-2.1518</td>\n",
       "      <td>8.9522</td>\n",
       "      <td>7.1957</td>\n",
       "      <td>12.5846</td>\n",
       "      <td>-1.8361</td>\n",
       "      <td>5.8428</td>\n",
       "      <td>14.9250</td>\n",
       "      <td>...</td>\n",
       "      <td>4.4666</td>\n",
       "      <td>4.7433</td>\n",
       "      <td>0.7178</td>\n",
       "      <td>1.4214</td>\n",
       "      <td>23.0347</td>\n",
       "      <td>-1.2706</td>\n",
       "      <td>-2.9275</td>\n",
       "      <td>10.2922</td>\n",
       "      <td>17.9697</td>\n",
       "      <td>-8.9996</td>\n",
       "    </tr>\n",
       "    <tr>\n",
       "      <th>4</th>\n",
       "      <td>train_4</td>\n",
       "      <td>0</td>\n",
       "      <td>9.8369</td>\n",
       "      <td>-1.4834</td>\n",
       "      <td>12.8746</td>\n",
       "      <td>6.6375</td>\n",
       "      <td>12.2772</td>\n",
       "      <td>2.4486</td>\n",
       "      <td>5.9405</td>\n",
       "      <td>19.2514</td>\n",
       "      <td>...</td>\n",
       "      <td>-1.4905</td>\n",
       "      <td>9.5214</td>\n",
       "      <td>-0.1508</td>\n",
       "      <td>9.1942</td>\n",
       "      <td>13.2876</td>\n",
       "      <td>-1.5121</td>\n",
       "      <td>3.9267</td>\n",
       "      <td>9.5031</td>\n",
       "      <td>17.9974</td>\n",
       "      <td>-8.8104</td>\n",
       "    </tr>\n",
       "  </tbody>\n",
       "</table>\n",
       "<p>5 rows × 202 columns</p>\n",
       "</div>"
      ],
      "text/plain": [
       "   ID_code  target    var_0   var_1    var_2   var_3    var_4   var_5   var_6  \\\n",
       "0  train_0       0   8.9255 -6.7863  11.9081  5.0930  11.4607 -9.2834  5.1187   \n",
       "1  train_1       0  11.5006 -4.1473  13.8588  5.3890  12.3622  7.0433  5.6208   \n",
       "2  train_2       0   8.6093 -2.7457  12.0805  7.8928  10.5825 -9.0837  6.9427   \n",
       "3  train_3       0  11.0604 -2.1518   8.9522  7.1957  12.5846 -1.8361  5.8428   \n",
       "4  train_4       0   9.8369 -1.4834  12.8746  6.6375  12.2772  2.4486  5.9405   \n",
       "\n",
       "     var_7  ...  var_190  var_191  var_192  var_193  var_194  var_195  \\\n",
       "0  18.6266  ...   4.4354   3.9642   3.1364   1.6910  18.5227  -2.3978   \n",
       "1  16.5338  ...   7.6421   7.7214   2.5837  10.9516  15.4305   2.0339   \n",
       "2  14.6155  ...   2.9057   9.7905   1.6704   1.6858  21.6042   3.1417   \n",
       "3  14.9250  ...   4.4666   4.7433   0.7178   1.4214  23.0347  -1.2706   \n",
       "4  19.2514  ...  -1.4905   9.5214  -0.1508   9.1942  13.2876  -1.5121   \n",
       "\n",
       "   var_196  var_197  var_198  var_199  \n",
       "0   7.8784   8.5635  12.7803  -1.0914  \n",
       "1   8.1267   8.7889  18.3560   1.9518  \n",
       "2  -6.5213   8.2675  14.7222   0.3965  \n",
       "3  -2.9275  10.2922  17.9697  -8.9996  \n",
       "4   3.9267   9.5031  17.9974  -8.8104  \n",
       "\n",
       "[5 rows x 202 columns]"
      ]
     },
     "execution_count": 23,
     "metadata": {},
     "output_type": "execute_result"
    }
   ],
   "source": [
    "df.head()"
   ]
  },
  {
   "cell_type": "code",
   "execution_count": 5,
   "metadata": {},
   "outputs": [],
   "source": [
    "dep_var = 'target'\n",
    "cat_names = []\n",
    "cont_names = [f'var_{i}' for i in range(200)]\n",
    "procs = [FillMissing, Categorify, Normalize]\n",
    "valid_idx = list(range(150000,199999))"
   ]
  },
  {
   "cell_type": "code",
   "execution_count": 7,
   "metadata": {},
   "outputs": [],
   "source": [
    "test = TabularList.from_df(df_test, path=path, cat_names=cat_names, cont_names=cont_names)"
   ]
  },
  {
   "cell_type": "code",
   "execution_count": 8,
   "metadata": {},
   "outputs": [],
   "source": [
    "data = (TabularList.from_df(df, path=path, cat_names=cat_names, cont_names=cont_names, procs=procs)\n",
    "                           .split_by_idx(valid_idx)\n",
    "                           .label_from_df(cols=dep_var)\n",
    "                           .add_test(test)\n",
    "                           .databunch())"
   ]
  },
  {
   "cell_type": "code",
   "execution_count": 9,
   "metadata": {},
   "outputs": [],
   "source": [
    "learn = tabular_learner(data, layers=[200,100], metrics=accuracy)"
   ]
  },
  {
   "cell_type": "code",
   "execution_count": 11,
   "metadata": {},
   "outputs": [
    {
     "data": {
      "text/html": [],
      "text/plain": [
       "<IPython.core.display.HTML object>"
      ]
     },
     "metadata": {},
     "output_type": "display_data"
    },
    {
     "name": "stdout",
     "output_type": "stream",
     "text": [
      "LR Finder is complete, type {learner_name}.recorder.plot() to see the graph.\n"
     ]
    }
   ],
   "source": [
    "learn.lr_find()"
   ]
  },
  {
   "cell_type": "code",
   "execution_count": 12,
   "metadata": {},
   "outputs": [
    {
     "name": "stdout",
     "output_type": "stream",
     "text": [
      "Min numerical gradient: 2.75E-06\n"
     ]
    },
    {
     "data": {
      "image/png": "[encoded data removed]",
      "text/plain": [
       "<Figure size 432x288 with 1 Axes>"
      ]
     },
     "metadata": {
      "needs_background": "light"
     },
     "output_type": "display_data"
    }
   ],
   "source": [
    "learn.recorder.plot()"
   ]
  },
  {
   "cell_type": "code",
   "execution_count": 43,
   "metadata": {},
   "outputs": [
    {
     "data": {
      "text/html": [
       "Total time: 02:21 <p><table border=\"1\" class=\"dataframe\">\n",
       "  <thead>\n",
       "    <tr style=\"text-align: left;\">\n",
       "      <th>epoch</th>\n",
       "      <th>train_loss</th>\n",
       "      <th>valid_loss</th>\n",
       "      <th>accuracy</th>\n",
       "    </tr>\n",
       "  </thead>\n",
       "  <tbody>\n",
       "    <tr>\n",
       "      <td>1</td>\n",
       "      <td>0.229782</td>\n",
       "      <td>0.232956</td>\n",
       "      <td>0.913918</td>\n",
       "    </tr>\n",
       "    <tr>\n",
       "      <td>2</td>\n",
       "      <td>0.228356</td>\n",
       "      <td>0.233172</td>\n",
       "      <td>0.913618</td>\n",
       "    </tr>\n",
       "    <tr>\n",
       "      <td>3</td>\n",
       "      <td>0.221763</td>\n",
       "      <td>0.233293</td>\n",
       "      <td>0.913878</td>\n",
       "    </tr>\n",
       "  </tbody>\n",
       "</table>"
      ],
      "text/plain": [
       "<IPython.core.display.HTML object>"
      ]
     },
     "metadata": {},
     "output_type": "display_data"
    }
   ],
   "source": [
    "learn.fit(3)"
   ]
  },
  {
   "cell_type": "code",
   "execution_count": 44,
   "metadata": {},
   "outputs": [],
   "source": [
    "learn.save('2-26 17epochs')"
   ]
  },
  {
   "cell_type": "code",
   "execution_count": 10,
   "metadata": {
    "collapsed": true
   },
   "outputs": [
    {
     "data": {
      "text/plain": [
       "Learner(data=TabularDataBunch;\n",
       "\n",
       "Train: LabelList (150001 items)\n",
       "x: TabularList\n",
       "var_0 -0.5764; var_1 -1.2704; var_2 0.4535; var_3 -0.8326; var_4 0.2341; var_5 -0.5351; var_6 -0.3334; var_7 0.6054; var_8 -1.5612; var_9 -1.4733; var_10 0.4621; var_11 1.0761; var_12 -0.0544; var_13 -1.7138; var_14 0.5619; var_15 -0.0076; var_16 -1.4015; var_17 -0.2276; var_18 -1.3934; var_19 2.2788; var_20 -0.4689; var_21 -0.1280; var_22 -0.6071; var_23 -1.0401; var_24 1.0063; var_25 -0.8244; var_26 -0.1853; var_27 0.4816; var_28 -0.7694; var_29 0.3603; var_30 0.9279; var_31 1.1623; var_32 -1.3005; var_33 0.4893; var_34 -0.4484; var_35 1.3014; var_36 -0.4847; var_37 0.8986; var_38 -1.3957; var_39 0.7888; var_40 0.1814; var_41 -0.3231; var_42 0.5085; var_43 1.5326; var_44 0.4568; var_45 0.2650; var_46 -1.8914; var_47 -0.1649; var_48 0.1171; var_49 -1.4449; var_50 0.2586; var_51 1.9073; var_52 0.3671; var_53 -1.0916; var_54 -0.2239; var_55 0.3675; var_56 -1.5135; var_57 -1.1165; var_58 -0.2675; var_59 1.3885; var_60 0.9562; var_61 1.4537; var_62 0.5924; var_63 -0.2803; var_64 1.5530; var_65 2.2568; var_66 0.0085; var_67 1.4250; var_68 -1.1170; var_69 -0.3464; var_70 -0.2374; var_71 -0.3899; var_72 1.1557; var_73 -1.4413; var_74 1.6745; var_75 0.2538; var_76 -1.0578; var_77 1.1376; var_78 0.5871; var_79 -1.6827; var_80 1.0570; var_81 -0.3863; var_82 0.5706; var_83 0.2310; var_84 -0.3092; var_85 0.7938; var_86 0.4781; var_87 0.9008; var_88 -0.2824; var_89 -1.5245; var_90 -0.3721; var_91 -1.3567; var_92 -0.3942; var_93 -1.0383; var_94 1.3907; var_95 0.4291; var_96 -0.6401; var_97 -0.1808; var_98 0.5884; var_99 -1.4301; var_100 1.7515; var_101 -0.0210; var_102 0.4923; var_103 -0.6913; var_104 1.6229; var_105 2.1041; var_106 0.4882; var_107 -0.0849; var_108 -0.6678; var_109 1.3548; var_110 -0.9114; var_111 0.4120; var_112 0.3731; var_113 -1.9359; var_114 -0.5652; var_115 -0.2702; var_116 0.0916; var_117 -0.0398; var_118 -0.9230; var_119 1.0149; var_120 -0.6984; var_121 -0.9219; var_122 -0.0573; var_123 -1.0258; var_124 -0.0190; var_125 -1.5265; var_126 0.8423; var_127 -0.5055; var_128 -0.2441; var_129 -0.0011; var_130 0.6852; var_131 -0.4087; var_132 1.2687; var_133 -0.6549; var_134 1.6208; var_135 0.9701; var_136 0.6238; var_137 1.5490; var_138 0.3561; var_139 1.0261; var_140 1.0037; var_141 -1.2647; var_142 1.2420; var_143 -0.3648; var_144 0.0541; var_145 0.9061; var_146 0.4867; var_147 -1.7772; var_148 0.1936; var_149 1.2155; var_150 0.6923; var_151 0.1607; var_152 0.4548; var_153 -0.0168; var_154 0.7059; var_155 0.6471; var_156 -1.0836; var_157 -1.4938; var_158 -0.0383; var_159 0.3181; var_160 -0.8070; var_161 -1.4674; var_162 -1.2322; var_163 -1.1304; var_164 1.7513; var_165 -1.3247; var_166 -0.7108; var_167 0.4463; var_168 1.4993; var_169 -0.4000; var_170 -1.0762; var_171 -1.4098; var_172 0.1198; var_173 0.6406; var_174 -0.2313; var_175 -1.3473; var_176 -0.9749; var_177 0.7001; var_178 -0.2913; var_179 -0.3123; var_180 -1.0761; var_181 -0.7793; var_182 0.2618; var_183 1.2507; var_184 1.4024; var_185 2.0889; var_186 0.9005; var_187 -0.8107; var_188 0.5552; var_189 -0.1653; var_190 0.2652; var_191 -1.1507; var_192 0.8180; var_193 -0.4105; var_194 0.1688; var_195 -1.5798; var_196 1.0253; var_197 -0.3770; var_198 -1.0271; var_199 0.2151; ,var_0 0.2709; var_1 -0.6196; var_2 1.1928; var_3 -0.6878; var_4 0.7899; var_5 1.5450; var_6 0.2462; var_7 -0.0075; var_8 0.8583; var_9 0.4190; var_10 -0.1446; var_11 1.8925; var_12 -0.0008; var_13 -0.0240; var_14 -0.9344; var_15 -2.1174; var_16 1.7561; var_17 -1.4699; var_18 -0.9460; var_19 2.0116; var_20 -1.6773; var_21 -1.7726; var_22 1.4899; var_23 0.6668; var_24 -0.9560; var_25 0.7830; var_26 -1.3040; var_27 -0.9309; var_28 -0.6216; var_29 -1.7203; var_30 -0.2007; var_31 -1.1628; var_32 0.6935; var_33 1.0628; var_34 -0.1192; var_35 -0.5960; var_36 0.1966; var_37 -0.0101; var_38 0.0398; var_39 0.7406; var_40 -0.5277; var_41 -1.2492; var_42 -1.9308; var_43 0.6917; var_44 -1.3024; var_45 -1.6201; var_46 -1.3848; var_47 1.1977; var_48 1.7312; var_49 1.1515; var_50 -1.3098; var_51 -0.0251; var_52 -0.3173; var_53 0.8897; var_54 -1.0970; var_55 1.0301; var_56 0.7598; var_57 0.9331; var_58 -0.2901; var_59 -0.0724; var_60 -0.9794; var_61 0.4040; var_62 0.4528; var_63 -0.6333; var_64 1.1686; var_65 0.1444; var_66 -0.3527; var_67 -0.5434; var_68 0.4287; var_69 1.4069; var_70 1.3447; var_71 -0.5884; var_72 0.6414; var_73 0.0660; var_74 -0.8316; var_75 -1.6151; var_76 -0.3506; var_77 1.1564; var_78 0.0798; var_79 -0.4721; var_80 -0.4367; var_81 1.5022; var_82 0.4529; var_83 -0.7055; var_84 -0.4639; var_85 -1.1685; var_86 -2.4788; var_87 -0.0457; var_88 -0.3210; var_89 2.3897; var_90 1.2947; var_91 -0.6708; var_92 -1.1116; var_93 0.7496; var_94 0.2739; var_95 -1.9123; var_96 1.2165; var_97 0.6443; var_98 0.1975; var_99 0.7740; var_100 -0.7744; var_101 -1.0120; var_102 1.5276; var_103 0.7624; var_104 1.8649; var_105 -1.8957; var_106 -0.6742; var_107 1.8774; var_108 -1.5761; var_109 -1.2351; var_110 0.2894; var_111 0.7307; var_112 1.2781; var_113 0.0896; var_114 0.5428; var_115 0.7407; var_116 0.3909; var_117 -0.6202; var_118 -0.7057; var_119 1.0716; var_120 0.5865; var_121 -1.0531; var_122 1.3726; var_123 0.5003; var_124 -1.5191; var_125 0.3284; var_126 1.7602; var_127 0.5049; var_128 0.6038; var_129 0.2620; var_130 0.1951; var_131 -1.5856; var_132 -1.4042; var_133 0.6334; var_134 1.0992; var_135 -0.6225; var_136 -1.2691; var_137 0.0597; var_138 -0.6986; var_139 1.0915; var_140 0.0572; var_141 0.5639; var_142 -2.1615; var_143 -0.0194; var_144 -0.0439; var_145 1.6000; var_146 -0.5623; var_147 2.0315; var_148 1.3452; var_149 -0.9355; var_150 1.5492; var_151 1.1917; var_152 0.5964; var_153 -0.0030; var_154 -1.5229; var_155 0.3927; var_156 -1.0134; var_157 -0.8765; var_158 0.5689; var_159 0.0961; var_160 0.4813; var_161 1.0784; var_162 -1.0879; var_163 0.9188; var_164 -0.3902; var_165 -0.8330; var_166 0.6402; var_167 1.7311; var_168 -0.3401; var_169 0.4440; var_170 1.2513; var_171 1.1021; var_172 0.2532; var_173 1.0361; var_174 1.4101; var_175 -0.3944; var_176 -0.5904; var_177 1.7830; var_178 -0.7376; var_179 3.0266; var_180 -0.5417; var_181 -0.4356; var_182 -1.7419; var_183 0.1465; var_184 1.0491; var_185 -0.1860; var_186 -0.4112; var_187 -0.4838; var_188 -0.5240; var_189 -1.1300; var_190 0.9687; var_191 0.0933; var_192 0.4437; var_193 1.9089; var_194 -0.8172; var_195 1.5241; var_196 1.0708; var_197 -0.1326; var_198 0.8248; var_199 0.5064; ,var_0 -0.6805; var_1 -0.2740; var_2 0.5188; var_3 0.5370; var_4 -0.3073; var_5 -0.5096; var_6 1.7723; var_7 -0.5693; var_8 -1.5610; var_9 -1.3070; var_10 -0.1304; var_11 -1.3427; var_12 0.8882; var_13 -0.2614; var_14 -0.0049; var_15 0.1821; var_16 -0.6474; var_17 0.5911; var_18 -1.3403; var_19 1.0020; var_20 0.7590; var_21 0.1061; var_22 -1.0862; var_23 0.9364; var_24 -1.3005; var_25 -1.5774; var_26 -0.6662; var_27 -1.1569; var_28 0.3993; var_29 0.4165; var_30 -0.4271; var_31 0.9689; var_32 -0.6866; var_33 0.9868; var_34 -0.7201; var_35 0.0537; var_36 0.8057; var_37 0.4751; var_38 0.0575; var_39 0.0571; var_40 -0.8176; var_41 -1.1868; var_42 0.4390; var_43 1.5197; var_44 -0.8191; var_45 0.2234; var_46 -0.0675; var_47 0.6320; var_48 0.5317; var_49 -1.2459; var_50 0.2512; var_51 0.7517; var_52 0.6519; var_53 0.5201; var_54 0.9717; var_55 -1.1359; var_56 -0.2801; var_57 -0.5659; var_58 -0.4813; var_59 0.2988; var_60 0.1067; var_61 0.1346; var_62 -0.0012; var_63 1.6527; var_64 -1.7875; var_65 -0.5526; var_66 1.4014; var_67 -0.2824; var_68 0.5401; var_69 -0.6200; var_70 -1.8489; var_71 0.6823; var_72 1.4491; var_73 -0.9974; var_74 0.0159; var_75 0.4295; var_76 -0.1952; var_77 1.0925; var_78 0.4865; var_79 -1.2191; var_80 0.2262; var_81 0.4594; var_82 1.9832; var_83 1.1048; var_84 1.2934; var_85 0.1833; var_86 -1.3002; var_87 -0.3207; var_88 1.2862; var_89 -0.4428; var_90 -0.4447; var_91 0.6608; var_92 0.3393; var_93 -0.0877; var_94 1.1808; var_95 0.5636; var_96 0.7020; var_97 -0.1192; var_98 -0.0766; var_99 0.3871; var_100 0.6755; var_101 -0.1582; var_102 -0.8576; var_103 -0.9880; var_104 1.7846; var_105 -0.2868; var_106 -1.7159; var_107 -1.2056; var_108 -0.1657; var_109 0.4420; var_110 -0.5978; var_111 -0.5648; var_112 0.7578; var_113 -1.3351; var_114 0.0487; var_115 0.2625; var_116 -0.7460; var_117 0.9515; var_118 -1.3607; var_119 -0.2210; var_120 -0.2735; var_121 -1.3706; var_122 0.3082; var_123 -1.5053; var_124 -0.2125; var_125 -0.0767; var_126 1.2812; var_127 -1.0849; var_128 0.0577; var_129 0.4008; var_130 -0.8599; var_131 -0.9815; var_132 0.6972; var_133 -0.5066; var_134 1.4202; var_135 -0.9810; var_136 0.1513; var_137 -0.2297; var_138 0.5743; var_139 0.1161; var_140 0.8104; var_141 -0.7946; var_142 -0.3110; var_143 -1.6527; var_144 0.5004; var_145 -0.1214; var_146 0.4579; var_147 0.6819; var_148 0.4078; var_149 -0.6319; var_150 -1.0059; var_151 -0.5371; var_152 -1.0757; var_153 -1.2811; var_154 -2.4517; var_155 0.4600; var_156 1.3901; var_157 0.5485; var_158 2.0254; var_159 0.3331; var_160 -1.0137; var_161 0.9679; var_162 -0.4625; var_163 -1.0021; var_164 0.3374; var_165 0.2369; var_166 0.8528; var_167 -0.1819; var_168 0.7654; var_169 0.3604; var_170 -1.6022; var_171 -0.5715; var_172 -1.4528; var_173 -0.8636; var_174 0.7674; var_175 -0.2479; var_176 0.3310; var_177 -1.1556; var_178 -1.0119; var_179 -0.0692; var_180 -0.2946; var_181 -0.5063; var_182 -1.5585; var_183 -1.2538; var_184 1.1072; var_185 -0.2787; var_186 -1.1254; var_187 0.3512; var_188 -1.3161; var_189 -1.6266; var_190 -0.0704; var_191 0.7783; var_192 -0.1749; var_193 -0.4119; var_194 1.1513; var_195 2.3000; var_196 -1.6153; var_197 -0.6978; var_198 -0.3821; var_199 0.3575; ,var_0 0.1261; var_1 -0.1275; var_2 -0.6668; var_3 0.1960; var_4 0.9270; var_5 0.4137; var_6 0.5025; var_7 -0.4787; var_8 -1.8434; var_9 0.5484; var_10 0.3492; var_11 1.0138; var_12 -0.9351; var_13 0.7427; var_14 -0.4797; var_15 0.6434; var_16 0.5505; var_17 0.7861; var_18 0.0901; var_19 0.1599; var_20 1.1918; var_21 -0.5747; var_22 0.8818; var_23 -0.5635; var_24 0.4107; var_25 0.2420; var_26 0.8223; var_27 0.1542; var_28 0.4768; var_29 -0.8449; var_30 -0.9464; var_31 0.0233; var_32 -0.7970; var_33 -1.9878; var_34 -1.5248; var_35 -1.8795; var_36 1.9208; var_37 -1.3402; var_38 -0.3435; var_39 -0.0004; var_40 0.3515; var_41 -1.7391; var_42 0.7960; var_43 -0.9255; var_44 -0.1512; var_45 -0.5601; var_46 0.4917; var_47 -2.1463; var_48 -1.2242; var_49 -1.0552; var_50 -0.0828; var_51 -0.4741; var_52 0.8650; var_53 -1.0451; var_54 0.8266; var_55 -0.0608; var_56 -0.6096; var_57 0.3963; var_58 0.0348; var_59 0.6246; var_60 0.8613; var_61 -1.1258; var_62 1.2662; var_63 -1.6216; var_64 1.5339; var_65 1.4048; var_66 -0.1552; var_67 1.5855; var_68 0.4287; var_69 -0.1688; var_70 -1.7080; var_71 -1.5770; var_72 0.1553; var_73 0.6439; var_74 -1.0625; var_75 -0.2342; var_76 0.7094; var_77 1.1944; var_78 -0.6353; var_79 0.6687; var_80 -0.6739; var_81 -1.8205; var_82 0.6005; var_83 -0.7621; var_84 0.6740; var_85 -0.0980; var_86 -1.0240; var_87 0.7542; var_88 -1.6679; var_89 1.0755; var_90 0.6818; var_91 0.3205; var_92 0.3970; var_93 0.4118; var_94 -1.3435; var_95 -1.6236; var_96 -0.3591; var_97 -0.0312; var_98 1.5101; var_99 1.4470; var_100 -1.4464; var_101 1.8426; var_102 -0.4259; var_103 -1.1729; var_104 -1.1091; var_105 0.0451; var_106 0.9360; var_107 -1.4079; var_108 0.5900; var_109 -0.9302; var_110 -0.3224; var_111 0.6105; var_112 -1.0529; var_113 0.7956; var_114 -0.5122; var_115 -1.8185; var_116 1.7843; var_117 1.6534; var_118 1.0084; var_119 0.4948; var_120 0.5020; var_121 -0.0031; var_122 0.5376; var_123 -2.4923; var_124 -0.5745; var_125 -0.4575; var_126 -0.8502; var_127 -0.7078; var_128 1.4622; var_129 -0.3565; var_130 2.4523; var_131 1.1041; var_132 0.7875; var_133 1.0171; var_134 0.5874; var_135 0.8157; var_136 0.4416; var_137 0.7847; var_138 -0.8856; var_139 0.1570; var_140 0.0968; var_141 1.9461; var_142 -0.3464; var_143 -1.5320; var_144 1.4348; var_145 -0.4908; var_146 0.0633; var_147 1.0055; var_148 -1.1516; var_149 -0.2817; var_150 0.5221; var_151 1.7715; var_152 0.0044; var_153 0.7515; var_154 2.0267; var_155 -1.5359; var_156 -1.2144; var_157 0.6467; var_158 0.2621; var_159 0.5233; var_160 0.7017; var_161 1.5376; var_162 1.2986; var_163 -1.3483; var_164 -1.5035; var_165 -0.4119; var_166 -1.0143; var_167 0.1893; var_168 -1.4079; var_169 -0.7919; var_170 -1.6161; var_171 -0.9950; var_172 -0.1851; var_173 2.0750; var_174 -0.7661; var_175 -1.2231; var_176 1.9526; var_177 0.7880; var_178 -1.1015; var_179 1.1067; var_180 -0.1922; var_181 -1.2202; var_182 0.1317; var_183 -0.3369; var_184 -1.4180; var_185 0.8335; var_186 -0.3237; var_187 -0.2157; var_188 -0.7535; var_189 1.1278; var_190 0.2721; var_191 -0.8928; var_192 -0.8200; var_193 -0.4781; var_194 1.6074; var_195 -0.7904; var_196 -0.9563; var_197 1.4968; var_198 0.6965; var_199 -0.5421; ,var_0 -0.2765; var_1 0.0373; var_2 0.8198; var_3 -0.0771; var_4 0.7375; var_5 0.9596; var_6 0.6153; var_7 0.7884; var_8 1.7937; var_9 0.0899; var_10 -1.7930; var_11 -1.4895; var_12 -0.9256; var_13 -0.1370; var_14 0.1129; var_15 1.1731; var_16 -0.3312; var_17 0.3933; var_18 -1.1081; var_19 -0.1408; var_20 1.3829; var_21 0.2065; var_22 2.0368; var_23 -0.5800; var_24 0.9599; var_25 -0.4360; var_26 1.2211; var_27 -1.4454; var_28 0.4697; var_29 1.1006; var_30 0.5701; var_31 -0.4270; var_32 0.1936; var_33 1.0520; var_34 1.7936; var_35 -0.6166; var_36 0.1943; var_37 -0.0212; var_38 2.0213; var_39 0.1911; var_40 0.1383; var_41 0.8037; var_42 0.9971; var_43 -0.1902; var_44 -0.3440; var_45 -2.4658; var_46 0.8850; var_47 1.1834; var_48 -1.3029; var_49 -0.2853; var_50 0.8482; var_51 -0.3598; var_52 0.2182; var_53 -0.3305; var_54 -1.1501; var_55 0.2472; var_56 0.1000; var_57 -0.1116; var_58 -0.2822; var_59 0.3215; var_60 -0.8259; var_61 -1.3600; var_62 -0.6776; var_63 -0.7840; var_64 -0.7428; var_65 -1.4031; var_66 1.0617; var_67 -1.4010; var_68 1.5566; var_69 0.0224; var_70 1.3080; var_71 0.3885; var_72 -0.3459; var_73 -2.0137; var_74 -1.7055; var_75 1.0738; var_76 -0.6332; var_77 0.0253; var_78 0.9145; var_79 -0.0039; var_80 -0.3811; var_81 -0.6062; var_82 -0.6817; var_83 -0.9331; var_84 1.6848; var_85 -0.9794; var_86 0.1887; var_87 1.5553; var_88 -0.2796; var_89 0.0208; var_90 -1.7671; var_91 0.1245; var_92 -0.8076; var_93 -0.2282; var_94 1.1059; var_95 0.1715; var_96 0.0358; var_97 1.3255; var_98 -0.0957; var_99 0.7620; var_100 -1.7807; var_101 -0.2138; var_102 -0.5732; var_103 0.6797; var_104 -2.2318; var_105 1.1084; var_106 0.1083; var_107 -0.9382; var_108 -0.8239; var_109 2.2533; var_110 -1.4940; var_111 -0.3226; var_112 -1.4154; var_113 -0.0339; var_114 -0.1696; var_115 -2.2262; var_116 -0.5649; var_117 0.7197; var_118 2.1731; var_119 0.4108; var_120 1.3711; var_121 0.8199; var_122 0.7961; var_123 0.4297; var_124 -0.1232; var_125 -1.1252; var_126 -0.8008; var_127 1.9807; var_128 2.0970; var_129 -1.0917; var_130 -0.9983; var_131 0.8752; var_132 -0.0343; var_133 -0.5220; var_134 -0.3261; var_135 1.4086; var_136 -0.5578; var_137 0.9203; var_138 0.3234; var_139 0.8042; var_140 0.6564; var_141 -1.0853; var_142 -0.0477; var_143 1.2840; var_144 -1.0431; var_145 1.1082; var_146 0.4871; var_147 -1.2691; var_148 -1.1712; var_149 0.4442; var_150 1.3531; var_151 -2.2267; var_152 -0.5944; var_153 1.5344; var_154 -0.4600; var_155 2.1989; var_156 -0.2170; var_157 -1.3994; var_158 1.1635; var_159 -0.5180; var_160 0.8511; var_161 0.2849; var_162 0.0713; var_163 1.3715; var_164 1.7331; var_165 0.3864; var_166 0.7215; var_167 0.3080; var_168 -0.5827; var_169 -0.2271; var_170 0.3276; var_171 -0.3395; var_172 -0.0040; var_173 0.5094; var_174 -0.2443; var_175 1.6240; var_176 -0.0729; var_177 0.6248; var_178 0.3192; var_179 0.9205; var_180 -0.9409; var_181 -0.2309; var_182 0.4652; var_183 0.7707; var_184 -0.0976; var_185 -0.8281; var_186 -0.7976; var_187 1.4045; var_188 0.1612; var_189 -1.0545; var_190 -1.0348; var_191 0.6892; var_192 -1.4083; var_193 1.4688; var_194 -1.5005; var_195 -0.9595; var_196 0.3006; var_197 0.6415; var_198 0.7057; var_199 -0.5240; \n",
       "y: CategoryList\n",
       "0,0,0,0,0\n",
       "Path: data;\n",
       "\n",
       "Valid: LabelList (49999 items)\n",
       "x: TabularList\n",
       "var_0 0.1943; var_1 1.1271; var_2 -0.6751; var_3 0.1843; var_4 0.9874; var_5 0.8273; var_6 0.1885; var_7 0.6960; var_8 0.9245; var_9 0.4550; var_10 0.9949; var_11 -0.5641; var_12 0.0003; var_13 1.4925; var_14 1.2193; var_15 -0.3546; var_16 -0.0496; var_17 2.4363; var_18 0.0867; var_19 0.7357; var_20 -0.7444; var_21 0.1884; var_22 -1.5646; var_23 -0.7615; var_24 0.8828; var_25 -0.7602; var_26 0.6535; var_27 -0.7036; var_28 -0.5313; var_29 0.7373; var_30 0.8983; var_31 -2.0190; var_32 -1.3163; var_33 -1.0901; var_34 -1.1088; var_35 -0.1936; var_36 0.5143; var_37 0.4802; var_38 0.6553; var_39 -0.3050; var_40 -1.6210; var_41 0.9908; var_42 0.3711; var_43 -0.3895; var_44 0.1116; var_45 -0.6520; var_46 0.6943; var_47 -0.9876; var_48 -0.5408; var_49 -0.0367; var_50 1.0005; var_51 0.0869; var_52 -0.1891; var_53 0.6841; var_54 1.3310; var_55 0.4917; var_56 -0.9558; var_57 0.0138; var_58 -1.4515; var_59 -0.7224; var_60 -0.4590; var_61 0.5649; var_62 0.5382; var_63 -2.5060; var_64 -1.7921; var_65 -0.4529; var_66 -1.0686; var_67 1.6053; var_68 -1.1031; var_69 -1.5069; var_70 -0.7969; var_71 0.2417; var_72 -0.0550; var_73 -0.1500; var_74 -1.9056; var_75 -0.0725; var_76 0.0688; var_77 1.0248; var_78 0.6461; var_79 0.2007; var_80 0.6140; var_81 -0.4541; var_82 0.9971; var_83 0.4665; var_84 1.2031; var_85 0.2219; var_86 1.1491; var_87 0.8436; var_88 -1.1152; var_89 1.0957; var_90 0.4989; var_91 -1.1508; var_92 0.5697; var_93 -0.7853; var_94 -0.2260; var_95 -0.5969; var_96 -0.7491; var_97 1.5610; var_98 -0.2819; var_99 -0.7553; var_100 0.4428; var_101 0.8102; var_102 0.3896; var_103 1.4779; var_104 -1.2656; var_105 0.8978; var_106 -0.1586; var_107 -0.9252; var_108 -0.9244; var_109 -1.0580; var_110 -1.0380; var_111 1.0672; var_112 0.5184; var_113 0.3633; var_114 0.1906; var_115 1.0188; var_116 -0.5918; var_117 0.7174; var_118 0.4317; var_119 1.8993; var_120 -0.7633; var_121 0.9960; var_122 0.9307; var_123 0.9271; var_124 0.1070; var_125 0.4151; var_126 -1.8050; var_127 1.4567; var_128 0.4989; var_129 1.5009; var_130 -1.0332; var_131 -0.1166; var_132 0.3281; var_133 -0.1916; var_134 1.7555; var_135 0.1021; var_136 0.9057; var_137 1.3058; var_138 0.5339; var_139 -0.5181; var_140 1.3276; var_141 -0.8088; var_142 -1.0242; var_143 1.8359; var_144 -0.0676; var_145 -0.6173; var_146 -0.1292; var_147 0.4320; var_148 -0.2761; var_149 -1.0441; var_150 2.1385; var_151 -0.6243; var_152 0.1895; var_153 -0.6832; var_154 0.2555; var_155 0.8159; var_156 -1.1326; var_157 2.0741; var_158 0.6955; var_159 1.0480; var_160 -1.0909; var_161 -0.2890; var_162 -0.8877; var_163 0.8569; var_164 1.3652; var_165 0.0253; var_166 0.2215; var_167 0.6021; var_168 -0.2987; var_169 -1.3659; var_170 0.6272; var_171 1.2905; var_172 0.2393; var_173 1.4347; var_174 0.9690; var_175 0.5403; var_176 -0.3811; var_177 1.7419; var_178 0.8524; var_179 1.6805; var_180 1.3350; var_181 1.4412; var_182 0.5683; var_183 0.3512; var_184 0.9062; var_185 2.1966; var_186 0.2229; var_187 -0.6590; var_188 0.8016; var_189 0.2123; var_190 1.0941; var_191 -0.6061; var_192 -0.5839; var_193 -0.4519; var_194 -1.4144; var_195 1.8519; var_196 -0.7990; var_197 0.8394; var_198 -0.2534; var_199 1.9938; ,var_0 -0.5010; var_1 0.9503; var_2 -1.2100; var_3 -1.0343; var_4 -0.4869; var_5 -0.8541; var_6 -0.8404; var_7 0.1767; var_8 -0.5066; var_9 -0.2019; var_10 -0.6370; var_11 0.0463; var_12 0.9566; var_13 1.0354; var_14 0.8087; var_15 -0.0744; var_16 0.7589; var_17 0.0184; var_18 0.5703; var_19 1.3329; var_20 -1.6626; var_21 0.1689; var_22 -0.2994; var_23 0.3492; var_24 1.2141; var_25 -0.3431; var_26 0.2622; var_27 0.9471; var_28 0.6442; var_29 -0.7829; var_30 0.7840; var_31 -1.0631; var_32 0.3243; var_33 -0.0849; var_34 0.7534; var_35 -0.7847; var_36 -0.3501; var_37 0.0620; var_38 0.5663; var_39 -1.5885; var_40 0.6685; var_41 0.9467; var_42 -0.5380; var_43 -0.3433; var_44 -1.3119; var_45 -1.5741; var_46 -0.9489; var_47 -1.3822; var_48 -1.1471; var_49 -0.7606; var_50 0.2891; var_51 -1.5756; var_52 0.1578; var_53 -0.2527; var_54 1.7847; var_55 -1.6143; var_56 -1.2215; var_57 0.6830; var_58 -0.2914; var_59 -1.5342; var_60 -0.6967; var_61 -0.6806; var_62 -0.2834; var_63 -1.2138; var_64 -2.1416; var_65 -0.0453; var_66 0.0406; var_67 -0.2221; var_68 0.3591; var_69 -0.1046; var_70 -2.1270; var_71 1.0967; var_72 2.2291; var_73 -0.3738; var_74 0.1442; var_75 0.3627; var_76 -1.0182; var_77 1.2986; var_78 -0.2478; var_79 1.8236; var_80 0.1460; var_81 1.5146; var_82 0.0266; var_83 0.6795; var_84 0.6394; var_85 0.9229; var_86 -0.7441; var_87 -0.3285; var_88 -1.2425; var_89 -1.4283; var_90 -0.8206; var_91 -0.1162; var_92 0.5648; var_93 -0.3215; var_94 -0.2945; var_95 0.1699; var_96 -0.5656; var_97 -0.4693; var_98 -0.2426; var_99 0.8124; var_100 1.1137; var_101 0.2324; var_102 0.2145; var_103 -1.4685; var_104 -1.0589; var_105 -0.1890; var_106 -1.2911; var_107 0.8212; var_108 -0.5684; var_109 -1.1165; var_110 0.3838; var_111 -0.8486; var_112 -0.5287; var_113 -2.0662; var_114 0.2185; var_115 -1.7158; var_116 -1.3569; var_117 -1.2171; var_118 1.1475; var_119 1.2392; var_120 0.6613; var_121 -0.3629; var_122 -0.8649; var_123 -0.2899; var_124 0.4359; var_125 0.3412; var_126 0.2331; var_127 1.0862; var_128 -0.3506; var_129 -0.1212; var_130 -0.8953; var_131 -2.4039; var_132 -0.2556; var_133 -1.3407; var_134 -0.2055; var_135 0.9447; var_136 0.6905; var_137 0.3701; var_138 0.0112; var_139 -0.2633; var_140 -1.0086; var_141 -0.9691; var_142 -0.5830; var_143 0.2386; var_144 0.6784; var_145 -1.3146; var_146 0.2293; var_147 1.8662; var_148 -0.4189; var_149 1.2755; var_150 0.1546; var_151 0.0819; var_152 -0.1513; var_153 -0.2320; var_154 1.3062; var_155 -0.1080; var_156 0.0398; var_157 -0.6323; var_158 2.0090; var_159 -1.6636; var_160 -0.7189; var_161 -0.4156; var_162 0.8203; var_163 -0.1477; var_164 -0.7636; var_165 1.5195; var_166 1.4279; var_167 0.9175; var_168 1.1387; var_169 -0.3250; var_170 -0.2181; var_171 -1.7586; var_172 1.9979; var_173 -0.3764; var_174 -0.1889; var_175 -0.6491; var_176 -0.6677; var_177 -1.1621; var_178 -0.7082; var_179 -0.7263; var_180 -0.2297; var_181 -0.2520; var_182 0.0421; var_183 -0.1601; var_184 -0.7697; var_185 -0.7148; var_186 0.3372; var_187 -0.9769; var_188 -0.1948; var_189 -0.2083; var_190 -1.0491; var_191 -0.3061; var_192 -2.1312; var_193 -1.0429; var_194 -0.5966; var_195 -0.3637; var_196 0.2396; var_197 -0.0838; var_198 0.2456; var_199 1.2980; ,var_0 0.2481; var_1 -0.8780; var_2 -1.1240; var_3 2.2783; var_4 0.8684; var_5 -0.2916; var_6 0.7423; var_7 -0.5745; var_8 -0.9487; var_9 -0.9450; var_10 0.3819; var_11 1.0061; var_12 1.3685; var_13 -1.2761; var_14 -0.2325; var_15 -1.2825; var_16 0.3010; var_17 0.2820; var_18 -0.1620; var_19 -0.7193; var_20 -1.2714; var_21 0.1804; var_22 -1.9565; var_23 0.2143; var_24 -0.3060; var_25 2.2599; var_26 -0.8006; var_27 0.8491; var_28 1.0233; var_29 -0.5254; var_30 0.0298; var_31 0.2803; var_32 0.4300; var_33 -0.7825; var_34 0.0751; var_35 -1.3566; var_36 0.2671; var_37 -0.4509; var_38 -0.9355; var_39 -0.2651; var_40 -0.5969; var_41 -0.5701; var_42 -0.6477; var_43 1.2133; var_44 -0.5320; var_45 -0.8268; var_46 0.6260; var_47 1.9684; var_48 -1.8301; var_49 0.0683; var_50 -0.1668; var_51 0.1271; var_52 0.3082; var_53 0.0815; var_54 -0.5064; var_55 -0.5415; var_56 -1.1737; var_57 -1.9671; var_58 0.3194; var_59 0.1993; var_60 -0.1166; var_61 0.2683; var_62 -0.6240; var_63 0.8910; var_64 0.1924; var_65 1.1246; var_66 -0.1443; var_67 -0.6735; var_68 1.8073; var_69 -0.6631; var_70 -2.3835; var_71 -2.5606; var_72 1.3693; var_73 -0.8871; var_74 -1.0475; var_75 -1.8395; var_76 -0.2394; var_77 -0.4258; var_78 -1.7242; var_79 2.0667; var_80 -0.2357; var_81 0.2582; var_82 0.3300; var_83 0.1150; var_84 -0.8179; var_85 0.1952; var_86 -1.5644; var_87 -1.4085; var_88 0.8987; var_89 2.3452; var_90 -1.1866; var_91 -1.2281; var_92 -0.6910; var_93 -1.5912; var_94 -0.8836; var_95 2.4510; var_96 -1.0003; var_97 -0.1666; var_98 1.3997; var_99 -1.5424; var_100 -1.4752; var_101 -2.3485; var_102 -0.0554; var_103 -0.1347; var_104 -0.7945; var_105 0.3646; var_106 0.9104; var_107 0.4339; var_108 1.3060; var_109 1.6649; var_110 1.0526; var_111 -0.5727; var_112 1.4761; var_113 0.8904; var_114 -0.4193; var_115 1.3658; var_116 -0.9543; var_117 -0.9653; var_118 0.3548; var_119 0.0927; var_120 -0.3886; var_121 -0.1500; var_122 0.5189; var_123 -0.5311; var_124 0.2712; var_125 1.3568; var_126 -0.7916; var_127 -0.7825; var_128 -0.3702; var_129 1.0062; var_130 0.3974; var_131 0.3855; var_132 -1.2381; var_133 -0.1544; var_134 -1.9524; var_135 0.6060; var_136 0.7428; var_137 0.5530; var_138 -0.3279; var_139 -1.2916; var_140 1.3711; var_141 0.4295; var_142 0.5819; var_143 0.3959; var_144 -0.7329; var_145 -1.0494; var_146 -0.8919; var_147 -0.4386; var_148 0.6075; var_149 0.9547; var_150 -2.1248; var_151 -0.3214; var_152 1.7457; var_153 0.6208; var_154 -0.6618; var_155 0.2203; var_156 0.7226; var_157 -1.7908; var_158 -0.4842; var_159 0.2264; var_160 2.5381; var_161 1.5945; var_162 0.2768; var_163 0.2751; var_164 -1.0896; var_165 1.4044; var_166 0.3394; var_167 1.5858; var_168 1.2432; var_169 -1.4290; var_170 -0.8452; var_171 -0.4107; var_172 0.9809; var_173 -1.6730; var_174 -0.3349; var_175 -0.9161; var_176 -0.1107; var_177 0.8145; var_178 -1.8845; var_179 -0.9345; var_180 -0.4445; var_181 -0.1404; var_182 -1.1998; var_183 -0.1713; var_184 -0.1212; var_185 0.3255; var_186 -1.8263; var_187 -0.2891; var_188 0.6788; var_189 -1.8693; var_190 -0.5370; var_191 -1.7754; var_192 0.1523; var_193 -2.1380; var_194 0.1295; var_195 0.6117; var_196 1.3893; var_197 0.8572; var_198 -2.3027; var_199 -0.2591; ,var_0 0.7770; var_1 0.6790; var_2 -0.4932; var_3 -0.4867; var_4 2.1517; var_5 1.9301; var_6 1.0482; var_7 -0.2117; var_8 0.3774; var_9 1.3155; var_10 0.0507; var_11 -1.1004; var_12 0.1207; var_13 -1.4865; var_14 -0.6629; var_15 -0.6434; var_16 0.5190; var_17 0.5710; var_18 1.0778; var_19 -0.6775; var_20 0.2306; var_21 -0.6309; var_22 1.0872; var_23 -0.4391; var_24 -1.3167; var_25 0.6557; var_26 -0.1391; var_27 1.1933; var_28 -0.5936; var_29 0.0919; var_30 1.7391; var_31 -1.3148; var_32 1.3962; var_33 0.2005; var_34 0.9343; var_35 2.0413; var_36 -0.7361; var_37 0.7110; var_38 -1.0235; var_39 0.5581; var_40 0.3252; var_41 0.9330; var_42 0.2924; var_43 1.0343; var_44 0.8064; var_45 -1.9083; var_46 0.1291; var_47 -0.1506; var_48 1.7179; var_49 0.5296; var_50 1.4286; var_51 -2.1168; var_52 0.6091; var_53 -1.5501; var_54 -0.6006; var_55 -0.7215; var_56 0.5848; var_57 -1.5374; var_58 -0.9056; var_59 -1.0731; var_60 -1.5366; var_61 0.7195; var_62 0.0874; var_63 -1.2293; var_64 0.3171; var_65 -0.6876; var_66 -1.8178; var_67 1.6687; var_68 -0.9638; var_69 0.1915; var_70 -1.7871; var_71 -1.4358; var_72 -1.1186; var_73 -0.8100; var_74 -0.4025; var_75 0.8674; var_76 -0.1630; var_77 -1.0298; var_78 -0.4487; var_79 -1.2851; var_80 -0.7327; var_81 -0.0544; var_82 0.1930; var_83 1.4533; var_84 -1.0358; var_85 -0.2824; var_86 1.4762; var_87 -0.6696; var_88 0.4519; var_89 1.1090; var_90 -0.0466; var_91 1.0975; var_92 0.4832; var_93 -0.1298; var_94 -0.3771; var_95 0.9681; var_96 0.3722; var_97 -1.0110; var_98 0.2309; var_99 0.4137; var_100 0.8266; var_101 1.4710; var_102 -1.1049; var_103 0.2917; var_104 1.5213; var_105 2.2047; var_106 -0.4302; var_107 1.3529; var_108 0.7484; var_109 -0.9847; var_110 1.9109; var_111 0.5619; var_112 0.2534; var_113 0.6007; var_114 0.8710; var_115 1.7534; var_116 -1.8514; var_117 -1.4132; var_118 -0.2836; var_119 1.0168; var_120 0.2782; var_121 -0.2668; var_122 0.3096; var_123 -0.5233; var_124 0.5237; var_125 -1.0586; var_126 -1.8476; var_127 -0.2921; var_128 -0.3960; var_129 -0.0628; var_130 -0.0143; var_131 1.2254; var_132 0.0108; var_133 -0.1741; var_134 0.1435; var_135 0.6809; var_136 0.2795; var_137 -0.7597; var_138 1.1636; var_139 1.1709; var_140 -1.2903; var_141 1.3873; var_142 0.2547; var_143 0.3258; var_144 0.0731; var_145 0.1967; var_146 0.2446; var_147 -0.4219; var_148 0.5733; var_149 0.1644; var_150 -0.4977; var_151 1.0683; var_152 0.5323; var_153 -1.2676; var_154 -0.5940; var_155 0.1388; var_156 1.2181; var_157 -0.7482; var_158 1.0556; var_159 0.2279; var_160 1.5711; var_161 -0.4528; var_162 1.1644; var_163 -0.0894; var_164 -0.6714; var_165 -0.0644; var_166 -0.4771; var_167 -1.4725; var_168 0.4428; var_169 -1.0394; var_170 1.0974; var_171 1.7087; var_172 -0.6790; var_173 0.5649; var_174 -0.1800; var_175 -0.2573; var_176 -0.5912; var_177 -0.1407; var_178 0.6941; var_179 0.8589; var_180 -0.3358; var_181 -0.3366; var_182 0.1873; var_183 0.3052; var_184 -0.7163; var_185 -1.3623; var_186 -0.4852; var_187 0.2455; var_188 -0.5947; var_189 -0.7846; var_190 1.1941; var_191 -0.9971; var_192 1.5231; var_193 0.5418; var_194 -1.0806; var_195 -1.3942; var_196 0.1869; var_197 0.0270; var_198 -0.6390; var_199 -1.8473; ,var_0 -0.3194; var_1 -0.7411; var_2 -0.7122; var_3 -0.1020; var_4 1.7238; var_5 -0.1304; var_6 -0.8951; var_7 -0.3473; var_8 0.1988; var_9 0.7672; var_10 0.0684; var_11 -1.9765; var_12 -1.3175; var_13 0.8967; var_14 0.5534; var_15 -1.3658; var_16 -1.2525; var_17 -1.0587; var_18 0.0422; var_19 1.4226; var_20 0.5587; var_21 -0.9969; var_22 -0.5722; var_23 0.7592; var_24 0.4021; var_25 -0.8472; var_26 1.2240; var_27 -0.9611; var_28 0.2874; var_29 -1.4636; var_30 -1.7335; var_31 -0.8505; var_32 -1.4690; var_33 -0.8250; var_34 0.7919; var_35 0.3879; var_36 -0.9579; var_37 -0.2134; var_38 -0.4654; var_39 -1.8327; var_40 -0.1971; var_41 1.5357; var_42 -0.3955; var_43 -0.3756; var_44 -0.4772; var_45 0.3855; var_46 0.1181; var_47 1.2773; var_48 0.5702; var_49 -0.0443; var_50 -1.3928; var_51 -0.8115; var_52 -0.9537; var_53 0.8700; var_54 1.3537; var_55 -0.3557; var_56 -0.4939; var_57 -0.8761; var_58 0.3047; var_59 -0.2508; var_60 -1.5779; var_61 0.6457; var_62 0.9871; var_63 -0.0591; var_64 -0.1119; var_65 -2.0547; var_66 0.7767; var_67 -1.1345; var_68 0.8743; var_69 1.3355; var_70 0.7870; var_71 0.8234; var_72 1.5301; var_73 1.0232; var_74 -1.0051; var_75 -0.2247; var_76 -0.0016; var_77 0.0612; var_78 0.6696; var_79 -0.1481; var_80 -0.6417; var_81 2.3943; var_82 -1.4915; var_83 0.5210; var_84 0.4316; var_85 -0.0864; var_86 -0.5575; var_87 0.0971; var_88 -0.9927; var_89 -0.9351; var_90 0.6922; var_91 -0.7862; var_92 0.3475; var_93 0.1625; var_94 -1.7218; var_95 2.3845; var_96 -1.5078; var_97 -0.8478; var_98 0.0274; var_99 0.9466; var_100 -0.0909; var_101 -0.1437; var_102 0.1857; var_103 -0.8465; var_104 -0.6084; var_105 0.2804; var_106 -1.3611; var_107 -0.5307; var_108 -0.7999; var_109 -0.8128; var_110 -0.4516; var_111 0.6721; var_112 0.5245; var_113 0.8961; var_114 0.2606; var_115 -0.1564; var_116 -1.0391; var_117 0.6423; var_118 -0.8101; var_119 1.1224; var_120 -1.0059; var_121 0.7769; var_122 -0.8208; var_123 1.2816; var_124 -0.5929; var_125 0.4110; var_126 1.4471; var_127 1.7467; var_128 0.7453; var_129 1.3336; var_130 1.0809; var_131 0.4434; var_132 -1.1486; var_133 -0.7052; var_134 -1.7345; var_135 1.1242; var_136 1.0726; var_137 -0.2320; var_138 -1.0282; var_139 -0.3726; var_140 1.2748; var_141 0.2258; var_142 1.7467; var_143 -2.1958; var_144 -0.3866; var_145 1.1284; var_146 0.9897; var_147 0.2937; var_148 1.1164; var_149 -0.8021; var_150 -2.0036; var_151 0.4076; var_152 -0.8716; var_153 1.4454; var_154 -0.9543; var_155 -0.5314; var_156 1.4890; var_157 -0.6524; var_158 -0.6459; var_159 0.2338; var_160 2.1965; var_161 0.7335; var_162 -0.3047; var_163 0.7333; var_164 0.5073; var_165 0.6316; var_166 1.3325; var_167 -0.3364; var_168 0.4393; var_169 -0.3683; var_170 1.5201; var_171 -0.7408; var_172 0.2335; var_173 0.7432; var_174 0.6776; var_175 -0.2345; var_176 0.5109; var_177 -0.1688; var_178 -1.4603; var_179 1.1076; var_180 0.5885; var_181 -0.0031; var_182 -1.8713; var_183 -0.5286; var_184 -1.5941; var_185 0.1503; var_186 -0.7127; var_187 0.2496; var_188 0.1635; var_189 1.8792; var_190 0.3051; var_191 0.3843; var_192 2.4698; var_193 0.8836; var_194 -1.1622; var_195 1.3534; var_196 -0.5603; var_197 -1.0454; var_198 -0.2343; var_199 -0.0615; \n",
       "y: CategoryList\n",
       "0,0,0,0,0\n",
       "Path: data;\n",
       "\n",
       "Test: LabelList (200000 items)\n",
       "x: TabularList\n",
       "var_0 0.1278; var_1 2.3215; var_2 0.8497; var_3 1.2886; var_4 0.2169; var_5 0.3444; var_6 0.5100; var_7 0.5003; var_8 0.5545; var_9 1.0057; var_10 -0.4402; var_11 -0.1859; var_12 -0.2864; var_13 -1.7631; var_14 0.0024; var_15 -0.1752; var_16 -0.6378; var_17 -1.9920; var_18 0.0441; var_19 0.4655; var_20 -1.6296; var_21 0.1877; var_22 -0.9544; var_23 0.0861; var_24 -1.0956; var_25 1.5829; var_26 -0.9190; var_27 -0.6900; var_28 0.2262; var_29 -0.4837; var_30 0.7409; var_31 -0.5206; var_32 0.9947; var_33 -0.4625; var_34 -0.1872; var_35 0.8323; var_36 -0.7213; var_37 -1.0374; var_38 -0.2019; var_39 1.9915; var_40 -1.0727; var_41 1.6130; var_42 0.0917; var_43 0.8596; var_44 0.7489; var_45 -0.9013; var_46 0.2950; var_47 2.0087; var_48 0.2201; var_49 0.0236; var_50 0.4523; var_51 0.1192; var_52 -0.4665; var_53 1.7173; var_54 -0.1975; var_55 0.6848; var_56 0.7546; var_57 0.1799; var_58 -1.9935; var_59 0.4644; var_60 -0.0508; var_61 0.7195; var_62 -0.8136; var_63 0.0684; var_64 0.3764; var_65 0.5023; var_66 0.1591; var_67 0.7533; var_68 -0.8942; var_69 0.4828; var_70 0.7409; var_71 0.4939; var_72 -1.3757; var_73 1.4282; var_74 0.5197; var_75 0.8046; var_76 0.1578; var_77 -1.3039; var_78 -1.1170; var_79 2.3152; var_80 0.4974; var_81 0.9487; var_82 2.1198; var_83 1.0858; var_84 0.2609; var_85 0.5363; var_86 -0.1062; var_87 1.5993; var_88 1.7913; var_89 1.1822; var_90 0.6769; var_91 0.6287; var_92 0.5953; var_93 -0.7618; var_94 -1.8405; var_95 -0.7932; var_96 -1.0161; var_97 0.9319; var_98 0.5197; var_99 1.3990; var_100 -0.2866; var_101 0.7871; var_102 1.0041; var_103 -0.4130; var_104 0.6897; var_105 -0.8819; var_106 -0.1755; var_107 -0.7651; var_108 -1.2102; var_109 -0.7780; var_110 -0.4576; var_111 -0.2512; var_112 0.6941; var_113 1.3544; var_114 -1.0034; var_115 -0.2549; var_116 0.4971; var_117 -1.2091; var_118 -0.1546; var_119 1.3030; var_120 1.4471; var_121 0.0633; var_122 -0.1412; var_123 0.3763; var_124 -1.2095; var_125 0.0100; var_126 1.1861; var_127 1.0161; var_128 -1.0227; var_129 0.2943; var_130 0.3362; var_131 0.8232; var_132 1.9203; var_133 1.8672; var_134 0.1046; var_135 0.4951; var_136 -1.1972; var_137 0.0144; var_138 -1.6985; var_139 -1.3439; var_140 -1.7489; var_141 -0.7471; var_142 1.3772; var_143 0.2512; var_144 0.6274; var_145 -0.4662; var_146 0.5317; var_147 -1.1312; var_148 0.5602; var_149 -0.0001; var_150 0.7963; var_151 -0.0636; var_152 -0.0384; var_153 -0.8710; var_154 2.4209; var_155 0.5477; var_156 -1.3585; var_157 0.0549; var_158 -0.2246; var_159 0.1884; var_160 -1.6826; var_161 -1.0179; var_162 -1.0813; var_163 -0.9976; var_164 -1.0495; var_165 0.7233; var_166 -1.1089; var_167 0.4994; var_168 -0.1923; var_169 -1.2180; var_170 0.9627; var_171 0.4667; var_172 1.0674; var_173 1.5313; var_174 -0.2916; var_175 0.2231; var_176 0.2803; var_177 -0.6313; var_178 -0.5290; var_179 -0.1080; var_180 -0.3407; var_181 0.2225; var_182 -1.8069; var_183 -1.0717; var_184 1.9935; var_185 0.5972; var_186 0.1005; var_187 -1.1437; var_188 -0.5375; var_189 0.9335; var_190 -1.1808; var_191 1.4601; var_192 -2.2746; var_193 -0.2202; var_194 -1.3654; var_195 1.8274; var_196 0.3811; var_197 1.9605; var_198 -0.1330; var_199 -0.5153; ,var_0 -0.7064; var_1 0.7124; var_2 0.2248; var_3 -0.7872; var_4 -1.1612; var_5 0.1366; var_6 0.7066; var_7 0.6069; var_8 -1.4091; var_9 -1.2897; var_10 -0.3228; var_11 0.4879; var_12 0.4674; var_13 -1.2844; var_14 -0.9058; var_15 -0.9396; var_16 -0.9048; var_17 1.5432; var_18 1.7721; var_19 -1.5408; var_20 -0.1948; var_21 -1.7240; var_22 0.3333; var_23 -1.1327; var_24 1.4894; var_25 -0.5797; var_26 -0.1998; var_27 -1.6571; var_28 0.2228; var_29 -0.7854; var_30 -0.3479; var_31 0.5102; var_32 -0.1763; var_33 0.1317; var_34 -1.4753; var_35 -0.5657; var_36 1.4620; var_37 -1.5670; var_38 0.5188; var_39 -0.5466; var_40 2.0242; var_41 -1.0370; var_42 -0.9306; var_43 0.6342; var_44 -1.1444; var_45 -1.3311; var_46 0.7684; var_47 -0.4647; var_48 -0.7305; var_49 -0.5233; var_50 -1.5202; var_51 1.4611; var_52 0.8225; var_53 1.0984; var_54 0.9031; var_55 0.6474; var_56 1.4325; var_57 0.8359; var_58 -0.3491; var_59 0.6961; var_60 -1.6124; var_61 -0.5826; var_62 0.2276; var_63 -0.7699; var_64 -0.3569; var_65 0.5588; var_66 -1.2182; var_67 0.5517; var_68 1.6262; var_69 -1.0130; var_70 -1.0196; var_71 0.1089; var_72 -0.3587; var_73 0.2544; var_74 -0.9028; var_75 0.2221; var_76 0.1114; var_77 0.8035; var_78 0.5147; var_79 -0.9531; var_80 -0.5133; var_81 -0.2978; var_82 1.1980; var_83 1.0792; var_84 -1.4406; var_85 0.5347; var_86 0.5004; var_87 -0.3043; var_88 -0.2315; var_89 -0.3132; var_90 -0.0658; var_91 1.2935; var_92 0.6230; var_93 0.1776; var_94 -1.8137; var_95 0.6836; var_96 -0.4773; var_97 0.8921; var_98 0.3447; var_99 -0.3586; var_100 0.5304; var_101 0.4157; var_102 1.5425; var_103 0.4798; var_104 0.7944; var_105 -1.7175; var_106 -1.1191; var_107 -1.7238; var_108 -2.5036; var_109 -0.1694; var_110 -0.9886; var_111 -0.6890; var_112 0.2138; var_113 0.1860; var_114 1.0502; var_115 -0.4382; var_116 -0.2285; var_117 -0.5884; var_118 -0.1774; var_119 -0.6581; var_120 -0.6127; var_121 0.2114; var_122 0.3749; var_123 0.2314; var_124 0.4987; var_125 -1.5076; var_126 1.3319; var_127 -2.2355; var_128 -1.4012; var_129 -1.5812; var_130 -1.4379; var_131 -0.1903; var_132 1.3693; var_133 0.7341; var_134 1.2173; var_135 1.6744; var_136 -0.6921; var_137 -1.4332; var_138 0.5286; var_139 -0.1331; var_140 1.5691; var_141 1.8561; var_142 -1.7165; var_143 -1.3995; var_144 0.4584; var_145 -2.5487; var_146 -0.6253; var_147 0.1358; var_148 0.6723; var_149 -1.7901; var_150 0.7847; var_151 -0.1923; var_152 -2.0308; var_153 -0.3421; var_154 0.1593; var_155 0.6079; var_156 1.7376; var_157 1.4689; var_158 -0.8023; var_159 0.9635; var_160 0.6172; var_161 0.1794; var_162 -1.1819; var_163 0.3889; var_164 -1.4245; var_165 -0.7576; var_166 0.6893; var_167 1.6970; var_168 0.6805; var_169 -0.6583; var_170 -0.1742; var_171 -1.3639; var_172 1.1641; var_173 -0.8308; var_174 -1.3617; var_175 -0.7018; var_176 0.3066; var_177 -1.4119; var_178 -0.3894; var_179 0.9336; var_180 0.5991; var_181 1.3984; var_182 -1.2371; var_183 -0.6519; var_184 1.3334; var_185 -1.0301; var_186 0.8959; var_187 0.1399; var_188 0.1325; var_189 0.2396; var_190 1.6213; var_191 0.4619; var_192 -0.6693; var_193 1.7027; var_194 -0.7706; var_195 0.4339; var_196 -0.6918; var_197 1.0407; var_198 1.0816; var_199 -1.6888; ,var_0 -1.7093; var_1 -2.1512; var_2 -0.2164; var_3 0.1237; var_4 -0.5044; var_5 1.8969; var_6 -0.5917; var_7 1.0820; var_8 0.3714; var_9 0.6287; var_10 -0.9289; var_11 0.0340; var_12 -1.8357; var_13 -1.0146; var_14 1.4757; var_15 -0.8733; var_16 0.2147; var_17 1.2451; var_18 0.7614; var_19 1.0443; var_20 -0.1404; var_21 -0.5977; var_22 0.1540; var_23 -0.4294; var_24 -1.4221; var_25 -0.3529; var_26 -1.9219; var_27 0.6403; var_28 2.2078; var_29 -0.6194; var_30 -0.1821; var_31 -0.3044; var_32 1.3966; var_33 1.7420; var_34 0.9690; var_35 1.1754; var_36 0.6044; var_37 -0.3881; var_38 -0.6020; var_39 0.0522; var_40 -1.4894; var_41 -0.6846; var_42 -2.3324; var_43 1.9702; var_44 -0.0990; var_45 1.2988; var_46 -0.4340; var_47 -0.7925; var_48 -0.5289; var_49 -1.0877; var_50 -1.2247; var_51 -0.3352; var_52 0.3773; var_53 -0.4672; var_54 0.9790; var_55 2.3111; var_56 0.9145; var_57 -0.9893; var_58 -1.6758; var_59 -0.4846; var_60 -0.7504; var_61 0.5399; var_62 0.9551; var_63 0.6236; var_64 1.8385; var_65 1.6187; var_66 -0.7579; var_67 0.2566; var_68 -1.3398; var_69 2.0514; var_70 -0.4405; var_71 -0.8864; var_72 0.0525; var_73 2.0433; var_74 0.0849; var_75 -0.0574; var_76 -1.9852; var_77 0.1498; var_78 1.1577; var_79 0.8989; var_80 1.3965; var_81 -0.1719; var_82 0.5669; var_83 -0.1772; var_84 0.3713; var_85 -0.8813; var_86 -1.2284; var_87 0.5880; var_88 -0.5539; var_89 -2.4898; var_90 -1.3527; var_91 0.2090; var_92 -0.0629; var_93 -1.6359; var_94 0.8179; var_95 -0.7688; var_96 -1.0308; var_97 -0.7086; var_98 -0.4209; var_99 1.3578; var_100 0.3362; var_101 0.1520; var_102 0.6647; var_103 -0.9443; var_104 -0.3493; var_105 0.0590; var_106 -0.2141; var_107 1.1114; var_108 -1.1775; var_109 0.2289; var_110 0.8310; var_111 1.6535; var_112 -1.3312; var_113 0.1732; var_114 -2.1343; var_115 0.0621; var_116 0.4626; var_117 1.6357; var_118 0.2175; var_119 -1.3006; var_120 0.4387; var_121 0.5234; var_122 0.6939; var_123 0.1380; var_124 -0.7552; var_125 0.4980; var_126 1.4614; var_127 0.4703; var_128 1.0900; var_129 -0.4231; var_130 0.5363; var_131 0.4509; var_132 -0.0210; var_133 -0.5814; var_134 0.8303; var_135 2.2547; var_136 0.6682; var_137 -1.2167; var_138 2.0425; var_139 -1.7988; var_140 -1.6213; var_141 -0.2238; var_142 -1.2185; var_143 0.2167; var_144 0.8013; var_145 -1.2700; var_146 0.5299; var_147 2.7177; var_148 1.3563; var_149 0.9001; var_150 -0.9612; var_151 1.0131; var_152 0.6150; var_153 -0.0761; var_154 0.0566; var_155 -0.0217; var_156 -0.6432; var_157 2.2030; var_158 0.6635; var_159 0.0558; var_160 1.3888; var_161 -0.5064; var_162 -1.4436; var_163 -1.2644; var_164 0.4295; var_165 -1.1980; var_166 0.4348; var_167 0.0005; var_168 -1.1927; var_169 1.3946; var_170 -0.0086; var_171 0.4327; var_172 -0.3409; var_173 -0.3869; var_174 1.0089; var_175 1.4686; var_176 -1.0868; var_177 1.4292; var_178 -0.9774; var_179 0.6659; var_180 -0.0646; var_181 -1.1158; var_182 -0.3978; var_183 1.0515; var_184 1.2558; var_185 0.1063; var_186 -1.2685; var_187 0.7135; var_188 -0.9749; var_189 0.4452; var_190 -0.8720; var_191 1.1767; var_192 0.0350; var_193 -0.2881; var_194 -1.5981; var_195 1.5901; var_196 -1.7230; var_197 -2.0047; var_198 1.3361; var_199 -1.8997; ,var_0 -0.7041; var_1 0.0770; var_2 0.4966; var_3 -0.1077; var_4 -1.3779; var_5 1.0521; var_6 -0.5401; var_7 1.1734; var_8 0.9269; var_9 -0.0887; var_10 -0.0694; var_11 -0.3048; var_12 0.1502; var_13 1.0727; var_14 0.5473; var_15 0.3957; var_16 0.2751; var_17 -1.4351; var_18 -1.6678; var_19 1.1271; var_20 0.2117; var_21 -0.5754; var_22 -0.4697; var_23 2.3135; var_24 0.8464; var_25 1.6587; var_26 0.8548; var_27 -0.1360; var_28 -0.3528; var_29 0.5873; var_30 1.7469; var_31 -0.3867; var_32 1.1095; var_33 -1.0552; var_34 -1.1638; var_35 -1.2321; var_36 1.2468; var_37 -1.1583; var_38 1.3815; var_39 2.0090; var_40 0.2304; var_41 -1.4037; var_42 1.6550; var_43 -0.4712; var_44 -0.3807; var_45 -0.0133; var_46 0.8391; var_47 1.6535; var_48 1.4668; var_49 -1.3774; var_50 -0.1912; var_51 -1.4674; var_52 -0.3194; var_53 0.3209; var_54 0.0344; var_55 0.1407; var_56 -0.3445; var_57 0.7625; var_58 -0.3305; var_59 1.3004; var_60 0.7437; var_61 0.6711; var_62 -0.0417; var_63 0.6013; var_64 1.1966; var_65 0.4184; var_66 0.1709; var_67 0.1546; var_68 -1.4233; var_69 -1.6317; var_70 -1.2998; var_71 -0.9371; var_72 -0.8070; var_73 -2.2343; var_74 -0.6242; var_75 -0.7659; var_76 0.8176; var_77 0.0934; var_78 0.0790; var_79 -0.1837; var_80 1.5882; var_81 0.3099; var_82 -1.1541; var_83 1.5757; var_84 1.0647; var_85 1.0097; var_86 -0.4853; var_87 0.9116; var_88 0.8484; var_89 -0.9537; var_90 -0.3744; var_91 -0.4597; var_92 -0.6676; var_93 -0.3423; var_94 0.0131; var_95 0.4420; var_96 0.5881; var_97 1.7241; var_98 -0.4782; var_99 1.8058; var_100 0.9040; var_101 -2.1985; var_102 -2.1332; var_103 -0.2752; var_104 0.9620; var_105 -1.5757; var_106 -0.8058; var_107 0.5031; var_108 -0.1441; var_109 1.0503; var_110 1.2641; var_111 -0.2565; var_112 1.0707; var_113 1.0133; var_114 -0.9672; var_115 0.7034; var_116 -0.2982; var_117 -0.3378; var_118 1.4591; var_119 1.2357; var_120 -0.3623; var_121 -0.5037; var_122 1.4102; var_123 -0.3333; var_124 0.0134; var_125 -1.5177; var_126 0.6592; var_127 0.2431; var_128 -0.0304; var_129 1.7582; var_130 0.4837; var_131 0.5675; var_132 -2.0851; var_133 -0.0654; var_134 1.7312; var_135 -0.0382; var_136 -0.3810; var_137 -0.5549; var_138 -0.9096; var_139 0.6526; var_140 1.7622; var_141 1.5293; var_142 -0.7516; var_143 -0.2325; var_144 1.2782; var_145 -0.7780; var_146 -0.6523; var_147 0.6877; var_148 -0.8237; var_149 -2.0791; var_150 -1.2585; var_151 -0.0884; var_152 -0.5943; var_153 -0.6412; var_154 -0.3924; var_155 -1.1598; var_156 0.4130; var_157 0.2363; var_158 -0.4981; var_159 1.0618; var_160 -0.4150; var_161 -1.1238; var_162 -1.1888; var_163 -0.6678; var_164 -1.5016; var_165 1.1051; var_166 -0.8700; var_167 0.8266; var_168 0.7530; var_169 0.0131; var_170 1.6279; var_171 0.7959; var_172 -2.0121; var_173 1.9835; var_174 -0.7940; var_175 -0.3535; var_176 -0.3984; var_177 0.7825; var_178 0.9473; var_179 -0.5330; var_180 2.3193; var_181 -0.1902; var_182 0.5879; var_183 -0.8052; var_184 -0.4981; var_185 1.6202; var_186 -1.7721; var_187 -0.8164; var_188 -0.4905; var_189 0.5766; var_190 1.3917; var_191 0.5420; var_192 -0.1833; var_193 0.0629; var_194 -0.8947; var_195 2.3167; var_196 0.3061; var_197 0.3449; var_198 -0.9485; var_199 -0.0836; ,var_0 0.3384; var_1 0.3704; var_2 1.2954; var_3 0.4674; var_4 -1.2191; var_5 -0.4461; var_6 1.6762; var_7 -1.7439; var_8 0.8110; var_9 -0.3429; var_10 0.8590; var_11 -0.0063; var_12 0.4064; var_13 0.0953; var_14 -1.2489; var_15 0.0215; var_16 0.9877; var_17 1.3187; var_18 0.3535; var_19 0.1692; var_20 -1.9878; var_21 -0.1174; var_22 0.8731; var_23 1.1029; var_24 0.8139; var_25 0.7468; var_26 2.1420; var_27 -0.7384; var_28 -0.3930; var_29 0.7498; var_30 -1.0037; var_31 0.1080; var_32 -1.6446; var_33 0.6405; var_34 0.7981; var_35 -0.1571; var_36 0.6636; var_37 0.3975; var_38 -1.0935; var_39 -0.0735; var_40 -0.9286; var_41 -0.6994; var_42 0.5901; var_43 1.4978; var_44 1.6962; var_45 1.1539; var_46 1.7043; var_47 0.9715; var_48 -1.1929; var_49 -0.4093; var_50 0.0752; var_51 -1.1059; var_52 0.4753; var_53 -0.4300; var_54 -0.0375; var_55 1.1244; var_56 -1.1206; var_57 0.2132; var_58 0.2737; var_59 -0.2689; var_60 -0.0207; var_61 0.1258; var_62 -0.4497; var_63 1.6065; var_64 -0.0786; var_65 0.1410; var_66 -1.1246; var_67 1.1130; var_68 1.0832; var_69 0.3715; var_70 1.2827; var_71 1.4247; var_72 -0.3927; var_73 2.5322; var_74 -1.2263; var_75 -1.2075; var_76 0.2642; var_77 -1.0837; var_78 0.4054; var_79 0.8589; var_80 0.8103; var_81 0.8879; var_82 -1.3174; var_83 -0.1779; var_84 0.4216; var_85 1.0648; var_86 0.1755; var_87 -1.6070; var_88 -2.0571; var_89 -0.6444; var_90 1.9478; var_91 0.2110; var_92 1.6813; var_93 -0.9305; var_94 0.1738; var_95 0.5477; var_96 0.2679; var_97 2.1364; var_98 -0.2422; var_99 0.4632; var_100 -0.8497; var_101 0.8991; var_102 0.1088; var_103 -0.7065; var_104 1.5081; var_105 0.1586; var_106 1.0981; var_107 0.0789; var_108 -0.0202; var_109 -0.5512; var_110 0.2300; var_111 0.5133; var_112 -0.3750; var_113 1.0102; var_114 0.1589; var_115 0.4600; var_116 -1.7977; var_117 -1.6377; var_118 1.1450; var_119 1.7462; var_120 1.2564; var_121 -0.0443; var_122 -0.4809; var_123 0.8773; var_124 0.8159; var_125 0.7101; var_126 0.1317; var_127 -0.8989; var_128 -0.0315; var_129 -0.9384; var_130 0.4620; var_131 -0.1445; var_132 -0.4153; var_133 0.8786; var_134 0.7484; var_135 -1.5942; var_136 0.4029; var_137 0.6715; var_138 -1.2799; var_139 0.5236; var_140 1.8687; var_141 -0.9689; var_142 1.7766; var_143 -0.9479; var_144 0.6758; var_145 -1.6574; var_146 1.0292; var_147 1.3623; var_148 1.1224; var_149 1.6179; var_150 1.3142; var_151 -0.7924; var_152 0.5800; var_153 1.8965; var_154 -0.7151; var_155 -2.2784; var_156 -0.1172; var_157 -1.6656; var_158 -0.7796; var_159 1.0410; var_160 -0.1262; var_161 0.1633; var_162 0.5289; var_163 0.4269; var_164 -1.6666; var_165 1.3704; var_166 0.7334; var_167 -0.1796; var_168 0.2460; var_169 1.4498; var_170 -0.3622; var_171 -0.3068; var_172 -0.2964; var_173 0.5083; var_174 -0.8706; var_175 0.4427; var_176 -1.2286; var_177 -0.6718; var_178 -0.9017; var_179 1.2469; var_180 0.2626; var_181 0.1974; var_182 -0.9150; var_183 0.1541; var_184 -0.9412; var_185 2.0850; var_186 -0.1890; var_187 -1.2521; var_188 -0.9867; var_189 0.9059; var_190 0.2193; var_191 0.5737; var_192 -0.4369; var_193 0.0119; var_194 0.4977; var_195 -0.1007; var_196 -1.3659; var_197 -1.7593; var_198 -0.6466; var_199 -0.5598; \n",
       "y: EmptyLabelList\n",
       ",,,,\n",
       "Path: data, model=TabularModel(\n",
       "  (embeds): ModuleList()\n",
       "  (emb_drop): Dropout(p=0.0)\n",
       "  (bn_cont): BatchNorm1d(200, eps=1e-05, momentum=0.1, affine=True, track_running_stats=True)\n",
       "  (layers): Sequential(\n",
       "    (0): Linear(in_features=200, out_features=200, bias=True)\n",
       "    (1): ReLU(inplace)\n",
       "    (2): BatchNorm1d(200, eps=1e-05, momentum=0.1, affine=True, track_running_stats=True)\n",
       "    (3): Linear(in_features=200, out_features=100, bias=True)\n",
       "    (4): ReLU(inplace)\n",
       "    (5): BatchNorm1d(100, eps=1e-05, momentum=0.1, affine=True, track_running_stats=True)\n",
       "    (6): Linear(in_features=100, out_features=2, bias=True)\n",
       "  )\n",
       "), opt_func=functools.partial(<class 'torch.optim.adam.Adam'>, betas=(0.9, 0.99)), loss_func=FlattenedLoss of CrossEntropyLoss(), metrics=[<function accuracy at 0x1a29e3d598>], true_wd=True, bn_wd=True, wd=0.01, train_bn=True, path=PosixPath('data'), model_dir='models', callback_fns=[<class 'fastai.basic_train.Recorder'>], callbacks=[], layer_groups=[Sequential(\n",
       "  (0): ModuleList()\n",
       "  (1): Dropout(p=0.0)\n",
       "  (2): BatchNorm1d(200, eps=1e-05, momentum=0.1, affine=True, track_running_stats=True)\n",
       "  (3): Linear(in_features=200, out_features=200, bias=True)\n",
       "  (4): ReLU(inplace)\n",
       "  (5): BatchNorm1d(200, eps=1e-05, momentum=0.1, affine=True, track_running_stats=True)\n",
       "  (6): Linear(in_features=200, out_features=100, bias=True)\n",
       "  (7): BatchNorm1d(100, eps=1e-05, momentum=0.1, affine=True, track_running_stats=True)\n",
       "  (8): Linear(in_features=100, out_features=2, bias=True)\n",
       ")])"
      ]
     },
     "execution_count": 10,
     "metadata": {},
     "output_type": "execute_result"
    }
   ],
   "source": [
    "learn.load('2-25 14epochs')"
   ]
  },
  {
   "cell_type": "code",
   "execution_count": 45,
   "metadata": {},
   "outputs": [],
   "source": [
    "preds = learn.get_preds(ds_type=DatasetType.Test)"
   ]
  },
  {
   "cell_type": "code",
   "execution_count": 46,
   "metadata": {},
   "outputs": [
    {
     "data": {
      "text/plain": [
       "tensor([0, 0, 0,  ..., 0, 0, 0])"
      ]
     },
     "execution_count": 46,
     "metadata": {},
     "output_type": "execute_result"
    }
   ],
   "source": [
    "preds[1]"
   ]
  },
  {
   "cell_type": "code",
   "execution_count": 47,
   "metadata": {},
   "outputs": [],
   "source": [
    "sub_df = pd.DataFrame({'ID_code': df_test['ID_code'], 'target': preds[1]})"
   ]
  },
  {
   "cell_type": "code",
   "execution_count": 48,
   "metadata": {},
   "outputs": [],
   "source": [
    "sub_df.to_csv('submission.csv', index=False)"
   ]
  },
  {
   "cell_type": "code",
   "execution_count": null,
   "metadata": {},
   "outputs": [],
   "source": []
  }
 ],
 "metadata": {
  "kernelspec": {
   "display_name": "Python 3",
   "language": "python",
   "name": "python3"
  },
  "language_info": {
   "codemirror_mode": {
    "name": "ipython",
    "version": 3
   },
   "file_extension": ".py",
   "mimetype": "text/x-python",
   "name": "python",
   "nbconvert_exporter": "python",
   "pygments_lexer": "ipython3",
   "version": "3.6.8"
  }
 },
 "nbformat": 4,
 "nbformat_minor": 2
}
