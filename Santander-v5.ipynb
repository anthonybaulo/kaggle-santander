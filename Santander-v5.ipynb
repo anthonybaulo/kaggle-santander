{
 "cells": [
  {
   "cell_type": "code",
   "execution_count": 1,
   "metadata": {},
   "outputs": [],
   "source": [
    "import os\n",
    "import random\n",
    "\n",
    "from fastai import *\n",
    "from fastai.tabular import *\n",
    "from fastai.callbacks.tracker import EarlyStoppingCallback, ReduceLROnPlateauCallback\n",
    "from matplotlib import pyplot as plt\n",
    "from sklearn.metrics import roc_auc_score\n",
    "\n",
    "%reload_ext autoreload\n",
    "%autoreload 2"
   ]
  },
  {
   "cell_type": "code",
   "execution_count": 2,
   "metadata": {},
   "outputs": [],
   "source": [
    "path = Path('data')"
   ]
  },
  {
   "cell_type": "code",
   "execution_count": 3,
   "metadata": {},
   "outputs": [],
   "source": [
    "df = pd.read_csv(path/'train.csv')"
   ]
  },
  {
   "cell_type": "code",
   "execution_count": 4,
   "metadata": {},
   "outputs": [],
   "source": [
    "test_df = pd.read_csv(path/'test.csv')"
   ]
  },
  {
   "cell_type": "code",
   "execution_count": null,
   "metadata": {},
   "outputs": [],
   "source": [
    "df.head()"
   ]
  },
  {
   "cell_type": "code",
   "execution_count": null,
   "metadata": {},
   "outputs": [],
   "source": [
    "test_df.head()"
   ]
  },
  {
   "cell_type": "code",
   "execution_count": 5,
   "metadata": {},
   "outputs": [],
   "source": [
    "# From QuangHoàng\n",
    "# https://www.kaggle.com/quanghm/fastai-1-0-tabular-learner-with-ensemble/notebook\n",
    "\n",
    "class roc(Callback):\n",
    "    '''\n",
    "    ROC_AUC metric callback for fastai. Compute ROC score over each batch and returns the average over batches.\n",
    "    TO DO: rolling average\n",
    "    '''\n",
    "    def on_epoch_begin(self, **kwargs):\n",
    "        self.total = 0\n",
    "        self.batch_count = 0\n",
    "    \n",
    "    def on_batch_end(self, last_output, last_target, **kwargs):\n",
    "        preds = F.softmax(last_output, dim=1)\n",
    "        # roc_auc_score does not work on batches which does not contain both classes.\n",
    "        try:\n",
    "            roc_score = roc_auc_score(to_np(last_target), to_np(preds[:,1]))\n",
    "            self.total += roc_score\n",
    "            self.batch_count += 1\n",
    "        except:\n",
    "            pass\n",
    "    \n",
    "    def on_epoch_end(self, num_batch, **kwargs):\n",
    "        self.metric = self.total/self.batch_count"
   ]
  },
  {
   "cell_type": "code",
   "execution_count": 10,
   "metadata": {},
   "outputs": [],
   "source": [
    "bs = 2048\n",
    "dep_var = 'target'\n",
    "cat_names = []\n",
    "cont_names = [c for c in df.columns if c not in ['ID_code', 'target']]\n",
    "procs = [Normalize]\n",
    "\n",
    "earlystop = partial(EarlyStoppingCallback, monitor='roc', min_delta=0.001, patience=4)\n",
    "reduce_lr = partial(ReduceLROnPlateauCallback, monitor='roc', min_delta=0.001, patience=0, factor=0.25)"
   ]
  },
  {
   "cell_type": "code",
   "execution_count": 11,
   "metadata": {},
   "outputs": [
    {
     "data": {
      "text/plain": [
       "(0.1028, 0.10049)"
      ]
     },
     "execution_count": 11,
     "metadata": {},
     "output_type": "execute_result"
    }
   ],
   "source": [
    "# From QuangHoàng\n",
    "# https://www.kaggle.com/quanghm/fastai-1-0-tabular-learner-with-ensemble/notebook\n",
    "\n",
    "random.seed(5683)\n",
    "valid_idx = random.sample(list(df.index.values), int(len(df)*0.05))\n",
    "\n",
    "# verify that positive sample distribution in validation set is similar to that of the whole data\n",
    "df.iloc[valid_idx].target.sum() / len(valid_idx) , df.target.sum() / len(df)"
   ]
  },
  {
   "cell_type": "code",
   "execution_count": 12,
   "metadata": {},
   "outputs": [],
   "source": [
    "data = TabularDataBunch.from_df(path=path, df=df, \n",
    "                                dep_var=dep_var, \n",
    "                                valid_idx=valid_idx, \n",
    "                                cat_names=cat_names, \n",
    "                                cont_names=cont_names, \n",
    "                                bs=bs,\n",
    "                                procs=procs,\n",
    "                                test_df=test_df)"
   ]
  },
  {
   "cell_type": "code",
   "execution_count": 13,
   "metadata": {},
   "outputs": [],
   "source": [
    "# create and load trained learner\n",
    "# add .load('file') to end\n",
    "\n",
    "learn = tabular_learner(data, \n",
    "                        layers=[512,256,128,64], \n",
    "                        ps=0.7, \n",
    "                        metrics=[accuracy, roc()],\n",
    "                        callback_fns=[earlystop, reduce_lr])"
   ]
  },
  {
   "cell_type": "code",
   "execution_count": 14,
   "metadata": {},
   "outputs": [
    {
     "data": {
      "text/html": [],
      "text/plain": [
       "<IPython.core.display.HTML object>"
      ]
     },
     "metadata": {},
     "output_type": "display_data"
    },
    {
     "name": "stdout",
     "output_type": "stream",
     "text": [
      "LR Finder is complete, type {learner_name}.recorder.plot() to see the graph.\n"
     ]
    },
    {
     "data": {
      "image/png": "[encoded data removed]",
      "text/plain": [
       "<Figure size 432x288 with 1 Axes>"
      ]
     },
     "metadata": {
      "needs_background": "light"
     },
     "output_type": "display_data"
    }
   ],
   "source": [
    "learn.lr_find()\n",
    "learn.recorder.plot()"
   ]
  },
  {
   "cell_type": "code",
   "execution_count": 15,
   "metadata": {
    "scrolled": true
   },
   "outputs": [
    {
     "data": {
      "text/html": [
       "\n",
       "    <div>\n",
       "        <style>\n",
       "            /* Turns off some styling */\n",
       "            progress {\n",
       "                /* gets rid of default border in Firefox and Opera. */\n",
       "                border: none;\n",
       "                /* Needs to be in here for Safari polyfill so background images work as expected. */\n",
       "                background-size: auto;\n",
       "            }\n",
       "            .progress-bar-interrupted, .progress-bar-interrupted::-webkit-progress-bar {\n",
       "                background: #F44336;\n",
       "            }\n",
       "        </style>\n",
       "      <progress value='19' class='' max='20', style='width:300px; height:20px; vertical-align: middle;'></progress>\n",
       "      95.00% [19/20 00:48<00:02]\n",
       "    </div>\n",
       "    \n",
       "<table style='width:450px; margin-bottom:10px'>\n",
       "  <tr>\n",
       "    <th>epoch</th>\n",
       "    <th>train_loss</th>\n",
       "    <th>valid_loss</th>\n",
       "    <th>accuracy</th>\n",
       "    <th>roc</th>\n",
       "    <th>time</th>\n",
       "  </tr>\n",
       "  <tr>\n",
       "    <th>1</th>\n",
       "    <th>0.331772</th>\n",
       "    <th>0.248132</th>\n",
       "    <th>0.909200</th>\n",
       "    <th>0.851849</th>\n",
       "    <th>00:02</th>\n",
       "  </tr>\n",
       "  <tr>\n",
       "    <th>2</th>\n",
       "    <th>0.259606</th>\n",
       "    <th>0.236187</th>\n",
       "    <th>0.914200</th>\n",
       "    <th>0.857937</th>\n",
       "    <th>00:02</th>\n",
       "  </tr>\n",
       "  <tr>\n",
       "    <th>3</th>\n",
       "    <th>0.246598</th>\n",
       "    <th>0.240775</th>\n",
       "    <th>0.912400</th>\n",
       "    <th>0.860002</th>\n",
       "    <th>00:02</th>\n",
       "  </tr>\n",
       "  <tr>\n",
       "    <th>4</th>\n",
       "    <th>0.245909</th>\n",
       "    <th>0.248200</th>\n",
       "    <th>0.915100</th>\n",
       "    <th>0.854605</th>\n",
       "    <th>00:02</th>\n",
       "  </tr>\n",
       "  <tr>\n",
       "    <th>5</th>\n",
       "    <th>0.247675</th>\n",
       "    <th>0.238654</th>\n",
       "    <th>0.913800</th>\n",
       "    <th>0.861700</th>\n",
       "    <th>00:02</th>\n",
       "  </tr>\n",
       "  <tr>\n",
       "    <th>6</th>\n",
       "    <th>0.248449</th>\n",
       "    <th>0.238509</th>\n",
       "    <th>0.911700</th>\n",
       "    <th>0.858319</th>\n",
       "    <th>00:02</th>\n",
       "  </tr>\n",
       "  <tr>\n",
       "    <th>7</th>\n",
       "    <th>0.245987</th>\n",
       "    <th>0.236947</th>\n",
       "    <th>0.914200</th>\n",
       "    <th>0.856696</th>\n",
       "    <th>00:02</th>\n",
       "  </tr>\n",
       "  <tr>\n",
       "    <th>8</th>\n",
       "    <th>0.248423</th>\n",
       "    <th>0.264973</th>\n",
       "    <th>0.899100</th>\n",
       "    <th>0.853528</th>\n",
       "    <th>00:02</th>\n",
       "  </tr>\n",
       "  <tr>\n",
       "    <th>9</th>\n",
       "    <th>0.246241</th>\n",
       "    <th>0.251459</th>\n",
       "    <th>0.909100</th>\n",
       "    <th>0.855304</th>\n",
       "    <th>00:02</th>\n",
       "  </tr>\n",
       "  <tr>\n",
       "    <th>10</th>\n",
       "    <th>0.243224</th>\n",
       "    <th>0.239241</th>\n",
       "    <th>0.914700</th>\n",
       "    <th>0.864263</th>\n",
       "    <th>00:02</th>\n",
       "  </tr>\n",
       "  <tr>\n",
       "    <th>11</th>\n",
       "    <th>0.238516</th>\n",
       "    <th>0.233218</th>\n",
       "    <th>0.913800</th>\n",
       "    <th>0.863158</th>\n",
       "    <th>00:02</th>\n",
       "  </tr>\n",
       "  <tr>\n",
       "    <th>12</th>\n",
       "    <th>0.234673</th>\n",
       "    <th>0.233883</th>\n",
       "    <th>0.914900</th>\n",
       "    <th>0.865283</th>\n",
       "    <th>00:02</th>\n",
       "  </tr>\n",
       "  <tr>\n",
       "    <th>13</th>\n",
       "    <th>0.230529</th>\n",
       "    <th>0.231518</th>\n",
       "    <th>0.916000</th>\n",
       "    <th>0.865248</th>\n",
       "    <th>00:02</th>\n",
       "  </tr>\n",
       "  <tr>\n",
       "    <th>14</th>\n",
       "    <th>0.223294</th>\n",
       "    <th>0.237009</th>\n",
       "    <th>0.915300</th>\n",
       "    <th>0.864822</th>\n",
       "    <th>00:02</th>\n",
       "  </tr>\n",
       "  <tr>\n",
       "    <th>15</th>\n",
       "    <th>0.218046</th>\n",
       "    <th>0.229229</th>\n",
       "    <th>0.915900</th>\n",
       "    <th>0.866360</th>\n",
       "    <th>00:02</th>\n",
       "  </tr>\n",
       "  <tr>\n",
       "    <th>16</th>\n",
       "    <th>0.211965</th>\n",
       "    <th>0.230524</th>\n",
       "    <th>0.915400</th>\n",
       "    <th>0.865904</th>\n",
       "    <th>00:02</th>\n",
       "  </tr>\n",
       "  <tr>\n",
       "    <th>17</th>\n",
       "    <th>0.206485</th>\n",
       "    <th>0.232140</th>\n",
       "    <th>0.917100</th>\n",
       "    <th>0.865362</th>\n",
       "    <th>00:02</th>\n",
       "  </tr>\n",
       "  <tr>\n",
       "    <th>18</th>\n",
       "    <th>0.202422</th>\n",
       "    <th>0.236701</th>\n",
       "    <th>0.917600</th>\n",
       "    <th>0.865262</th>\n",
       "    <th>00:02</th>\n",
       "  </tr>\n",
       "  <tr>\n",
       "    <th>19</th>\n",
       "    <th>0.198236</th>\n",
       "    <th>0.235632</th>\n",
       "    <th>0.916900</th>\n",
       "    <th>0.865228</th>\n",
       "    <th>00:02</th>\n",
       "  </tr>\n",
       "</table>\n",
       "\n",
       "\n",
       "    <div>\n",
       "        <style>\n",
       "            /* Turns off some styling */\n",
       "            progress {\n",
       "                /* gets rid of default border in Firefox and Opera. */\n",
       "                border: none;\n",
       "                /* Needs to be in here for Safari polyfill so background images work as expected. */\n",
       "                background-size: auto;\n",
       "            }\n",
       "            .progress-bar-interrupted, .progress-bar-interrupted::-webkit-progress-bar {\n",
       "                background: #F44336;\n",
       "            }\n",
       "        </style>\n",
       "      <progress value='5' class='' max='5', style='width:300px; height:20px; vertical-align: middle;'></progress>\n",
       "      100.00% [5/5 00:00<00:00]\n",
       "    </div>\n",
       "    "
      ],
      "text/plain": [
       "<IPython.core.display.HTML object>"
      ]
     },
     "metadata": {},
     "output_type": "display_data"
    },
    {
     "name": "stdout",
     "output_type": "stream",
     "text": [
      "Epoch 4: reducing lr to 0.019\n",
      "Epoch 6: reducing lr to 0.025\n",
      "Epoch 7: reducing lr to 0.024686600155877186\n",
      "Epoch 8: reducing lr to 0.023762115800336846\n",
      "Epoch 9: reducing lr to 0.02227290443927625\n",
      "Epoch 11: reducing lr to 0.017923575044782522\n",
      "Epoch 13: reducing lr to 0.01250005\n",
      "Epoch 14: reducing lr to 0.009718549451592768\n",
      "Epoch 16: reducing lr to 0.004706458651255925\n",
      "Epoch 17: reducing lr to 0.002727195560723751\n",
      "Epoch 18: reducing lr to 0.0012379841996631572\n",
      "Epoch 19: reducing lr to 0.00031349984412281387\n",
      "Epoch 20: early stopping\n",
      "Epoch 20: reducing lr to 1.0000000000000001e-07\n"
     ]
    }
   ],
   "source": [
    "learn.fit_one_cycle(20, 1e-01)"
   ]
  },
  {
   "cell_type": "code",
   "execution_count": 16,
   "metadata": {},
   "outputs": [],
   "source": [
    "learn.save('v5 roc 865')"
   ]
  },
  {
   "cell_type": "markdown",
   "metadata": {},
   "source": [
    "---"
   ]
  },
  {
   "cell_type": "markdown",
   "metadata": {},
   "source": [
    "**Find top 100 features**"
   ]
  },
  {
   "cell_type": "code",
   "execution_count": null,
   "metadata": {},
   "outputs": [],
   "source": [
    "!pip install eli5"
   ]
  },
  {
   "cell_type": "code",
   "execution_count": 48,
   "metadata": {},
   "outputs": [],
   "source": [
    "# Following 3 cells from \n",
    "# https://www.kaggle.com/mjbahmani/santander-ml-explainability\n",
    "\n",
    "from sklearn.model_selection import train_test_split\n",
    "from sklearn.ensemble import RandomForestClassifier\n",
    "import eli5\n",
    "from eli5.sklearn import PermutationImportance\n",
    "\n",
    "\n",
    "cols=[\"target\",\"ID_code\"]\n",
    "X = df.drop(cols,axis=1)\n",
    "y = df[\"target\"]\n",
    "\n",
    "train_X, val_X, train_y, val_y = train_test_split(X, y, random_state=1)"
   ]
  },
  {
   "cell_type": "code",
   "execution_count": 49,
   "metadata": {},
   "outputs": [
    {
     "name": "stderr",
     "output_type": "stream",
     "text": [
      "/opt/anaconda3/lib/python3.7/site-packages/sklearn/ensemble/forest.py:246: FutureWarning: The default value of n_estimators will change from 10 in version 0.20 to 100 in 0.22.\n",
      "  \"10 in version 0.20 to 100 in 0.22.\", FutureWarning)\n"
     ]
    }
   ],
   "source": [
    "rfc_model = RandomForestClassifier(random_state=0, verbose=3).fit(train_X, train_y)"
   ]
  },
  {
   "cell_type": "code",
   "execution_count": 50,
   "metadata": {},
   "outputs": [],
   "source": [
    "perm = PermutationImportance(rfc_model, random_state=1).fit(val_X, val_y)"
   ]
  },
  {
   "cell_type": "code",
   "execution_count": 58,
   "metadata": {},
   "outputs": [
    {
     "name": "stdout",
     "output_type": "stream",
     "text": [
      "Stored 'perm' (PermutationImportance)\n",
      "Stored 'rfc_model' (RandomForestClassifier)\n"
     ]
    }
   ],
   "source": [
    "%store perm\n",
    "%store rfc_model"
   ]
  },
  {
   "cell_type": "code",
   "execution_count": null,
   "metadata": {},
   "outputs": [],
   "source": [
    "# eli5.show_weights(perm, feature_names = val_X.columns.tolist(), top=100)"
   ]
  },
  {
   "cell_type": "code",
   "execution_count": 87,
   "metadata": {},
   "outputs": [],
   "source": [
    "top_weights = eli5.formatters.as_dataframe.explain_weights_df(perm, feature_names = val_X.columns.tolist())"
   ]
  },
  {
   "cell_type": "code",
   "execution_count": 88,
   "metadata": {},
   "outputs": [],
   "source": [
    "var_list = [var for var in top_weights['feature']]"
   ]
  },
  {
   "cell_type": "markdown",
   "metadata": {},
   "source": [
    "--------------"
   ]
  },
  {
   "cell_type": "markdown",
   "metadata": {},
   "source": [
    "**Train new model on top features**"
   ]
  },
  {
   "cell_type": "code",
   "execution_count": 94,
   "metadata": {},
   "outputs": [],
   "source": [
    "top_list = var_list[:100]"
   ]
  },
  {
   "cell_type": "code",
   "execution_count": 95,
   "metadata": {},
   "outputs": [],
   "source": [
    "train_top = df[[\"ID_code\", \"target\"] + top_list]\n",
    "test_top = test_df[[\"ID_code\"]+ top_list]"
   ]
  },
  {
   "cell_type": "code",
   "execution_count": 96,
   "metadata": {},
   "outputs": [],
   "source": [
    "bs = 2048\n",
    "cont_names = [c for c in train_top.columns if c not in ['ID_code', 'target']]"
   ]
  },
  {
   "cell_type": "code",
   "execution_count": 97,
   "metadata": {},
   "outputs": [
    {
     "data": {
      "text/plain": [
       "(0.1028, 0.10049)"
      ]
     },
     "execution_count": 97,
     "metadata": {},
     "output_type": "execute_result"
    }
   ],
   "source": [
    "random.seed(5683)\n",
    "valid_idx_top = random.sample(list(train_top.index.values), int(len(train_top)*0.05))\n",
    "\n",
    "# verify that positive sample distribution in validation set is similar to that of the whole data\n",
    "train_top.iloc[valid_idx_top].target.sum() / len(valid_idx_top) , train_top.target.sum() / len(train_top)"
   ]
  },
  {
   "cell_type": "code",
   "execution_count": 98,
   "metadata": {},
   "outputs": [],
   "source": [
    "data_top = TabularDataBunch.from_df(path=path, df=train_top, \n",
    "                                dep_var=dep_var, \n",
    "                                valid_idx=valid_idx_top, \n",
    "                                cat_names=cat_names, \n",
    "                                cont_names=cont_names, \n",
    "                                bs=bs,\n",
    "                                procs=procs,\n",
    "                                test_df=test_top)"
   ]
  },
  {
   "cell_type": "code",
   "execution_count": 99,
   "metadata": {},
   "outputs": [],
   "source": [
    "learn_top = tabular_learner(data_top, \n",
    "                        layers=[400,200,100], \n",
    "                        ps=0.6, \n",
    "                        metrics=[accuracy, roc()],\n",
    "                        callback_fns=[earlystop])"
   ]
  },
  {
   "cell_type": "code",
   "execution_count": 100,
   "metadata": {},
   "outputs": [
    {
     "data": {
      "text/html": [],
      "text/plain": [
       "<IPython.core.display.HTML object>"
      ]
     },
     "metadata": {},
     "output_type": "display_data"
    },
    {
     "name": "stdout",
     "output_type": "stream",
     "text": [
      "LR Finder is complete, type {learner_name}.recorder.plot() to see the graph.\n"
     ]
    },
    {
     "data": {
      "image/png": "[encoded data removed]",
      "text/plain": [
       "<Figure size 432x288 with 1 Axes>"
      ]
     },
     "metadata": {
      "needs_background": "light"
     },
     "output_type": "display_data"
    }
   ],
   "source": [
    "learn_top.lr_find()\n",
    "learn_top.recorder.plot()"
   ]
  },
  {
   "cell_type": "code",
   "execution_count": 101,
   "metadata": {},
   "outputs": [
    {
     "data": {
      "text/html": [
       "\n",
       "    <div>\n",
       "        <style>\n",
       "            /* Turns off some styling */\n",
       "            progress {\n",
       "                /* gets rid of default border in Firefox and Opera. */\n",
       "                border: none;\n",
       "                /* Needs to be in here for Safari polyfill so background images work as expected. */\n",
       "                background-size: auto;\n",
       "            }\n",
       "            .progress-bar-interrupted, .progress-bar-interrupted::-webkit-progress-bar {\n",
       "                background: #F44336;\n",
       "            }\n",
       "        </style>\n",
       "      <progress value='17' class='' max='20', style='width:300px; height:20px; vertical-align: middle;'></progress>\n",
       "      85.00% [17/20 00:51<00:09]\n",
       "    </div>\n",
       "    \n",
       "<table style='width:450px; margin-bottom:10px'>\n",
       "  <tr>\n",
       "    <th>epoch</th>\n",
       "    <th>train_loss</th>\n",
       "    <th>valid_loss</th>\n",
       "    <th>accuracy</th>\n",
       "    <th>roc</th>\n",
       "    <th>time</th>\n",
       "  </tr>\n",
       "  <tr>\n",
       "    <th>1</th>\n",
       "    <th>0.319969</th>\n",
       "    <th>0.272057</th>\n",
       "    <th>0.903600</th>\n",
       "    <th>0.803440</th>\n",
       "    <th>00:03</th>\n",
       "  </tr>\n",
       "  <tr>\n",
       "    <th>2</th>\n",
       "    <th>0.276263</th>\n",
       "    <th>0.275840</th>\n",
       "    <th>0.897100</th>\n",
       "    <th>0.810920</th>\n",
       "    <th>00:03</th>\n",
       "  </tr>\n",
       "  <tr>\n",
       "    <th>3</th>\n",
       "    <th>0.268390</th>\n",
       "    <th>0.306775</th>\n",
       "    <th>0.901300</th>\n",
       "    <th>0.804980</th>\n",
       "    <th>00:03</th>\n",
       "  </tr>\n",
       "  <tr>\n",
       "    <th>4</th>\n",
       "    <th>0.268903</th>\n",
       "    <th>0.292431</th>\n",
       "    <th>0.889300</th>\n",
       "    <th>0.805289</th>\n",
       "    <th>00:03</th>\n",
       "  </tr>\n",
       "  <tr>\n",
       "    <th>5</th>\n",
       "    <th>0.271625</th>\n",
       "    <th>0.264131</th>\n",
       "    <th>0.906400</th>\n",
       "    <th>0.810887</th>\n",
       "    <th>00:02</th>\n",
       "  </tr>\n",
       "  <tr>\n",
       "    <th>6</th>\n",
       "    <th>0.272066</th>\n",
       "    <th>0.274312</th>\n",
       "    <th>0.898500</th>\n",
       "    <th>0.812082</th>\n",
       "    <th>00:03</th>\n",
       "  </tr>\n",
       "  <tr>\n",
       "    <th>7</th>\n",
       "    <th>0.268356</th>\n",
       "    <th>0.283487</th>\n",
       "    <th>0.899500</th>\n",
       "    <th>0.812621</th>\n",
       "    <th>00:02</th>\n",
       "  </tr>\n",
       "  <tr>\n",
       "    <th>8</th>\n",
       "    <th>0.270012</th>\n",
       "    <th>0.266531</th>\n",
       "    <th>0.903000</th>\n",
       "    <th>0.811519</th>\n",
       "    <th>00:02</th>\n",
       "  </tr>\n",
       "  <tr>\n",
       "    <th>9</th>\n",
       "    <th>0.265475</th>\n",
       "    <th>0.272405</th>\n",
       "    <th>0.905400</th>\n",
       "    <th>0.813286</th>\n",
       "    <th>00:03</th>\n",
       "  </tr>\n",
       "  <tr>\n",
       "    <th>10</th>\n",
       "    <th>0.266668</th>\n",
       "    <th>0.260653</th>\n",
       "    <th>0.906000</th>\n",
       "    <th>0.815669</th>\n",
       "    <th>00:02</th>\n",
       "  </tr>\n",
       "  <tr>\n",
       "    <th>11</th>\n",
       "    <th>0.261478</th>\n",
       "    <th>0.275685</th>\n",
       "    <th>0.899300</th>\n",
       "    <th>0.814315</th>\n",
       "    <th>00:02</th>\n",
       "  </tr>\n",
       "  <tr>\n",
       "    <th>12</th>\n",
       "    <th>0.260013</th>\n",
       "    <th>0.263131</th>\n",
       "    <th>0.905200</th>\n",
       "    <th>0.815209</th>\n",
       "    <th>00:03</th>\n",
       "  </tr>\n",
       "  <tr>\n",
       "    <th>13</th>\n",
       "    <th>0.256645</th>\n",
       "    <th>0.262291</th>\n",
       "    <th>0.905100</th>\n",
       "    <th>0.818220</th>\n",
       "    <th>00:03</th>\n",
       "  </tr>\n",
       "  <tr>\n",
       "    <th>14</th>\n",
       "    <th>0.253208</th>\n",
       "    <th>0.259806</th>\n",
       "    <th>0.906300</th>\n",
       "    <th>0.817556</th>\n",
       "    <th>00:03</th>\n",
       "  </tr>\n",
       "  <tr>\n",
       "    <th>15</th>\n",
       "    <th>0.249208</th>\n",
       "    <th>0.261195</th>\n",
       "    <th>0.905400</th>\n",
       "    <th>0.818286</th>\n",
       "    <th>00:03</th>\n",
       "  </tr>\n",
       "  <tr>\n",
       "    <th>16</th>\n",
       "    <th>0.245488</th>\n",
       "    <th>0.266547</th>\n",
       "    <th>0.905400</th>\n",
       "    <th>0.813973</th>\n",
       "    <th>00:02</th>\n",
       "  </tr>\n",
       "  <tr>\n",
       "    <th>17</th>\n",
       "    <th>0.242844</th>\n",
       "    <th>0.263236</th>\n",
       "    <th>0.905600</th>\n",
       "    <th>0.814808</th>\n",
       "    <th>00:02</th>\n",
       "  </tr>\n",
       "</table>\n",
       "\n",
       "\n",
       "    <div>\n",
       "        <style>\n",
       "            /* Turns off some styling */\n",
       "            progress {\n",
       "                /* gets rid of default border in Firefox and Opera. */\n",
       "                border: none;\n",
       "                /* Needs to be in here for Safari polyfill so background images work as expected. */\n",
       "                background-size: auto;\n",
       "            }\n",
       "            .progress-bar-interrupted, .progress-bar-interrupted::-webkit-progress-bar {\n",
       "                background: #F44336;\n",
       "            }\n",
       "        </style>\n",
       "      <progress value='5' class='' max='5', style='width:300px; height:20px; vertical-align: middle;'></progress>\n",
       "      100.00% [5/5 00:00<00:00]\n",
       "    </div>\n",
       "    "
      ],
      "text/plain": [
       "<IPython.core.display.HTML object>"
      ]
     },
     "metadata": {},
     "output_type": "display_data"
    },
    {
     "name": "stdout",
     "output_type": "stream",
     "text": [
      "Epoch 18: early stopping\n"
     ]
    }
   ],
   "source": [
    "learn_top.fit_one_cycle(20, 1e-01)"
   ]
  },
  {
   "cell_type": "markdown",
   "metadata": {},
   "source": [
    "------"
   ]
  },
  {
   "cell_type": "markdown",
   "metadata": {},
   "source": [
    "**Train new model on bottom features**"
   ]
  },
  {
   "cell_type": "code",
   "execution_count": 102,
   "metadata": {},
   "outputs": [],
   "source": [
    "bot_list = var_list[100:]"
   ]
  },
  {
   "cell_type": "code",
   "execution_count": 103,
   "metadata": {},
   "outputs": [],
   "source": [
    "train_bot = df[[\"ID_code\", \"target\"] + bot_list]\n",
    "test_bot = test_df[[\"ID_code\"]+ bot_list]"
   ]
  },
  {
   "cell_type": "code",
   "execution_count": 104,
   "metadata": {},
   "outputs": [],
   "source": [
    "bs = 2048\n",
    "cont_names = [c for c in train_bot.columns if c not in ['ID_code', 'target']]"
   ]
  },
  {
   "cell_type": "code",
   "execution_count": 105,
   "metadata": {},
   "outputs": [
    {
     "data": {
      "text/plain": [
       "(0.1028, 0.10049)"
      ]
     },
     "execution_count": 105,
     "metadata": {},
     "output_type": "execute_result"
    }
   ],
   "source": [
    "random.seed(5683)\n",
    "valid_idx_bot = random.sample(list(train_bot.index.values), int(len(train_bot)*0.05))\n",
    "\n",
    "# verify that positive sample distribution in validation set is similar to that of the whole data\n",
    "train_bot.iloc[valid_idx_bot].target.sum() / len(valid_idx_bot) , train_bot.target.sum() / len(train_bot)"
   ]
  },
  {
   "cell_type": "code",
   "execution_count": 106,
   "metadata": {},
   "outputs": [],
   "source": [
    "data_bot = TabularDataBunch.from_df(path=path, df=train_bot, \n",
    "                                dep_var=dep_var, \n",
    "                                valid_idx=valid_idx_bot, \n",
    "                                cat_names=cat_names, \n",
    "                                cont_names=cont_names, \n",
    "                                bs=bs,\n",
    "                                procs=procs,\n",
    "                                test_df=test_bot)"
   ]
  },
  {
   "cell_type": "code",
   "execution_count": 107,
   "metadata": {},
   "outputs": [],
   "source": [
    "learn_bot = tabular_learner(data_bot, \n",
    "                        layers=[400,200,100], \n",
    "                        ps=0.6, \n",
    "                        metrics=[accuracy, roc()],\n",
    "                        callback_fns=[earlystop])"
   ]
  },
  {
   "cell_type": "code",
   "execution_count": 108,
   "metadata": {},
   "outputs": [
    {
     "data": {
      "text/html": [],
      "text/plain": [
       "<IPython.core.display.HTML object>"
      ]
     },
     "metadata": {},
     "output_type": "display_data"
    },
    {
     "name": "stdout",
     "output_type": "stream",
     "text": [
      "LR Finder is complete, type {learner_name}.recorder.plot() to see the graph.\n"
     ]
    },
    {
     "data": {
      "image/png": "[encoded data removed]",
      "text/plain": [
       "<Figure size 432x288 with 1 Axes>"
      ]
     },
     "metadata": {
      "needs_background": "light"
     },
     "output_type": "display_data"
    }
   ],
   "source": [
    "learn_bot.lr_find()\n",
    "learn_bot.recorder.plot()"
   ]
  },
  {
   "cell_type": "code",
   "execution_count": 109,
   "metadata": {},
   "outputs": [
    {
     "data": {
      "text/html": [
       "\n",
       "    <div>\n",
       "        <style>\n",
       "            /* Turns off some styling */\n",
       "            progress {\n",
       "                /* gets rid of default border in Firefox and Opera. */\n",
       "                border: none;\n",
       "                /* Needs to be in here for Safari polyfill so background images work as expected. */\n",
       "                background-size: auto;\n",
       "            }\n",
       "            .progress-bar-interrupted, .progress-bar-interrupted::-webkit-progress-bar {\n",
       "                background: #F44336;\n",
       "            }\n",
       "        </style>\n",
       "      <progress value='13' class='' max='20', style='width:300px; height:20px; vertical-align: middle;'></progress>\n",
       "      65.00% [13/20 00:42<00:22]\n",
       "    </div>\n",
       "    \n",
       "<table style='width:450px; margin-bottom:10px'>\n",
       "  <tr>\n",
       "    <th>epoch</th>\n",
       "    <th>train_loss</th>\n",
       "    <th>valid_loss</th>\n",
       "    <th>accuracy</th>\n",
       "    <th>roc</th>\n",
       "    <th>time</th>\n",
       "  </tr>\n",
       "  <tr>\n",
       "    <th>1</th>\n",
       "    <th>0.431724</th>\n",
       "    <th>0.302908</th>\n",
       "    <th>0.898100</th>\n",
       "    <th>0.732084</th>\n",
       "    <th>00:03</th>\n",
       "  </tr>\n",
       "  <tr>\n",
       "    <th>2</th>\n",
       "    <th>0.315638</th>\n",
       "    <th>0.292361</th>\n",
       "    <th>0.899500</th>\n",
       "    <th>0.749434</th>\n",
       "    <th>00:03</th>\n",
       "  </tr>\n",
       "  <tr>\n",
       "    <th>3</th>\n",
       "    <th>0.295153</th>\n",
       "    <th>0.291751</th>\n",
       "    <th>0.900500</th>\n",
       "    <th>0.755861</th>\n",
       "    <th>00:03</th>\n",
       "  </tr>\n",
       "  <tr>\n",
       "    <th>4</th>\n",
       "    <th>0.289082</th>\n",
       "    <th>0.287351</th>\n",
       "    <th>0.899300</th>\n",
       "    <th>0.759743</th>\n",
       "    <th>00:03</th>\n",
       "  </tr>\n",
       "  <tr>\n",
       "    <th>5</th>\n",
       "    <th>0.288599</th>\n",
       "    <th>0.295014</th>\n",
       "    <th>0.899000</th>\n",
       "    <th>0.759349</th>\n",
       "    <th>00:03</th>\n",
       "  </tr>\n",
       "  <tr>\n",
       "    <th>6</th>\n",
       "    <th>0.287488</th>\n",
       "    <th>0.290241</th>\n",
       "    <th>0.900500</th>\n",
       "    <th>0.757910</th>\n",
       "    <th>00:03</th>\n",
       "  </tr>\n",
       "  <tr>\n",
       "    <th>7</th>\n",
       "    <th>0.285609</th>\n",
       "    <th>0.286874</th>\n",
       "    <th>0.899300</th>\n",
       "    <th>0.762635</th>\n",
       "    <th>00:03</th>\n",
       "  </tr>\n",
       "  <tr>\n",
       "    <th>8</th>\n",
       "    <th>0.285332</th>\n",
       "    <th>0.287265</th>\n",
       "    <th>0.899000</th>\n",
       "    <th>0.762142</th>\n",
       "    <th>00:03</th>\n",
       "  </tr>\n",
       "  <tr>\n",
       "    <th>9</th>\n",
       "    <th>0.284253</th>\n",
       "    <th>0.287644</th>\n",
       "    <th>0.900200</th>\n",
       "    <th>0.765599</th>\n",
       "    <th>00:03</th>\n",
       "  </tr>\n",
       "  <tr>\n",
       "    <th>10</th>\n",
       "    <th>0.282483</th>\n",
       "    <th>0.291460</th>\n",
       "    <th>0.898400</th>\n",
       "    <th>0.757056</th>\n",
       "    <th>00:03</th>\n",
       "  </tr>\n",
       "  <tr>\n",
       "    <th>11</th>\n",
       "    <th>0.278761</th>\n",
       "    <th>0.285635</th>\n",
       "    <th>0.899600</th>\n",
       "    <th>0.762172</th>\n",
       "    <th>00:03</th>\n",
       "  </tr>\n",
       "  <tr>\n",
       "    <th>12</th>\n",
       "    <th>0.276667</th>\n",
       "    <th>0.284813</th>\n",
       "    <th>0.900000</th>\n",
       "    <th>0.763109</th>\n",
       "    <th>00:03</th>\n",
       "  </tr>\n",
       "  <tr>\n",
       "    <th>13</th>\n",
       "    <th>0.273343</th>\n",
       "    <th>0.286091</th>\n",
       "    <th>0.899800</th>\n",
       "    <th>0.763935</th>\n",
       "    <th>00:03</th>\n",
       "  </tr>\n",
       "</table>\n",
       "\n",
       "\n",
       "    <div>\n",
       "        <style>\n",
       "            /* Turns off some styling */\n",
       "            progress {\n",
       "                /* gets rid of default border in Firefox and Opera. */\n",
       "                border: none;\n",
       "                /* Needs to be in here for Safari polyfill so background images work as expected. */\n",
       "                background-size: auto;\n",
       "            }\n",
       "            .progress-bar-interrupted, .progress-bar-interrupted::-webkit-progress-bar {\n",
       "                background: #F44336;\n",
       "            }\n",
       "        </style>\n",
       "      <progress value='5' class='' max='5', style='width:300px; height:20px; vertical-align: middle;'></progress>\n",
       "      100.00% [5/5 00:00<00:00]\n",
       "    </div>\n",
       "    "
      ],
      "text/plain": [
       "<IPython.core.display.HTML object>"
      ]
     },
     "metadata": {},
     "output_type": "display_data"
    },
    {
     "name": "stdout",
     "output_type": "stream",
     "text": [
      "Epoch 14: early stopping\n"
     ]
    }
   ],
   "source": [
    "learn_bot.fit_one_cycle(20, 3e-02)"
   ]
  },
  {
   "cell_type": "markdown",
   "metadata": {},
   "source": [
    "---"
   ]
  },
  {
   "cell_type": "markdown",
   "metadata": {},
   "source": [
    "**Add features to full df**"
   ]
  },
  {
   "cell_type": "code",
   "execution_count": 18,
   "metadata": {},
   "outputs": [],
   "source": [
    "# https://www.kaggle.com/gpreda/santander-improved-starter-solution\n",
    "\n",
    "def new_features(df, test_df):\n",
    "    train_new = df\n",
    "    test_new = test_df\n",
    "    idx = [c for c in train_new.columns if c not in ['ID_code', 'target']]\n",
    "    \n",
    "    for df in [train_new, test_new]:\n",
    "        df['sum'] = df[idx].sum(axis=1)\n",
    "        df['sum_sq'] = df['sum']**2\n",
    "        df['mad'] = df[idx].mad(axis=1)\n",
    "        df['mean'] = df[idx].mean(axis=1)\n",
    "        df['mean_sq'] = df['mean']**2\n",
    "        df['sem'] = df[idx].sem(axis=1)\n",
    "        df['std'] = df[idx].std(axis=1)\n",
    "        df['skew'] = df[idx].skew(axis=1)\n",
    "        df['kurt'] = df[idx].kurtosis(axis=1)\n",
    "        \n",
    "        \n",
    "    print('Train and test shape:',train_new.shape, test_new.shape)\n",
    "    return train_new, test_new"
   ]
  },
  {
   "cell_type": "code",
   "execution_count": 19,
   "metadata": {},
   "outputs": [
    {
     "name": "stdout",
     "output_type": "stream",
     "text": [
      "Train and test shape: (200000, 211) (200000, 210)\n"
     ]
    }
   ],
   "source": [
    "train_new, test_new = new_features(df, test_df)"
   ]
  },
  {
   "cell_type": "code",
   "execution_count": 20,
   "metadata": {},
   "outputs": [],
   "source": [
    "bs = 2048\n",
    "cont_names = [c for c in train_new.columns if c not in ['ID_code', 'target']]"
   ]
  },
  {
   "cell_type": "code",
   "execution_count": 21,
   "metadata": {},
   "outputs": [
    {
     "data": {
      "text/plain": [
       "(0.1028, 0.10049)"
      ]
     },
     "execution_count": 21,
     "metadata": {},
     "output_type": "execute_result"
    }
   ],
   "source": [
    "random.seed(5683)\n",
    "valid_idx_new = random.sample(list(train_new.index.values), int(len(train_new)*0.05))\n",
    "\n",
    "# verify that positive sample distribution in validation set is similar to that of the whole data\n",
    "train_new.iloc[valid_idx_new].target.sum() / len(valid_idx_new) , train_new.target.sum() / len(train_new)"
   ]
  },
  {
   "cell_type": "code",
   "execution_count": 22,
   "metadata": {},
   "outputs": [],
   "source": [
    "data_new = TabularDataBunch.from_df(path=path, df=train_new, \n",
    "                                dep_var=dep_var, \n",
    "                                valid_idx=valid_idx_new, \n",
    "                                cat_names=cat_names, \n",
    "                                cont_names=cont_names, \n",
    "                                bs=bs,\n",
    "                                procs=procs,\n",
    "                                test_df=test_new)"
   ]
  },
  {
   "cell_type": "code",
   "execution_count": 60,
   "metadata": {},
   "outputs": [],
   "source": [
    "learn_new = tabular_learner(data_new, \n",
    "                        layers=[1000,100], \n",
    "                        ps=0.66, \n",
    "                        metrics=[accuracy, roc()],\n",
    "                        callback_fns=[earlystop, reduce_lr])"
   ]
  },
  {
   "cell_type": "code",
   "execution_count": 61,
   "metadata": {},
   "outputs": [
    {
     "data": {
      "text/html": [],
      "text/plain": [
       "<IPython.core.display.HTML object>"
      ]
     },
     "metadata": {},
     "output_type": "display_data"
    },
    {
     "name": "stdout",
     "output_type": "stream",
     "text": [
      "LR Finder is complete, type {learner_name}.recorder.plot() to see the graph.\n"
     ]
    },
    {
     "data": {
      "image/png": "[encoded data removed]",
      "text/plain": [
       "<Figure size 432x288 with 1 Axes>"
      ]
     },
     "metadata": {
      "needs_background": "light"
     },
     "output_type": "display_data"
    }
   ],
   "source": [
    "learn_new.lr_find()\n",
    "learn_new.recorder.plot()"
   ]
  },
  {
   "cell_type": "code",
   "execution_count": 62,
   "metadata": {},
   "outputs": [
    {
     "data": {
      "text/html": [
       "\n",
       "    <div>\n",
       "        <style>\n",
       "            /* Turns off some styling */\n",
       "            progress {\n",
       "                /* gets rid of default border in Firefox and Opera. */\n",
       "                border: none;\n",
       "                /* Needs to be in here for Safari polyfill so background images work as expected. */\n",
       "                background-size: auto;\n",
       "            }\n",
       "            .progress-bar-interrupted, .progress-bar-interrupted::-webkit-progress-bar {\n",
       "                background: #F44336;\n",
       "            }\n",
       "        </style>\n",
       "      <progress value='9' class='' max='20', style='width:300px; height:20px; vertical-align: middle;'></progress>\n",
       "      45.00% [9/20 00:25<00:30]\n",
       "    </div>\n",
       "    \n",
       "<table style='width:450px; margin-bottom:10px'>\n",
       "  <tr>\n",
       "    <th>epoch</th>\n",
       "    <th>train_loss</th>\n",
       "    <th>valid_loss</th>\n",
       "    <th>accuracy</th>\n",
       "    <th>roc</th>\n",
       "    <th>time</th>\n",
       "  </tr>\n",
       "  <tr>\n",
       "    <th>1</th>\n",
       "    <th>0.380562</th>\n",
       "    <th>0.240678</th>\n",
       "    <th>0.913400</th>\n",
       "    <th>0.855501</th>\n",
       "    <th>00:02</th>\n",
       "  </tr>\n",
       "  <tr>\n",
       "    <th>2</th>\n",
       "    <th>0.258041</th>\n",
       "    <th>0.229908</th>\n",
       "    <th>0.916700</th>\n",
       "    <th>0.865844</th>\n",
       "    <th>00:02</th>\n",
       "  </tr>\n",
       "  <tr>\n",
       "    <th>3</th>\n",
       "    <th>0.235354</th>\n",
       "    <th>0.234598</th>\n",
       "    <th>0.914800</th>\n",
       "    <th>0.866098</th>\n",
       "    <th>00:02</th>\n",
       "  </tr>\n",
       "  <tr>\n",
       "    <th>4</th>\n",
       "    <th>0.227529</th>\n",
       "    <th>0.233772</th>\n",
       "    <th>0.917500</th>\n",
       "    <th>0.869518</th>\n",
       "    <th>00:02</th>\n",
       "  </tr>\n",
       "  <tr>\n",
       "    <th>5</th>\n",
       "    <th>0.225055</th>\n",
       "    <th>0.266129</th>\n",
       "    <th>0.893300</th>\n",
       "    <th>0.871857</th>\n",
       "    <th>00:02</th>\n",
       "  </tr>\n",
       "  <tr>\n",
       "    <th>6</th>\n",
       "    <th>0.224071</th>\n",
       "    <th>0.227572</th>\n",
       "    <th>0.917200</th>\n",
       "    <th>0.868975</th>\n",
       "    <th>00:02</th>\n",
       "  </tr>\n",
       "  <tr>\n",
       "    <th>7</th>\n",
       "    <th>0.220917</th>\n",
       "    <th>0.238296</th>\n",
       "    <th>0.916500</th>\n",
       "    <th>0.869103</th>\n",
       "    <th>00:02</th>\n",
       "  </tr>\n",
       "  <tr>\n",
       "    <th>8</th>\n",
       "    <th>0.217562</th>\n",
       "    <th>0.238038</th>\n",
       "    <th>0.908600</th>\n",
       "    <th>0.870106</th>\n",
       "    <th>00:02</th>\n",
       "  </tr>\n",
       "  <tr>\n",
       "    <th>9</th>\n",
       "    <th>0.213611</th>\n",
       "    <th>0.228688</th>\n",
       "    <th>0.916400</th>\n",
       "    <th>0.872297</th>\n",
       "    <th>00:02</th>\n",
       "  </tr>\n",
       "</table>\n",
       "\n",
       "\n",
       "    <div>\n",
       "        <style>\n",
       "            /* Turns off some styling */\n",
       "            progress {\n",
       "                /* gets rid of default border in Firefox and Opera. */\n",
       "                border: none;\n",
       "                /* Needs to be in here for Safari polyfill so background images work as expected. */\n",
       "                background-size: auto;\n",
       "            }\n",
       "            .progress-bar-interrupted, .progress-bar-interrupted::-webkit-progress-bar {\n",
       "                background: #F44336;\n",
       "            }\n",
       "        </style>\n",
       "      <progress value='5' class='' max='5', style='width:300px; height:20px; vertical-align: middle;'></progress>\n",
       "      100.00% [5/5 00:00<00:00]\n",
       "    </div>\n",
       "    "
      ],
      "text/plain": [
       "<IPython.core.display.HTML object>"
      ]
     },
     "metadata": {},
     "output_type": "display_data"
    },
    {
     "name": "stdout",
     "output_type": "stream",
     "text": [
      "Epoch 3: reducing lr to 0.0039\n",
      "Epoch 6: reducing lr to 0.0075\n",
      "Epoch 7: reducing lr to 0.007405980046763155\n",
      "Epoch 8: reducing lr to 0.0071286347401010525\n",
      "Epoch 9: reducing lr to 0.006681871331782875\n",
      "Epoch 10: early stopping\n",
      "Epoch 10: reducing lr to 0.006088092404623223\n"
     ]
    }
   ],
   "source": [
    "learn_new.fit_one_cycle(20, 3e-02)"
   ]
  },
  {
   "cell_type": "code",
   "execution_count": 63,
   "metadata": {},
   "outputs": [],
   "source": [
    "learn_new.save('v5 roc872')"
   ]
  },
  {
   "cell_type": "markdown",
   "metadata": {},
   "source": [
    "---"
   ]
  },
  {
   "cell_type": "markdown",
   "metadata": {},
   "source": [
    "**Get Predictions**"
   ]
  },
  {
   "cell_type": "code",
   "execution_count": 64,
   "metadata": {},
   "outputs": [],
   "source": [
    "preds, _ = learn_new.get_preds(ds_type=DatasetType.Test)"
   ]
  },
  {
   "cell_type": "code",
   "execution_count": 65,
   "metadata": {},
   "outputs": [
    {
     "data": {
      "text/plain": [
       "tensor([[0.7973, 0.2027],\n",
       "        [0.8239, 0.1761],\n",
       "        [0.9073, 0.0927],\n",
       "        ...,\n",
       "        [0.9945, 0.0055],\n",
       "        [0.9777, 0.0223],\n",
       "        [0.9332, 0.0668]])"
      ]
     },
     "execution_count": 65,
     "metadata": {},
     "output_type": "execute_result"
    }
   ],
   "source": [
    "preds"
   ]
  },
  {
   "cell_type": "code",
   "execution_count": 66,
   "metadata": {},
   "outputs": [],
   "source": [
    "test_probs = np.array(preds[:, 1])"
   ]
  },
  {
   "cell_type": "code",
   "execution_count": 67,
   "metadata": {},
   "outputs": [
    {
     "data": {
      "text/plain": [
       "array([0.202739, 0.176058, 0.092688, 0.134322, ..., 0.018886, 0.005465, 0.022348, 0.066793], dtype=float32)"
      ]
     },
     "execution_count": 67,
     "metadata": {},
     "output_type": "execute_result"
    }
   ],
   "source": [
    "test_probs"
   ]
  },
  {
   "cell_type": "code",
   "execution_count": 68,
   "metadata": {},
   "outputs": [],
   "source": [
    "sub_df = pd.DataFrame({'ID_code': test_df[\"ID_code\"], 'target': test_probs})"
   ]
  },
  {
   "cell_type": "code",
   "execution_count": 69,
   "metadata": {},
   "outputs": [
    {
     "data": {
      "text/html": [
       "<div>\n",
       "<style scoped>\n",
       "    .dataframe tbody tr th:only-of-type {\n",
       "        vertical-align: middle;\n",
       "    }\n",
       "\n",
       "    .dataframe tbody tr th {\n",
       "        vertical-align: top;\n",
       "    }\n",
       "\n",
       "    .dataframe thead th {\n",
       "        text-align: right;\n",
       "    }\n",
       "</style>\n",
       "<table border=\"1\" class=\"dataframe\">\n",
       "  <thead>\n",
       "    <tr style=\"text-align: right;\">\n",
       "      <th></th>\n",
       "      <th>ID_code</th>\n",
       "      <th>target</th>\n",
       "    </tr>\n",
       "  </thead>\n",
       "  <tbody>\n",
       "    <tr>\n",
       "      <th>0</th>\n",
       "      <td>test_0</td>\n",
       "      <td>0.202739</td>\n",
       "    </tr>\n",
       "    <tr>\n",
       "      <th>1</th>\n",
       "      <td>test_1</td>\n",
       "      <td>0.176058</td>\n",
       "    </tr>\n",
       "    <tr>\n",
       "      <th>2</th>\n",
       "      <td>test_2</td>\n",
       "      <td>0.092688</td>\n",
       "    </tr>\n",
       "    <tr>\n",
       "      <th>3</th>\n",
       "      <td>test_3</td>\n",
       "      <td>0.134322</td>\n",
       "    </tr>\n",
       "    <tr>\n",
       "      <th>4</th>\n",
       "      <td>test_4</td>\n",
       "      <td>0.038940</td>\n",
       "    </tr>\n",
       "  </tbody>\n",
       "</table>\n",
       "</div>"
      ],
      "text/plain": [
       "  ID_code    target\n",
       "0  test_0  0.202739\n",
       "1  test_1  0.176058\n",
       "2  test_2  0.092688\n",
       "3  test_3  0.134322\n",
       "4  test_4  0.038940"
      ]
     },
     "execution_count": 69,
     "metadata": {},
     "output_type": "execute_result"
    }
   ],
   "source": [
    "sub_df.head()"
   ]
  },
  {
   "cell_type": "code",
   "execution_count": 70,
   "metadata": {},
   "outputs": [],
   "source": [
    "sub_df.to_csv('submission3.csv', index=False)"
   ]
  },
  {
   "cell_type": "code",
   "execution_count": null,
   "metadata": {},
   "outputs": [],
   "source": []
  }
 ],
 "metadata": {
  "kernelspec": {
   "display_name": "Python 3",
   "language": "python",
   "name": "python3"
  },
  "language_info": {
   "codemirror_mode": {
    "name": "ipython",
    "version": 3
   },
   "file_extension": ".py",
   "mimetype": "text/x-python",
   "name": "python",
   "nbconvert_exporter": "python",
   "pygments_lexer": "ipython3",
   "version": "3.7.1"
  }
 },
 "nbformat": 4,
 "nbformat_minor": 2
}
